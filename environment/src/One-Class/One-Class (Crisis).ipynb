{
 "cells": [
  {
   "cell_type": "markdown",
   "metadata": {},
   "source": [
    "# SmartBeds - One-Class entrenado con crisis\n",
    "\n",
    "## Grado en Ingeniería Informática\n",
    "## Universidad de Burgos\n",
    "##### José Luis Garrido Labrador"
   ]
  },
  {
   "cell_type": "code",
   "execution_count": 1,
   "metadata": {},
   "outputs": [],
   "source": [
    "import pandas as pd # se importa pandas como pd\n",
    "import numpy as np  #numpy como np\n",
    "import matplotlib.pyplot as plt\n",
    "import sys\n",
    "sys.path.append('..')\n",
    "import pickle as pk\n",
    "from sklearn import metrics as mtr\n",
    "from sklearn import svm\n",
    "from transformers import MoveTargetsTransformer"
   ]
  },
  {
   "cell_type": "code",
   "execution_count": 2,
   "metadata": {},
   "outputs": [],
   "source": [
    "nombre = \"data/crisis_18-nov-10-\"\n",
    "datos = {'Raw':nombre+\"raw.pdd\",'SavGol':nombre+\"savgol.pdd\",'Butter':nombre+\"butter.pdd\",\n",
    "         'Stats':nombre+\"stats.pdd\",'SavGol-Stats':nombre+\"savgol-stats.pdd\",\"Butter-Stats\":nombre+\"butter-stats.pdd\"}"
   ]
  },
  {
   "cell_type": "markdown",
   "metadata": {},
   "source": [
    "### Trainer"
   ]
  },
  {
   "cell_type": "code",
   "execution_count": 51,
   "metadata": {},
   "outputs": [],
   "source": [
    "def train(dataframe):\n",
    "    data = dataframe.iloc[:,1:len(dataframe.columns)-1]\n",
    "    clf = svm.OneClassSVM(nu=0.1, kernel=\"rbf\", gamma=0.1)\n",
    "    clf.fit(data)\n",
    "    return clf\n",
    "def predict(dataframe,classifier):\n",
    "    data = dataframe.iloc[:,1:len(dataframe.columns)-1]\n",
    "    return classifier.predict(data)\n",
    "def score(dataframe,classifier):\n",
    "    data = dataframe.iloc[:,1:len(dataframe.columns)-1]\n",
    "    return classifier.score_samples(data)"
   ]
  },
  {
   "cell_type": "markdown",
   "metadata": {},
   "source": [
    "### Raw"
   ]
  },
  {
   "cell_type": "code",
   "execution_count": 52,
   "metadata": {},
   "outputs": [],
   "source": [
    "with open(datos['Raw'],'rb') as f:\n",
    "    raw = pk.load(f)\n",
    "crisis = raw[raw['target']==True]\n",
    "no_crisis = raw[raw['target']==False]"
   ]
  },
  {
   "cell_type": "code",
   "execution_count": 53,
   "metadata": {},
   "outputs": [],
   "source": [
    "raw_clf = train(crisis)"
   ]
  },
  {
   "cell_type": "code",
   "execution_count": 54,
   "metadata": {},
   "outputs": [],
   "source": [
    "y = predict(raw,raw_clf)\n",
    "y[y==-1]=0\n",
    "y=y.astype('bool')"
   ]
  },
  {
   "cell_type": "code",
   "execution_count": 55,
   "metadata": {
    "scrolled": true
   },
   "outputs": [
    {
     "data": {
      "text/plain": [
       "array([[103419,      6],\n",
       "       [    71,    553]])"
      ]
     },
     "execution_count": 55,
     "metadata": {},
     "output_type": "execute_result"
    }
   ],
   "source": [
    "mtr.confusion_matrix(raw['target'],y)"
   ]
  },
  {
   "cell_type": "code",
   "execution_count": 56,
   "metadata": {},
   "outputs": [
    {
     "name": "stdout",
     "output_type": "stream",
     "text": [
      "0.9950230254798782\n"
     ]
    },
    {
     "data": {
      "text/plain": [
       "[<matplotlib.lines.Line2D at 0x7f9eee2567f0>]"
      ]
     },
     "execution_count": 56,
     "metadata": {},
     "output_type": "execute_result"
    },
    {
     "data": {
      "image/png": "[encoded data removed]",
      "text/plain": [
       "<Figure size 432x288 with 1 Axes>"
      ]
     },
     "metadata": {
      "needs_background": "light"
     },
     "output_type": "display_data"
    }
   ],
   "source": [
    "scr = score(raw,raw_clf)\n",
    "fpr, tpr, thr = mtr.roc_curve(raw['target'],scr)\n",
    "print(mtr.roc_auc_score(raw['target'],scr))\n",
    "plt.plot([0, 1], [0, 1], 'k--')\n",
    "plt.plot(fpr,tpr)"
   ]
  },
  {
   "cell_type": "markdown",
   "metadata": {},
   "source": [
    "### SavGol"
   ]
  },
  {
   "cell_type": "code",
   "execution_count": 9,
   "metadata": {},
   "outputs": [],
   "source": [
    "with open(datos['SavGol'],'rb') as f:\n",
    "    savgol = pk.load(f)\n",
    "crisis = savgol[savgol['target']==True]\n",
    "no_crisis = savgol[savgol['target']==False]"
   ]
  },
  {
   "cell_type": "code",
   "execution_count": 10,
   "metadata": {},
   "outputs": [],
   "source": [
    "savgol_clf = train(crisis)"
   ]
  },
  {
   "cell_type": "code",
   "execution_count": 11,
   "metadata": {},
   "outputs": [],
   "source": [
    "y = predict(savgol,savgol_clf)\n",
    "y[y==-1]=0\n",
    "y=y.astype('bool')"
   ]
  },
  {
   "cell_type": "code",
   "execution_count": 12,
   "metadata": {
    "scrolled": true
   },
   "outputs": [
    {
     "data": {
      "text/plain": [
       "array([[103421,      4],\n",
       "       [    62,    562]])"
      ]
     },
     "execution_count": 12,
     "metadata": {},
     "output_type": "execute_result"
    }
   ],
   "source": [
    "mtr.confusion_matrix(savgol['target'],y)"
   ]
  },
  {
   "cell_type": "code",
   "execution_count": 13,
   "metadata": {},
   "outputs": [
    {
     "name": "stdout",
     "output_type": "stream",
     "text": [
      "0.9986164723601272\n"
     ]
    },
    {
     "data": {
      "text/plain": [
       "[<matplotlib.lines.Line2D at 0x7f9f28462a90>]"
      ]
     },
     "execution_count": 13,
     "metadata": {},
     "output_type": "execute_result"
    },
    {
     "data": {
      "image/png": "[encoded data removed]",
      "text/plain": [
       "<Figure size 432x288 with 1 Axes>"
      ]
     },
     "metadata": {
      "needs_background": "light"
     },
     "output_type": "display_data"
    }
   ],
   "source": [
    "scr = score(savgol,savgol_clf)\n",
    "fpr, tpr, thr = mtr.roc_curve(savgol['target'],scr)\n",
    "print(mtr.roc_auc_score(savgol['target'],scr))\n",
    "plt.plot([0, 1], [0, 1], 'k--')\n",
    "plt.plot(fpr,tpr)"
   ]
  },
  {
   "cell_type": "markdown",
   "metadata": {},
   "source": [
    "### Butter"
   ]
  },
  {
   "cell_type": "code",
   "execution_count": 14,
   "metadata": {},
   "outputs": [],
   "source": [
    "with open(datos['Butter'],'rb') as f:\n",
    "    butter = pk.load(f)\n",
    "crisis = butter[butter['target']==True]\n",
    "no_crisis = butter[butter['target']==False]"
   ]
  },
  {
   "cell_type": "code",
   "execution_count": 15,
   "metadata": {},
   "outputs": [],
   "source": [
    "butter_clf = train(crisis)"
   ]
  },
  {
   "cell_type": "code",
   "execution_count": 16,
   "metadata": {},
   "outputs": [],
   "source": [
    "y = predict(butter,butter_clf)\n",
    "y[y==-1]=0\n",
    "y=y.astype('bool')"
   ]
  },
  {
   "cell_type": "code",
   "execution_count": 17,
   "metadata": {
    "scrolled": true
   },
   "outputs": [
    {
     "data": {
      "text/plain": [
       "array([[103425,      0],\n",
       "       [    62,    562]])"
      ]
     },
     "execution_count": 17,
     "metadata": {},
     "output_type": "execute_result"
    }
   ],
   "source": [
    "mtr.confusion_matrix(butter['target'],y)"
   ]
  },
  {
   "cell_type": "code",
   "execution_count": 18,
   "metadata": {},
   "outputs": [
    {
     "name": "stdout",
     "output_type": "stream",
     "text": [
      "0.999529635621006\n"
     ]
    },
    {
     "data": {
      "text/plain": [
       "[<matplotlib.lines.Line2D at 0x7f9ef5151588>]"
      ]
     },
     "execution_count": 18,
     "metadata": {},
     "output_type": "execute_result"
    },
    {
     "data": {
      "image/png": "[encoded data removed]",
      "text/plain": [
       "<Figure size 432x288 with 1 Axes>"
      ]
     },
     "metadata": {
      "needs_background": "light"
     },
     "output_type": "display_data"
    }
   ],
   "source": [
    "scr = score(butter,butter_clf)\n",
    "fpr, tpr, thr = mtr.roc_curve(butter['target'],scr)\n",
    "print(mtr.roc_auc_score(butter['target'],scr))\n",
    "plt.plot([0, 1], [0, 1], 'k--')\n",
    "plt.plot(fpr,tpr)"
   ]
  },
  {
   "cell_type": "markdown",
   "metadata": {},
   "source": [
    "### Stats"
   ]
  },
  {
   "cell_type": "code",
   "execution_count": 19,
   "metadata": {},
   "outputs": [],
   "source": [
    "trueT = MoveTargetsTransformer(window = 25) #Definición manual de la ventana por conocimiento del equipo"
   ]
  },
  {
   "cell_type": "code",
   "execution_count": 20,
   "metadata": {},
   "outputs": [
    {
     "data": {
      "text/html": [
       "<div>\n",
       "<style scoped>\n",
       "    .dataframe tbody tr th:only-of-type {\n",
       "        vertical-align: middle;\n",
       "    }\n",
       "\n",
       "    .dataframe tbody tr th {\n",
       "        vertical-align: top;\n",
       "    }\n",
       "\n",
       "    .dataframe thead th {\n",
       "        text-align: right;\n",
       "    }\n",
       "</style>\n",
       "<table border=\"1\" class=\"dataframe\">\n",
       "  <thead>\n",
       "    <tr style=\"text-align: right;\">\n",
       "      <th></th>\n",
       "      <th>DateTime</th>\n",
       "      <th>P1 mean 25</th>\n",
       "      <th>P2 mean 25</th>\n",
       "      <th>P3 mean 25</th>\n",
       "      <th>P4 mean 25</th>\n",
       "      <th>P5 mean 25</th>\n",
       "      <th>P6 mean 25</th>\n",
       "      <th>P1 std 25</th>\n",
       "      <th>P2 std 25</th>\n",
       "      <th>P3 std 25</th>\n",
       "      <th>P4 std 25</th>\n",
       "      <th>P5 std 25</th>\n",
       "      <th>P6 std 25</th>\n",
       "      <th>P1 range 25</th>\n",
       "      <th>P2 range 25</th>\n",
       "      <th>P3 range 25</th>\n",
       "      <th>P4 range 25</th>\n",
       "      <th>P5 range 25</th>\n",
       "      <th>P6 range 25</th>\n",
       "      <th>target</th>\n",
       "    </tr>\n",
       "  </thead>\n",
       "  <tbody>\n",
       "    <tr>\n",
       "      <th>4147857</th>\n",
       "      <td>2018-11-10 03:36:20</td>\n",
       "      <td>1.507062e-15</td>\n",
       "      <td>51.808067</td>\n",
       "      <td>49.235049</td>\n",
       "      <td>64.255911</td>\n",
       "      <td>66.968011</td>\n",
       "      <td>43.463143</td>\n",
       "      <td>0.0</td>\n",
       "      <td>10.982741</td>\n",
       "      <td>7.034836</td>\n",
       "      <td>10.208634</td>\n",
       "      <td>13.458740</td>\n",
       "      <td>10.824708</td>\n",
       "      <td>0.0</td>\n",
       "      <td>18.644068</td>\n",
       "      <td>13.559322</td>\n",
       "      <td>16.949153</td>\n",
       "      <td>18.644068</td>\n",
       "      <td>13.559322</td>\n",
       "      <td>True</td>\n",
       "    </tr>\n",
       "    <tr>\n",
       "      <th>4147858</th>\n",
       "      <td>2018-11-10 03:36:20</td>\n",
       "      <td>1.507062e-15</td>\n",
       "      <td>51.668985</td>\n",
       "      <td>49.026426</td>\n",
       "      <td>63.977747</td>\n",
       "      <td>66.550765</td>\n",
       "      <td>43.045897</td>\n",
       "      <td>0.0</td>\n",
       "      <td>10.625483</td>\n",
       "      <td>6.563443</td>\n",
       "      <td>10.168043</td>\n",
       "      <td>12.829475</td>\n",
       "      <td>9.759909</td>\n",
       "      <td>0.0</td>\n",
       "      <td>15.254237</td>\n",
       "      <td>13.559322</td>\n",
       "      <td>16.949153</td>\n",
       "      <td>18.644068</td>\n",
       "      <td>13.559322</td>\n",
       "      <td>True</td>\n",
       "    </tr>\n",
       "    <tr>\n",
       "      <th>4147859</th>\n",
       "      <td>2018-11-10 03:36:21</td>\n",
       "      <td>1.507062e-15</td>\n",
       "      <td>52.016690</td>\n",
       "      <td>48.817803</td>\n",
       "      <td>63.908206</td>\n",
       "      <td>66.620306</td>\n",
       "      <td>42.767733</td>\n",
       "      <td>0.0</td>\n",
       "      <td>10.412526</td>\n",
       "      <td>6.420108</td>\n",
       "      <td>10.106850</td>\n",
       "      <td>12.294505</td>\n",
       "      <td>9.910582</td>\n",
       "      <td>0.0</td>\n",
       "      <td>15.254237</td>\n",
       "      <td>13.559322</td>\n",
       "      <td>16.949153</td>\n",
       "      <td>18.644068</td>\n",
       "      <td>13.559322</td>\n",
       "      <td>True</td>\n",
       "    </tr>\n",
       "    <tr>\n",
       "      <th>4147860</th>\n",
       "      <td>2018-11-10 03:36:21</td>\n",
       "      <td>1.507062e-15</td>\n",
       "      <td>51.738526</td>\n",
       "      <td>48.887344</td>\n",
       "      <td>63.838665</td>\n",
       "      <td>66.411683</td>\n",
       "      <td>42.837274</td>\n",
       "      <td>0.0</td>\n",
       "      <td>10.686931</td>\n",
       "      <td>6.339077</td>\n",
       "      <td>10.296032</td>\n",
       "      <td>12.861670</td>\n",
       "      <td>9.812732</td>\n",
       "      <td>0.0</td>\n",
       "      <td>15.254237</td>\n",
       "      <td>13.559322</td>\n",
       "      <td>16.949153</td>\n",
       "      <td>18.644068</td>\n",
       "      <td>13.559322</td>\n",
       "      <td>True</td>\n",
       "    </tr>\n",
       "    <tr>\n",
       "      <th>4147861</th>\n",
       "      <td>2018-11-10 03:36:21</td>\n",
       "      <td>1.507062e-15</td>\n",
       "      <td>52.642559</td>\n",
       "      <td>49.095967</td>\n",
       "      <td>64.116829</td>\n",
       "      <td>66.828929</td>\n",
       "      <td>42.837274</td>\n",
       "      <td>0.0</td>\n",
       "      <td>7.251937</td>\n",
       "      <td>4.408758</td>\n",
       "      <td>9.218776</td>\n",
       "      <td>11.673338</td>\n",
       "      <td>9.724534</td>\n",
       "      <td>0.0</td>\n",
       "      <td>11.864407</td>\n",
       "      <td>6.779661</td>\n",
       "      <td>11.864407</td>\n",
       "      <td>13.559322</td>\n",
       "      <td>11.864407</td>\n",
       "      <td>True</td>\n",
       "    </tr>\n",
       "  </tbody>\n",
       "</table>\n",
       "</div>"
      ],
      "text/plain": [
       "                   DateTime    P1 mean 25  P2 mean 25  P3 mean 25  P4 mean 25  \\\n",
       "4147857 2018-11-10 03:36:20  1.507062e-15   51.808067   49.235049   64.255911   \n",
       "4147858 2018-11-10 03:36:20  1.507062e-15   51.668985   49.026426   63.977747   \n",
       "4147859 2018-11-10 03:36:21  1.507062e-15   52.016690   48.817803   63.908206   \n",
       "4147860 2018-11-10 03:36:21  1.507062e-15   51.738526   48.887344   63.838665   \n",
       "4147861 2018-11-10 03:36:21  1.507062e-15   52.642559   49.095967   64.116829   \n",
       "\n",
       "         P5 mean 25  P6 mean 25  P1 std 25  P2 std 25  P3 std 25  P4 std 25  \\\n",
       "4147857   66.968011   43.463143        0.0  10.982741   7.034836  10.208634   \n",
       "4147858   66.550765   43.045897        0.0  10.625483   6.563443  10.168043   \n",
       "4147859   66.620306   42.767733        0.0  10.412526   6.420108  10.106850   \n",
       "4147860   66.411683   42.837274        0.0  10.686931   6.339077  10.296032   \n",
       "4147861   66.828929   42.837274        0.0   7.251937   4.408758   9.218776   \n",
       "\n",
       "         P5 std 25  P6 std 25  P1 range 25  P2 range 25  P3 range 25  \\\n",
       "4147857  13.458740  10.824708          0.0    18.644068    13.559322   \n",
       "4147858  12.829475   9.759909          0.0    15.254237    13.559322   \n",
       "4147859  12.294505   9.910582          0.0    15.254237    13.559322   \n",
       "4147860  12.861670   9.812732          0.0    15.254237    13.559322   \n",
       "4147861  11.673338   9.724534          0.0    11.864407     6.779661   \n",
       "\n",
       "         P4 range 25  P5 range 25  P6 range 25  target  \n",
       "4147857    16.949153    18.644068    13.559322    True  \n",
       "4147858    16.949153    18.644068    13.559322    True  \n",
       "4147859    16.949153    18.644068    13.559322    True  \n",
       "4147860    16.949153    18.644068    13.559322    True  \n",
       "4147861    11.864407    13.559322    11.864407    True  "
      ]
     },
     "execution_count": 20,
     "metadata": {},
     "output_type": "execute_result"
    }
   ],
   "source": [
    "with open(datos['Stats'],'rb') as f:\n",
    "    stats = pk.load(f).dropna()\n",
    "stats = trueT.fit_transform(stats)\n",
    "crisis = stats[stats['target']==True]\n",
    "no_crisis = stats[stats['target']==False]\n",
    "crisis.head()"
   ]
  },
  {
   "cell_type": "code",
   "execution_count": 21,
   "metadata": {},
   "outputs": [],
   "source": [
    "stats_clf = train(crisis)"
   ]
  },
  {
   "cell_type": "code",
   "execution_count": 22,
   "metadata": {},
   "outputs": [],
   "source": [
    "y = predict(stats,stats_clf)\n",
    "y[y==-1]=0\n",
    "y=y.astype('bool')"
   ]
  },
  {
   "cell_type": "code",
   "execution_count": 23,
   "metadata": {
    "scrolled": true
   },
   "outputs": [
    {
     "data": {
      "text/plain": [
       "array([[103426,      0],\n",
       "       [    59,    540]])"
      ]
     },
     "execution_count": 23,
     "metadata": {},
     "output_type": "execute_result"
    }
   ],
   "source": [
    "mtr.confusion_matrix(stats['target'],y)"
   ]
  },
  {
   "cell_type": "code",
   "execution_count": 44,
   "metadata": {},
   "outputs": [
    {
     "name": "stdout",
     "output_type": "stream",
     "text": [
      "0.14537110982433044\n",
      "1.0\n"
     ]
    },
    {
     "data": {
      "text/plain": [
       "[<matplotlib.lines.Line2D at 0x7f9ef40d0160>]"
      ]
     },
     "execution_count": 44,
     "metadata": {},
     "output_type": "execute_result"
    },
    {
     "data": {
      "image/png": "[encoded data removed]",
      "text/plain": [
       "<Figure size 432x288 with 1 Axes>"
      ]
     },
     "metadata": {
      "needs_background": "light"
     },
     "output_type": "display_data"
    }
   ],
   "source": [
    "scr = score(stats,stats_clf)\n",
    "fpr, tpr, thr = mtr.roc_curve(stats['target'],scr)\n",
    "print(mtr.roc_auc_score(stats['target'],scr))\n",
    "plt.plot([0, 1], [0, 1], 'k--')\n",
    "plt.plot(fpr,tpr)"
   ]
  },
  {
   "cell_type": "markdown",
   "metadata": {},
   "source": [
    "### SavGol Stats"
   ]
  },
  {
   "cell_type": "code",
   "execution_count": 25,
   "metadata": {},
   "outputs": [],
   "source": [
    "with open(datos['SavGol-Stats'],'rb') as f:\n",
    "    savgol_s = pk.load(f).dropna()\n",
    "savgol_s = trueT.fit_transform(savgol_s)\n",
    "crisis = savgol_s[savgol_s['target']==True]\n",
    "no_crisis = savgol_s[savgol_s['target']==False]"
   ]
  },
  {
   "cell_type": "code",
   "execution_count": 26,
   "metadata": {},
   "outputs": [],
   "source": [
    "savgol_s_clf = train(crisis)"
   ]
  },
  {
   "cell_type": "code",
   "execution_count": 27,
   "metadata": {},
   "outputs": [],
   "source": [
    "y = predict(savgol_s,savgol_s_clf)\n",
    "y[y==-1]=0\n",
    "y=y.astype('bool')"
   ]
  },
  {
   "cell_type": "code",
   "execution_count": 28,
   "metadata": {
    "scrolled": true
   },
   "outputs": [
    {
     "data": {
      "text/plain": [
       "array([[103426,      0],\n",
       "       [    60,    539]])"
      ]
     },
     "execution_count": 28,
     "metadata": {},
     "output_type": "execute_result"
    }
   ],
   "source": [
    "mtr.confusion_matrix(savgol_s['target'],y)"
   ]
  },
  {
   "cell_type": "code",
   "execution_count": 29,
   "metadata": {},
   "outputs": [
    {
     "name": "stdout",
     "output_type": "stream",
     "text": [
      "1.0\n"
     ]
    },
    {
     "data": {
      "text/plain": [
       "[<matplotlib.lines.Line2D at 0x7f9ef4303b70>]"
      ]
     },
     "execution_count": 29,
     "metadata": {},
     "output_type": "execute_result"
    },
    {
     "data": {
      "image/png": "[encoded data removed]",
      "text/plain": [
       "<Figure size 432x288 with 1 Axes>"
      ]
     },
     "metadata": {
      "needs_background": "light"
     },
     "output_type": "display_data"
    }
   ],
   "source": [
    "scr = score(savgol_s,savgol_s_clf)\n",
    "fpr, tpr, thr = mtr.roc_curve(savgol_s['target'],scr)\n",
    "print(mtr.roc_auc_score(savgol_s['target'],scr))\n",
    "plt.plot([0, 1], [0, 1], 'k--')\n",
    "plt.plot(fpr,tpr)"
   ]
  },
  {
   "cell_type": "markdown",
   "metadata": {},
   "source": [
    "### Butter Stats"
   ]
  },
  {
   "cell_type": "code",
   "execution_count": 34,
   "metadata": {},
   "outputs": [],
   "source": [
    "with open(datos['Butter-Stats'],'rb') as f:\n",
    "    butter_s = pk.load(f).dropna()\n",
    "butter_s = trueT.fit_transform(butter_s)\n",
    "crisis = butter_s[butter_s['target']==True]\n",
    "no_crisis = butter_s[butter_s['target']==False]"
   ]
  },
  {
   "cell_type": "code",
   "execution_count": 35,
   "metadata": {},
   "outputs": [],
   "source": [
    "butter_s_clf = train(crisis)"
   ]
  },
  {
   "cell_type": "code",
   "execution_count": 36,
   "metadata": {},
   "outputs": [],
   "source": [
    "y = predict(butter_s,butter_s_clf)\n",
    "y[y==-1]=0\n",
    "y=y.astype('bool')"
   ]
  },
  {
   "cell_type": "code",
   "execution_count": 37,
   "metadata": {
    "scrolled": true
   },
   "outputs": [
    {
     "data": {
      "text/plain": [
       "array([[103426,      0],\n",
       "       [    61,    538]])"
      ]
     },
     "execution_count": 37,
     "metadata": {},
     "output_type": "execute_result"
    }
   ],
   "source": [
    "mtr.confusion_matrix(butter_s['target'],y)"
   ]
  },
  {
   "cell_type": "code",
   "execution_count": 38,
   "metadata": {},
   "outputs": [
    {
     "name": "stdout",
     "output_type": "stream",
     "text": [
      "1.0\n"
     ]
    },
    {
     "data": {
      "text/plain": [
       "[<matplotlib.lines.Line2D at 0x7f9ef42e2358>]"
      ]
     },
     "execution_count": 38,
     "metadata": {},
     "output_type": "execute_result"
    },
    {
     "data": {
      "image/png": "[encoded data removed]",
      "text/plain": [
       "<Figure size 432x288 with 1 Axes>"
      ]
     },
     "metadata": {
      "needs_background": "light"
     },
     "output_type": "display_data"
    }
   ],
   "source": [
    "scr = score(butter_s,butter_s_clf)\n",
    "fpr, tpr, thr = mtr.roc_curve(butter_s['target'],scr)\n",
    "print(mtr.roc_auc_score(butter_s['target'],scr))\n",
    "plt.plot([0, 1], [0, 1], 'k--')\n",
    "plt.plot(fpr,tpr)"
   ]
  },
  {
   "cell_type": "markdown",
   "metadata": {},
   "source": [
    "### Almacenado de clasificadores"
   ]
  },
  {
   "cell_type": "code",
   "execution_count": 39,
   "metadata": {},
   "outputs": [],
   "source": [
    "clasificadores = [raw_clf,savgol_clf,butter_clf,stats_clf,savgol_s_clf,butter_s_clf]\n",
    "nombres = [\"RAW\",\"SAVGOL\",\"BUTTER\",\"STATS\",\"SAVGOL-STATS\",\"BUTTER_STATS\"]\n",
    "for i in range(len(nombres)):\n",
    "    with open(\"classifiers/\"+nombres[i]+\"-seizure-classifier.pkl\",'wb') as f:\n",
    "        pk.dump(clasificadores[i],f)"
   ]
  },
  {
   "cell_type": "code",
   "execution_count": null,
   "metadata": {},
   "outputs": [],
   "source": []
  }
 ],
 "metadata": {
  "kernelspec": {
   "display_name": "Python (TFG)",
   "language": "python",
   "name": "tfg"
  },
  "language_info": {
   "codemirror_mode": {
    "name": "ipython",
    "version": 3
   },
   "file_extension": ".py",
   "mimetype": "text/x-python",
   "name": "python",
   "nbconvert_exporter": "python",
   "pygments_lexer": "ipython3",
   "version": "3.6.8"
  }
 },
 "nbformat": 4,
 "nbformat_minor": 2
}
