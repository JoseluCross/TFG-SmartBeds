{
 "cells": [
  {
   "cell_type": "markdown",
   "metadata": {},
   "source": [
    "# SmartBeds - Preprocesado de One-Class\n",
    "\n",
    "## Grado en Ingeniería Informática\n",
    "## Universidad de Burgos\n",
    "##### José Luis Garrido Labrador"
   ]
  },
  {
   "cell_type": "code",
   "execution_count": 1,
   "metadata": {},
   "outputs": [],
   "source": [
    "import pandas as pd # se importa pandas como pd\n",
    "import numpy as np  #numpy como np\n",
    "import matplotlib.pyplot as plt\n",
    "import sys\n",
    "sys.path.append('..')\n",
    "from transformers import *\n",
    "import pickle as pk\n",
    "from utils import dibujado, start_end"
   ]
  },
  {
   "cell_type": "code",
   "execution_count": 2,
   "metadata": {},
   "outputs": [],
   "source": [
    "import warnings\n",
    "warnings.filterwarnings('ignore')"
   ]
  },
  {
   "cell_type": "markdown",
   "metadata": {},
   "source": [
    "### Carga de los datos"
   ]
  },
  {
   "cell_type": "code",
   "execution_count": 3,
   "metadata": {},
   "outputs": [
    {
     "name": "stdout",
     "output_type": "stream",
     "text": [
      "98\n"
     ]
    }
   ],
   "source": [
    "trozos_limpios = None\n",
    "with open('../data/trozos_limpios.pkl','rb') as f:\n",
    "    trozos_limpios = pk.load(f)\n",
    "print(len(trozos_limpios))"
   ]
  },
  {
   "cell_type": "markdown",
   "metadata": {},
   "source": [
    "Extraemos los día que tienen crisis"
   ]
  },
  {
   "cell_type": "code",
   "execution_count": 4,
   "metadata": {},
   "outputs": [
    {
     "data": {
      "text/plain": [
       "3"
      ]
     },
     "execution_count": 4,
     "metadata": {},
     "output_type": "execute_result"
    }
   ],
   "source": [
    "dias_crisis = []\n",
    "for tl in trozos_limpios:\n",
    "    for index,row in tl.iterrows():\n",
    "        if row['target']:\n",
    "            dias_crisis.append(tl)\n",
    "            break\n",
    "len(dias_crisis)"
   ]
  },
  {
   "cell_type": "code",
   "execution_count": 5,
   "metadata": {},
   "outputs": [
    {
     "data": {
      "text/html": [
       "<div>\n",
       "<style scoped>\n",
       "    .dataframe tbody tr th:only-of-type {\n",
       "        vertical-align: middle;\n",
       "    }\n",
       "\n",
       "    .dataframe tbody tr th {\n",
       "        vertical-align: top;\n",
       "    }\n",
       "\n",
       "    .dataframe thead th {\n",
       "        text-align: right;\n",
       "    }\n",
       "</style>\n",
       "<table border=\"1\" class=\"dataframe\">\n",
       "  <thead>\n",
       "    <tr style=\"text-align: right;\">\n",
       "      <th></th>\n",
       "      <th>DateTime</th>\n",
       "      <th>P1</th>\n",
       "      <th>P2</th>\n",
       "      <th>P3</th>\n",
       "      <th>P4</th>\n",
       "      <th>P5</th>\n",
       "      <th>P6</th>\n",
       "      <th>target</th>\n",
       "    </tr>\n",
       "  </thead>\n",
       "  <tbody>\n",
       "    <tr>\n",
       "      <th>4089271</th>\n",
       "      <td>2018-11-09 21:03:27</td>\n",
       "      <td>4.098361</td>\n",
       "      <td>18.852459</td>\n",
       "      <td>21.311475</td>\n",
       "      <td>22.131148</td>\n",
       "      <td>13.114754</td>\n",
       "      <td>6.557377</td>\n",
       "      <td>False</td>\n",
       "    </tr>\n",
       "    <tr>\n",
       "      <th>4089270</th>\n",
       "      <td>2018-11-09 21:03:27</td>\n",
       "      <td>4.098361</td>\n",
       "      <td>18.852459</td>\n",
       "      <td>22.131148</td>\n",
       "      <td>22.131148</td>\n",
       "      <td>13.114754</td>\n",
       "      <td>6.557377</td>\n",
       "      <td>False</td>\n",
       "    </tr>\n",
       "    <tr>\n",
       "      <th>4089272</th>\n",
       "      <td>2018-11-09 21:03:28</td>\n",
       "      <td>4.918033</td>\n",
       "      <td>19.672131</td>\n",
       "      <td>22.131148</td>\n",
       "      <td>22.950820</td>\n",
       "      <td>13.934426</td>\n",
       "      <td>7.377049</td>\n",
       "      <td>False</td>\n",
       "    </tr>\n",
       "    <tr>\n",
       "      <th>4089273</th>\n",
       "      <td>2018-11-09 21:03:29</td>\n",
       "      <td>4.098361</td>\n",
       "      <td>18.852459</td>\n",
       "      <td>21.311475</td>\n",
       "      <td>22.131148</td>\n",
       "      <td>13.114754</td>\n",
       "      <td>6.557377</td>\n",
       "      <td>False</td>\n",
       "    </tr>\n",
       "    <tr>\n",
       "      <th>4089274</th>\n",
       "      <td>2018-11-09 21:03:30</td>\n",
       "      <td>0.000000</td>\n",
       "      <td>18.852459</td>\n",
       "      <td>22.131148</td>\n",
       "      <td>22.950820</td>\n",
       "      <td>13.114754</td>\n",
       "      <td>6.557377</td>\n",
       "      <td>False</td>\n",
       "    </tr>\n",
       "  </tbody>\n",
       "</table>\n",
       "</div>"
      ],
      "text/plain": [
       "                   DateTime        P1         P2         P3         P4  \\\n",
       "4089271 2018-11-09 21:03:27  4.098361  18.852459  21.311475  22.131148   \n",
       "4089270 2018-11-09 21:03:27  4.098361  18.852459  22.131148  22.131148   \n",
       "4089272 2018-11-09 21:03:28  4.918033  19.672131  22.131148  22.950820   \n",
       "4089273 2018-11-09 21:03:29  4.098361  18.852459  21.311475  22.131148   \n",
       "4089274 2018-11-09 21:03:30  0.000000  18.852459  22.131148  22.950820   \n",
       "\n",
       "                P5        P6  target  \n",
       "4089271  13.114754  6.557377   False  \n",
       "4089270  13.114754  6.557377   False  \n",
       "4089272  13.934426  7.377049   False  \n",
       "4089273  13.114754  6.557377   False  \n",
       "4089274  13.114754  6.557377   False  "
      ]
     },
     "execution_count": 5,
     "metadata": {},
     "output_type": "execute_result"
    }
   ],
   "source": [
    "dias_crisis[0].head()"
   ]
  },
  {
   "cell_type": "code",
   "execution_count": 6,
   "metadata": {},
   "outputs": [],
   "source": [
    "#Almacenamos las crisis detectadas\n",
    "with open('data/crisis_separadas.pkl','wb') as f:\n",
    "    pk.dump(dias_crisis,f)"
   ]
  },
  {
   "cell_type": "markdown",
   "metadata": {},
   "source": [
    "### Operaciones sobre los datos"
   ]
  },
  {
   "cell_type": "code",
   "execution_count": 7,
   "metadata": {},
   "outputs": [],
   "source": [
    "svg = SavgolTransformer(15)\n",
    "btr = ButterTransformer(3,0.05)\n",
    "nor = Normalizer(max_=100)\n",
    "avg = PipelineTransformer(StatisticsTransformer(mode='mean',window=25),nor)\n",
    "std = PipelineTransformer(StatisticsTransformer(mode='std',window=25),nor)\n",
    "ran = PipelineTransformer(StatisticsTransformer(mode='range',window=25),nor)\n",
    "var = VarianceThresholdPD(threshold=0.5)\n",
    "con = ConcatenateTransformer(avg,std,ran)\n",
    "\n",
    "pps = PipelineTransformer(svg,con)\n",
    "ppb = PipelineTransformer(btr,con)\n",
    "ppr = PipelineTransformer(con)\n",
    "ppr_s = PipelineTransformer(svg)\n",
    "ppr_b = PipelineTransformer(btr)"
   ]
  },
  {
   "cell_type": "markdown",
   "metadata": {},
   "source": [
    "### Preprocesamiento de las crisis por separado"
   ]
  },
  {
   "cell_type": "markdown",
   "metadata": {},
   "source": [
    "#### Crisis del 10 de Noviembre de 2018\n",
    "Se considera el inicio de la crisis a las 2018-11-10 03:36:10 y el final a las 2018-11-10 03:40:37. Considerando el inicio cuando P1 comienza a valor 0 y terminando cuando P1 baja de 8"
   ]
  },
  {
   "cell_type": "code",
   "execution_count": 8,
   "metadata": {},
   "outputs": [],
   "source": [
    "crisis_analisis = dias_crisis[0]\n",
    "start = pd.to_datetime(\"2018-11-10 03:36:10\")\n",
    "end = pd.to_datetime(\"2018-11-10 03:40:37\")\n",
    "\n",
    "crisis_10_nov = crisis_analisis.copy()\n",
    "mask = (crisis_10_nov['DateTime'] < start) | (crisis_10_nov['DateTime'] > end)\n",
    "crisis_10_nov.loc[mask,'target']=False"
   ]
  },
  {
   "cell_type": "code",
   "execution_count": 9,
   "metadata": {},
   "outputs": [],
   "source": [
    "with open('data/crisis_18-nov-10-raw.pdd','wb') as fil:\n",
    "    pk.dump(crisis_10_nov,fil)"
   ]
  },
  {
   "cell_type": "code",
   "execution_count": 10,
   "metadata": {},
   "outputs": [
    {
     "data": {
      "text/html": [
       "<div>\n",
       "<style scoped>\n",
       "    .dataframe tbody tr th:only-of-type {\n",
       "        vertical-align: middle;\n",
       "    }\n",
       "\n",
       "    .dataframe tbody tr th {\n",
       "        vertical-align: top;\n",
       "    }\n",
       "\n",
       "    .dataframe thead th {\n",
       "        text-align: right;\n",
       "    }\n",
       "</style>\n",
       "<table border=\"1\" class=\"dataframe\">\n",
       "  <thead>\n",
       "    <tr style=\"text-align: right;\">\n",
       "      <th></th>\n",
       "      <th>P1</th>\n",
       "      <th>P2</th>\n",
       "      <th>P3</th>\n",
       "      <th>P4</th>\n",
       "      <th>P5</th>\n",
       "      <th>P6</th>\n",
       "    </tr>\n",
       "  </thead>\n",
       "  <tbody>\n",
       "    <tr>\n",
       "      <th>4089271</th>\n",
       "      <td>4.098361</td>\n",
       "      <td>18.852459</td>\n",
       "      <td>21.311475</td>\n",
       "      <td>22.131148</td>\n",
       "      <td>13.114754</td>\n",
       "      <td>6.557377</td>\n",
       "    </tr>\n",
       "    <tr>\n",
       "      <th>4089270</th>\n",
       "      <td>4.098361</td>\n",
       "      <td>18.852459</td>\n",
       "      <td>22.131148</td>\n",
       "      <td>22.131148</td>\n",
       "      <td>13.114754</td>\n",
       "      <td>6.557377</td>\n",
       "    </tr>\n",
       "    <tr>\n",
       "      <th>4089272</th>\n",
       "      <td>4.918033</td>\n",
       "      <td>19.672131</td>\n",
       "      <td>22.131148</td>\n",
       "      <td>22.950820</td>\n",
       "      <td>13.934426</td>\n",
       "      <td>7.377049</td>\n",
       "    </tr>\n",
       "    <tr>\n",
       "      <th>4089273</th>\n",
       "      <td>4.098361</td>\n",
       "      <td>18.852459</td>\n",
       "      <td>21.311475</td>\n",
       "      <td>22.131148</td>\n",
       "      <td>13.114754</td>\n",
       "      <td>6.557377</td>\n",
       "    </tr>\n",
       "    <tr>\n",
       "      <th>4089274</th>\n",
       "      <td>0.000000</td>\n",
       "      <td>18.852459</td>\n",
       "      <td>22.131148</td>\n",
       "      <td>22.950820</td>\n",
       "      <td>13.114754</td>\n",
       "      <td>6.557377</td>\n",
       "    </tr>\n",
       "  </tbody>\n",
       "</table>\n",
       "</div>"
      ],
      "text/plain": [
       "               P1         P2         P3         P4         P5        P6\n",
       "4089271  4.098361  18.852459  21.311475  22.131148  13.114754  6.557377\n",
       "4089270  4.098361  18.852459  22.131148  22.131148  13.114754  6.557377\n",
       "4089272  4.918033  19.672131  22.131148  22.950820  13.934426  7.377049\n",
       "4089273  4.098361  18.852459  21.311475  22.131148  13.114754  6.557377\n",
       "4089274  0.000000  18.852459  22.131148  22.950820  13.114754  6.557377"
      ]
     },
     "execution_count": 10,
     "metadata": {},
     "output_type": "execute_result"
    }
   ],
   "source": [
    "datetimes_10_nov = crisis_10_nov['DateTime']\n",
    "targets_10_nov = crisis_10_nov['target']\n",
    "data_10_nov = crisis_10_nov.iloc[:,1:len(crisis_10_nov.columns)-1]\n",
    "data_10_nov.head()"
   ]
  },
  {
   "cell_type": "code",
   "execution_count": 11,
   "metadata": {},
   "outputs": [],
   "source": [
    "# Transformaciones\n",
    "lsavgol_10_nov = ppr_s.fit_transform(data_10_nov)\n",
    "butterworth_10_nov = ppr_b.fit_transform(data_10_nov)\n",
    "stats_10_nov = ppr.fit_transform(data_10_nov)\n",
    "savgol_stats_10_nov = pps.fit_transform(data_10_nov)\n",
    "butter_stats_10_nov = ppb.fit_transform(data_10_nov)\n"
   ]
  },
  {
   "cell_type": "code",
   "execution_count": 12,
   "metadata": {},
   "outputs": [],
   "source": [
    "name = \"data/crisis_18-nov-10-\"\n",
    "names = ['savgol','butter','stats','savgol-stats','butter-stats']\n",
    "datos = [lsavgol_10_nov,butterworth_10_nov,stats_10_nov,savgol_stats_10_nov,butter_stats_10_nov]\n",
    "for i in range(len(datos)):\n",
    "    with open(name+names[i]+\".pdd\",'wb') as fil:\n",
    "        pk.dump(pd.concat((datetimes_10_nov,datos[i],targets_10_nov),axis=1),fil)"
   ]
  },
  {
   "cell_type": "markdown",
   "metadata": {},
   "source": [
    "#### Crisis del 28 de Enero de 2019\n",
    "Se considera el inicio como *2019-01-29 06:12:04* (cuando baja por debajo de 18 en P4) hasta *2019-01-29 06:15:37* que se estabiliza alrededor de 20"
   ]
  },
  {
   "cell_type": "code",
   "execution_count": 13,
   "metadata": {},
   "outputs": [],
   "source": [
    "crisis_analisis = dias_crisis[1]\n",
    "start = pd.to_datetime(\"2019-01-29 06:12:04\")\n",
    "end = pd.to_datetime(\"2019-01-29 06:15:37\")\n",
    "\n",
    "crisis_28_ene = crisis_analisis.copy()\n",
    "mask = (crisis_28_ene['DateTime'] < start) | (crisis_28_ene['DateTime'] > end)\n",
    "crisis_28_ene.loc[mask,'target']=False"
   ]
  },
  {
   "cell_type": "code",
   "execution_count": 14,
   "metadata": {},
   "outputs": [],
   "source": [
    "with open('data/crisis_19-ene-28-raw.pdd','wb') as fil:\n",
    "    pk.dump(crisis_28_ene,fil)"
   ]
  },
  {
   "cell_type": "code",
   "execution_count": 15,
   "metadata": {},
   "outputs": [
    {
     "data": {
      "text/html": [
       "<div>\n",
       "<style scoped>\n",
       "    .dataframe tbody tr th:only-of-type {\n",
       "        vertical-align: middle;\n",
       "    }\n",
       "\n",
       "    .dataframe tbody tr th {\n",
       "        vertical-align: top;\n",
       "    }\n",
       "\n",
       "    .dataframe thead th {\n",
       "        text-align: right;\n",
       "    }\n",
       "</style>\n",
       "<table border=\"1\" class=\"dataframe\">\n",
       "  <thead>\n",
       "    <tr style=\"text-align: right;\">\n",
       "      <th></th>\n",
       "      <th>P1</th>\n",
       "      <th>P2</th>\n",
       "      <th>P3</th>\n",
       "      <th>P4</th>\n",
       "      <th>P5</th>\n",
       "      <th>P6</th>\n",
       "    </tr>\n",
       "  </thead>\n",
       "  <tbody>\n",
       "    <tr>\n",
       "      <th>6931232</th>\n",
       "      <td>0.0</td>\n",
       "      <td>20.491803</td>\n",
       "      <td>18.032787</td>\n",
       "      <td>21.311475</td>\n",
       "      <td>9.016393</td>\n",
       "      <td>6.557377</td>\n",
       "    </tr>\n",
       "    <tr>\n",
       "      <th>6931233</th>\n",
       "      <td>0.0</td>\n",
       "      <td>20.491803</td>\n",
       "      <td>18.032787</td>\n",
       "      <td>21.311475</td>\n",
       "      <td>9.016393</td>\n",
       "      <td>6.557377</td>\n",
       "    </tr>\n",
       "    <tr>\n",
       "      <th>6931234</th>\n",
       "      <td>0.0</td>\n",
       "      <td>20.491803</td>\n",
       "      <td>18.032787</td>\n",
       "      <td>21.311475</td>\n",
       "      <td>9.016393</td>\n",
       "      <td>6.557377</td>\n",
       "    </tr>\n",
       "    <tr>\n",
       "      <th>6931235</th>\n",
       "      <td>0.0</td>\n",
       "      <td>19.672131</td>\n",
       "      <td>18.032787</td>\n",
       "      <td>21.311475</td>\n",
       "      <td>9.836066</td>\n",
       "      <td>6.557377</td>\n",
       "    </tr>\n",
       "    <tr>\n",
       "      <th>6931236</th>\n",
       "      <td>0.0</td>\n",
       "      <td>20.491803</td>\n",
       "      <td>18.852459</td>\n",
       "      <td>22.131148</td>\n",
       "      <td>9.836066</td>\n",
       "      <td>6.557377</td>\n",
       "    </tr>\n",
       "  </tbody>\n",
       "</table>\n",
       "</div>"
      ],
      "text/plain": [
       "          P1         P2         P3         P4        P5        P6\n",
       "6931232  0.0  20.491803  18.032787  21.311475  9.016393  6.557377\n",
       "6931233  0.0  20.491803  18.032787  21.311475  9.016393  6.557377\n",
       "6931234  0.0  20.491803  18.032787  21.311475  9.016393  6.557377\n",
       "6931235  0.0  19.672131  18.032787  21.311475  9.836066  6.557377\n",
       "6931236  0.0  20.491803  18.852459  22.131148  9.836066  6.557377"
      ]
     },
     "execution_count": 15,
     "metadata": {},
     "output_type": "execute_result"
    }
   ],
   "source": [
    "datetimes_28_ene = crisis_28_ene['DateTime']\n",
    "targets_28_ene = crisis_28_ene['target']\n",
    "data_28_ene = crisis_28_ene.iloc[:,1:len(crisis_28_ene.columns)-1]\n",
    "data_28_ene.head()"
   ]
  },
  {
   "cell_type": "code",
   "execution_count": 16,
   "metadata": {},
   "outputs": [],
   "source": [
    "# Transformaciones\n",
    "lsavgol_28_ene = ppr_s.fit_transform(data_28_ene)\n",
    "butterworth_28_ene = ppr_b.fit_transform(data_28_ene)\n",
    "stats_28_ene = ppr.fit_transform(data_28_ene)\n",
    "savgol_stats_28_ene = pps.fit_transform(data_28_ene)\n",
    "butter_stats_28_ene = ppb.fit_transform(data_28_ene)\n"
   ]
  },
  {
   "cell_type": "code",
   "execution_count": 17,
   "metadata": {},
   "outputs": [],
   "source": [
    "name = \"data/crisis_19-ene-28-\"\n",
    "names = ['savgol','butter','stats','savgol-stats','butter-stats']\n",
    "datos = [lsavgol_28_ene,butterworth_28_ene,stats_28_ene,savgol_stats_28_ene,butter_stats_28_ene]\n",
    "for i in range(len(datos)):\n",
    "    with open(name+names[i]+\".pdd\",'wb') as fil:\n",
    "        pk.dump(pd.concat((datetimes_28_ene,datos[i],targets_28_ene),axis=1),fil)"
   ]
  },
  {
   "cell_type": "markdown",
   "metadata": {},
   "source": [
    "### Concatenación de las crisis 1 y 2"
   ]
  },
  {
   "cell_type": "code",
   "execution_count": 18,
   "metadata": {},
   "outputs": [],
   "source": [
    "datetimes_full = pd.concat((datetimes_10_nov,datetimes_28_ene),axis=0)\n",
    "targets_full = pd.concat((targets_10_nov,targets_28_ene),axis=0)\n",
    "data_full = pd.concat((data_10_nov,data_28_ene),axis=0)\n",
    "savgol_full = pd.concat((lsavgol_10_nov,lsavgol_28_ene),axis=0)\n",
    "butter_full = pd.concat((butterworth_10_nov,butterworth_28_ene),axis=0)\n",
    "stats_full = pd.concat((stats_10_nov,stats_28_ene),axis=0)\n",
    "savgol_stats_full = pd.concat((savgol_stats_10_nov,savgol_stats_28_ene),axis=0)\n",
    "butter_stats_full = pd.concat((butter_stats_10_nov,butter_stats_28_ene),axis=0)"
   ]
  },
  {
   "cell_type": "code",
   "execution_count": 19,
   "metadata": {},
   "outputs": [],
   "source": [
    "def prepare(data):\n",
    "    global datetimes_full, targets_full\n",
    "    return pd.concat((datetimes_full,data,targets_full),axis=1)"
   ]
  },
  {
   "cell_type": "code",
   "execution_count": 20,
   "metadata": {},
   "outputs": [],
   "source": [
    "data_raw = prepare(data_full)\n",
    "data_svg = prepare(savgol_full)\n",
    "data_btt = prepare(butter_full)\n",
    "data_sts = prepare(stats_full)\n",
    "data_sst = prepare(savgol_stats_full)\n",
    "data_bst = prepare(butter_stats_full)"
   ]
  },
  {
   "cell_type": "code",
   "execution_count": 21,
   "metadata": {},
   "outputs": [],
   "source": [
    "# Almacenamos los conjuntos de entrenamiento\n",
    "name = \"data/train-\"\n",
    "names = ['raw','savgol','butter','stats','savgol-stats','butter-stats']\n",
    "datos = [data_raw,data_svg,data_btt,data_sts,data_sst,data_bst]\n",
    "for i in range(len(datos)):\n",
    "    with open(name+names[i]+\".pdd\",'wb') as fil:\n",
    "        pk.dump(datos[i],fil)\n"
   ]
  },
  {
   "cell_type": "markdown",
   "metadata": {},
   "source": [
    "### Preparación de la crisis 3 para el testeo\n",
    "Según los proveedores de los datos la crisis fue medida correctamente por lo que no se harán modificaciones de lo que es crisis"
   ]
  },
  {
   "cell_type": "code",
   "execution_count": 22,
   "metadata": {},
   "outputs": [
    {
     "data": {
      "text/html": [
       "<div>\n",
       "<style scoped>\n",
       "    .dataframe tbody tr th:only-of-type {\n",
       "        vertical-align: middle;\n",
       "    }\n",
       "\n",
       "    .dataframe tbody tr th {\n",
       "        vertical-align: top;\n",
       "    }\n",
       "\n",
       "    .dataframe thead th {\n",
       "        text-align: right;\n",
       "    }\n",
       "</style>\n",
       "<table border=\"1\" class=\"dataframe\">\n",
       "  <thead>\n",
       "    <tr style=\"text-align: right;\">\n",
       "      <th></th>\n",
       "      <th>DateTime</th>\n",
       "      <th>P1</th>\n",
       "      <th>P2</th>\n",
       "      <th>P3</th>\n",
       "      <th>P4</th>\n",
       "      <th>P5</th>\n",
       "      <th>P6</th>\n",
       "      <th>target</th>\n",
       "    </tr>\n",
       "  </thead>\n",
       "  <tbody>\n",
       "    <tr>\n",
       "      <th>2164084</th>\n",
       "      <td>2019-02-06 21:11:50</td>\n",
       "      <td>0.0</td>\n",
       "      <td>14.754098</td>\n",
       "      <td>27.049180</td>\n",
       "      <td>30.327869</td>\n",
       "      <td>10.655738</td>\n",
       "      <td>0.0</td>\n",
       "      <td>False</td>\n",
       "    </tr>\n",
       "    <tr>\n",
       "      <th>2164085</th>\n",
       "      <td>2019-02-06 21:11:51</td>\n",
       "      <td>0.0</td>\n",
       "      <td>15.573770</td>\n",
       "      <td>26.229508</td>\n",
       "      <td>24.590164</td>\n",
       "      <td>6.557377</td>\n",
       "      <td>0.0</td>\n",
       "      <td>False</td>\n",
       "    </tr>\n",
       "    <tr>\n",
       "      <th>2164087</th>\n",
       "      <td>2019-02-06 21:11:52</td>\n",
       "      <td>0.0</td>\n",
       "      <td>19.672131</td>\n",
       "      <td>29.508197</td>\n",
       "      <td>23.770492</td>\n",
       "      <td>4.918033</td>\n",
       "      <td>0.0</td>\n",
       "      <td>False</td>\n",
       "    </tr>\n",
       "    <tr>\n",
       "      <th>2164086</th>\n",
       "      <td>2019-02-06 21:11:52</td>\n",
       "      <td>0.0</td>\n",
       "      <td>18.032787</td>\n",
       "      <td>30.327869</td>\n",
       "      <td>27.049180</td>\n",
       "      <td>7.377049</td>\n",
       "      <td>0.0</td>\n",
       "      <td>False</td>\n",
       "    </tr>\n",
       "    <tr>\n",
       "      <th>2164088</th>\n",
       "      <td>2019-02-06 21:11:53</td>\n",
       "      <td>0.0</td>\n",
       "      <td>18.032787</td>\n",
       "      <td>25.409836</td>\n",
       "      <td>17.213115</td>\n",
       "      <td>0.000000</td>\n",
       "      <td>0.0</td>\n",
       "      <td>False</td>\n",
       "    </tr>\n",
       "  </tbody>\n",
       "</table>\n",
       "</div>"
      ],
      "text/plain": [
       "                   DateTime   P1         P2         P3         P4         P5  \\\n",
       "2164084 2019-02-06 21:11:50  0.0  14.754098  27.049180  30.327869  10.655738   \n",
       "2164085 2019-02-06 21:11:51  0.0  15.573770  26.229508  24.590164   6.557377   \n",
       "2164087 2019-02-06 21:11:52  0.0  19.672131  29.508197  23.770492   4.918033   \n",
       "2164086 2019-02-06 21:11:52  0.0  18.032787  30.327869  27.049180   7.377049   \n",
       "2164088 2019-02-06 21:11:53  0.0  18.032787  25.409836  17.213115   0.000000   \n",
       "\n",
       "          P6  target  \n",
       "2164084  0.0   False  \n",
       "2164085  0.0   False  \n",
       "2164087  0.0   False  \n",
       "2164086  0.0   False  \n",
       "2164088  0.0   False  "
      ]
     },
     "execution_count": 22,
     "metadata": {},
     "output_type": "execute_result"
    }
   ],
   "source": [
    "test = dias_crisis[2]\n",
    "datetimes_test = test['DateTime']\n",
    "targets_test = test['target']\n",
    "data_test = test.iloc[:,1:len(test.columns)-1]\n",
    "test.head()"
   ]
  },
  {
   "cell_type": "markdown",
   "metadata": {},
   "source": [
    "#### Operamos sobre los datos de test\n",
    "Como P1 y P6 tienen una varianza menos de 0.5 que es el umbral con el que generamos el entrenamiento, para no perderlo volvemos a crear los transformadores, pero sin el VarianceThreshold"
   ]
  },
  {
   "cell_type": "code",
   "execution_count": 23,
   "metadata": {},
   "outputs": [],
   "source": [
    "# Transformadores sin VarianceThreshold\n",
    "pps = PipelineTransformer(svg,con)\n",
    "ppb = PipelineTransformer(btr,con)\n",
    "ppr = PipelineTransformer(con)\n",
    "ppr_s = PipelineTransformer(svg)\n",
    "ppr_b = PipelineTransformer(btr)"
   ]
  },
  {
   "cell_type": "code",
   "execution_count": 24,
   "metadata": {},
   "outputs": [],
   "source": [
    "# Transformaciones\n",
    "lsavgol_test = ppr_s.fit_transform(data_test)\n",
    "butterworth_test = ppr_b.fit_transform(data_test)\n",
    "stats_test = ppr.fit_transform(data_test)\n",
    "savgol_stats_test = pps.fit_transform(data_test)\n",
    "butter_stats_test = ppb.fit_transform(data_test)\n"
   ]
  },
  {
   "cell_type": "code",
   "execution_count": 25,
   "metadata": {},
   "outputs": [],
   "source": [
    "#Comprobamos que las columnas son las mismas\n",
    "datos_test = [data_test,lsavgol_test,butterworth_test,stats_test,savgol_stats_test,butter_stats_test]\n",
    "datos_full = [data_full,savgol_full,butter_full,stats_full,savgol_stats_full,butter_stats_test]\n",
    "for i in range(len(datos_test)):\n",
    "    t = datos_test[i]\n",
    "    f = datos_full[i]\n",
    "    sym = set(t.columns).symmetric_difference(set(f.columns))\n",
    "    if len(sym) != 0:\n",
    "        raise Exception(\"Las columnas no coinciden en el índice \"+str(i))"
   ]
  },
  {
   "cell_type": "code",
   "execution_count": 26,
   "metadata": {},
   "outputs": [],
   "source": [
    "datetimes_full = datetimes_test\n",
    "targets_full = targets_test"
   ]
  },
  {
   "cell_type": "code",
   "execution_count": 27,
   "metadata": {},
   "outputs": [],
   "source": [
    "test_raw = prepare(data_test)\n",
    "test_svg = prepare(lsavgol_test)\n",
    "test_btt = prepare(butterworth_test)\n",
    "test_sts = prepare(stats_test)\n",
    "test_sst = prepare(savgol_stats_test)\n",
    "test_bst = prepare(butter_stats_test)"
   ]
  },
  {
   "cell_type": "code",
   "execution_count": 28,
   "metadata": {},
   "outputs": [],
   "source": [
    "# Almacenamos los datos de test\n",
    "name = \"data/test-\"\n",
    "names = ['raw','savgol','butter','stats','savgol-stats','butter-stats']\n",
    "datos = [test_raw,test_svg,test_btt,test_sts,test_sst,test_bst]\n",
    "for i in range(len(datos)):\n",
    "    with open(name+names[i]+\".pdd\",'wb') as fil:\n",
    "        pk.dump(datos[i],fil)"
   ]
  },
  {
   "cell_type": "code",
   "execution_count": null,
   "metadata": {},
   "outputs": [],
   "source": []
  }
 ],
 "metadata": {
  "kernelspec": {
   "display_name": "Python (TFG)",
   "language": "python",
   "name": "tfg"
  },
  "language_info": {
   "codemirror_mode": {
    "name": "ipython",
    "version": 3
   },
   "file_extension": ".py",
   "mimetype": "text/x-python",
   "name": "python",
   "nbconvert_exporter": "python",
   "pygments_lexer": "ipython3",
   "version": "3.6.8"
  }
 },
 "nbformat": 4,
 "nbformat_minor": 2
}
