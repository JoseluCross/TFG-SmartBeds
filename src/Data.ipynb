{
 "cells": [
  {
   "cell_type": "markdown",
   "metadata": {},
   "source": [
    "# SmartBeds - Preprocesado de Datos\n",
    "\n",
    "## Grado en Ingeniería Informática\n",
    "## Universidad de Burgos\n",
    "##### José Luis Garrido Labrador"
   ]
  },
  {
   "cell_type": "code",
   "execution_count": 1,
   "metadata": {},
   "outputs": [],
   "source": [
    "import pandas as pd # se importa pandas como pd\n",
    "import numpy as np  #numpy como np"
   ]
  },
  {
   "cell_type": "markdown",
   "metadata": {},
   "source": [
    "### Lectura"
   ]
  },
  {
   "cell_type": "code",
   "execution_count": 11,
   "metadata": {},
   "outputs": [],
   "source": [
    "import loadData as ld\n",
    "\n",
    "datos = ld.load(r\"../data/\")\n",
    "\n",
    "datos = ld.preprocess(datos)"
   ]
  },
  {
   "cell_type": "markdown",
   "metadata": {},
   "source": [
    "### Datos manuales"
   ]
  },
  {
   "cell_type": "code",
   "execution_count": 12,
   "metadata": {},
   "outputs": [],
   "source": [
    "datos = ld.newSeizure(datos,'2018-11-10 3:30:00',60*20)"
   ]
  },
  {
   "cell_type": "markdown",
   "metadata": {},
   "source": [
    "### Preprocesado"
   ]
  },
  {
   "cell_type": "code",
   "execution_count": 13,
   "metadata": {},
   "outputs": [],
   "source": [
    "# Ordención\n",
    "datos = datos.sort_values(by='DateTime')"
   ]
  },
  {
   "cell_type": "code",
   "execution_count": 14,
   "metadata": {},
   "outputs": [],
   "source": [
    "# Eliminación de negativos y filtrado\n",
    "for d in datos:\n",
    "    if datos[d].dtype == np.float64:\n",
    "        datos.loc[datos[d]<5.0,d]=0.0"
   ]
  },
  {
   "cell_type": "code",
   "execution_count": 20,
   "metadata": {},
   "outputs": [],
   "source": [
    "def normalize(tubes):\n",
    "    \"\"\"Normalize min-max all float64 columns\n",
    "    Param dataframe: dataframe with all data\n",
    "    Return dataframe with normalize data\n",
    "    \"\"\"    \n",
    "    maxs = np.max(tubes)\n",
    "    mins = np.min(tubes)\n",
    "    rang = maxs-mins\n",
    "    \n",
    "    tubesNorm = (tubes - mins) / rang\n",
    "    \n",
    "    return tubesNorm\n",
    "    "
   ]
  },
  {
   "cell_type": "code",
   "execution_count": 25,
   "metadata": {},
   "outputs": [
    {
     "data": {
      "text/html": [
       "<div>\n",
       "<style scoped>\n",
       "    .dataframe tbody tr th:only-of-type {\n",
       "        vertical-align: middle;\n",
       "    }\n",
       "\n",
       "    .dataframe tbody tr th {\n",
       "        vertical-align: top;\n",
       "    }\n",
       "\n",
       "    .dataframe thead th {\n",
       "        text-align: right;\n",
       "    }\n",
       "</style>\n",
       "<table border=\"1\" class=\"dataframe\">\n",
       "  <thead>\n",
       "    <tr style=\"text-align: right;\">\n",
       "      <th></th>\n",
       "      <th>DateTime</th>\n",
       "      <th>P1</th>\n",
       "      <th>P2</th>\n",
       "      <th>P3</th>\n",
       "      <th>P4</th>\n",
       "      <th>P5</th>\n",
       "      <th>P6</th>\n",
       "      <th>P7</th>\n",
       "      <th>P8</th>\n",
       "      <th>P9</th>\n",
       "      <th>P10</th>\n",
       "      <th>P11</th>\n",
       "      <th>P12</th>\n",
       "      <th>target</th>\n",
       "    </tr>\n",
       "  </thead>\n",
       "  <tbody>\n",
       "    <tr>\n",
       "      <th>4041041</th>\n",
       "      <td>2018-10-30 21:20:23</td>\n",
       "      <td>0.0</td>\n",
       "      <td>27.835052</td>\n",
       "      <td>30.208333</td>\n",
       "      <td>22.772277</td>\n",
       "      <td>0.0</td>\n",
       "      <td>0.0</td>\n",
       "      <td>0.0</td>\n",
       "      <td>0.0</td>\n",
       "      <td>0.0</td>\n",
       "      <td>0.0</td>\n",
       "      <td>0.0</td>\n",
       "      <td>0.0</td>\n",
       "      <td>False</td>\n",
       "    </tr>\n",
       "    <tr>\n",
       "      <th>4041042</th>\n",
       "      <td>2018-10-30 21:20:23</td>\n",
       "      <td>0.0</td>\n",
       "      <td>26.804124</td>\n",
       "      <td>29.166667</td>\n",
       "      <td>21.782178</td>\n",
       "      <td>0.0</td>\n",
       "      <td>0.0</td>\n",
       "      <td>0.0</td>\n",
       "      <td>0.0</td>\n",
       "      <td>0.0</td>\n",
       "      <td>0.0</td>\n",
       "      <td>0.0</td>\n",
       "      <td>0.0</td>\n",
       "      <td>False</td>\n",
       "    </tr>\n",
       "    <tr>\n",
       "      <th>4041043</th>\n",
       "      <td>2018-10-30 21:20:23</td>\n",
       "      <td>0.0</td>\n",
       "      <td>25.773196</td>\n",
       "      <td>28.125000</td>\n",
       "      <td>21.782178</td>\n",
       "      <td>0.0</td>\n",
       "      <td>0.0</td>\n",
       "      <td>0.0</td>\n",
       "      <td>0.0</td>\n",
       "      <td>0.0</td>\n",
       "      <td>0.0</td>\n",
       "      <td>0.0</td>\n",
       "      <td>0.0</td>\n",
       "      <td>False</td>\n",
       "    </tr>\n",
       "    <tr>\n",
       "      <th>4041044</th>\n",
       "      <td>2018-10-30 21:20:24</td>\n",
       "      <td>0.0</td>\n",
       "      <td>26.804124</td>\n",
       "      <td>29.166667</td>\n",
       "      <td>22.772277</td>\n",
       "      <td>0.0</td>\n",
       "      <td>0.0</td>\n",
       "      <td>0.0</td>\n",
       "      <td>0.0</td>\n",
       "      <td>0.0</td>\n",
       "      <td>0.0</td>\n",
       "      <td>0.0</td>\n",
       "      <td>0.0</td>\n",
       "      <td>False</td>\n",
       "    </tr>\n",
       "    <tr>\n",
       "      <th>4041045</th>\n",
       "      <td>2018-10-30 21:20:25</td>\n",
       "      <td>0.0</td>\n",
       "      <td>26.804124</td>\n",
       "      <td>30.208333</td>\n",
       "      <td>22.772277</td>\n",
       "      <td>0.0</td>\n",
       "      <td>0.0</td>\n",
       "      <td>0.0</td>\n",
       "      <td>0.0</td>\n",
       "      <td>0.0</td>\n",
       "      <td>0.0</td>\n",
       "      <td>0.0</td>\n",
       "      <td>0.0</td>\n",
       "      <td>False</td>\n",
       "    </tr>\n",
       "  </tbody>\n",
       "</table>\n",
       "</div>"
      ],
      "text/plain": [
       "                   DateTime   P1         P2         P3         P4   P5   P6  \\\n",
       "4041041 2018-10-30 21:20:23  0.0  27.835052  30.208333  22.772277  0.0  0.0   \n",
       "4041042 2018-10-30 21:20:23  0.0  26.804124  29.166667  21.782178  0.0  0.0   \n",
       "4041043 2018-10-30 21:20:23  0.0  25.773196  28.125000  21.782178  0.0  0.0   \n",
       "4041044 2018-10-30 21:20:24  0.0  26.804124  29.166667  22.772277  0.0  0.0   \n",
       "4041045 2018-10-30 21:20:25  0.0  26.804124  30.208333  22.772277  0.0  0.0   \n",
       "\n",
       "          P7   P8   P9  P10  P11  P12  target  \n",
       "4041041  0.0  0.0  0.0  0.0  0.0  0.0   False  \n",
       "4041042  0.0  0.0  0.0  0.0  0.0  0.0   False  \n",
       "4041043  0.0  0.0  0.0  0.0  0.0  0.0   False  \n",
       "4041044  0.0  0.0  0.0  0.0  0.0  0.0   False  \n",
       "4041045  0.0  0.0  0.0  0.0  0.0  0.0   False  "
      ]
     },
     "execution_count": 25,
     "metadata": {},
     "output_type": "execute_result"
    }
   ],
   "source": [
    "# Normalización\n",
    "tubesNorm = normalize(datos.iloc[:,1:13])\n",
    "datos=pd.concat([datos['DateTime'],tubesNorm*100,datos['target']],axis=1)\n",
    "datos.head()"
   ]
  },
  {
   "cell_type": "code",
   "execution_count": 20,
   "metadata": {},
   "outputs": [],
   "source": [
    "# Suavizado\n",
    "from scipy.signal import lfilter\n",
    "\n",
    "#TODO"
   ]
  },
  {
   "cell_type": "markdown",
   "metadata": {},
   "source": [
    "### Cálculo de las  estadísticas móviles\n",
    "#### Widgets"
   ]
  },
  {
   "cell_type": "code",
   "execution_count": 6,
   "metadata": {},
   "outputs": [],
   "source": [
    "import ipywidgets as widgets\n",
    "from IPython.display import display\n",
    "\n",
    "slider = widgets.IntSlider(\n",
    "    value=25,\n",
    "    min=1,\n",
    "    max=50,\n",
    "    description='Ventana:',\n",
    "    readout=True,\n",
    "    readout_format='d'\n",
    ")\n",
    "\n",
    "button = widgets.Button(\n",
    "    description='Calcular'\n",
    ")\n",
    "\n",
    "progress = widgets.IntProgress(\n",
    "    value=0,\n",
    "    min=0,\n",
    "    max=24,\n",
    "    step=1,\n",
    "    description='Procesado:',\n",
    "    bar_style='', # 'success', 'info', 'warning', 'danger' or ''\n",
    "    orientation='horizontal'\n",
    ")\n",
    "\n",
    "hb = widgets.HBox([slider,button,progress])"
   ]
  },
  {
   "cell_type": "code",
   "execution_count": 7,
   "metadata": {},
   "outputs": [
    {
     "data": {
      "application/vnd.jupyter.widget-view+json": {
       "model_id": "21ec03566a5c47e09b40841448bb91c3",
       "version_major": 2,
       "version_minor": 0
      },
      "text/plain": [
       "HBox(children=(IntSlider(value=25, description='Ventana:', max=50, min=1), Button(description='Calcular', styl…"
      ]
     },
     "metadata": {},
     "output_type": "display_data"
    },
    {
     "name": "stdout",
     "output_type": "stream",
     "text": [
      "Calculos realizados para ventana a 25                                                               \r"
     ]
    }
   ],
   "source": [
    "display(hb)\n",
    "\n",
    "dataE = datos.copy()\n",
    "\n",
    "def estadisticos(b):\n",
    "    global slider, dataE, progress\n",
    "    \n",
    "    progress.value = 0\n",
    "    \n",
    "    before = b.description\n",
    "    b.description='Espera'\n",
    "\n",
    "    print(\" \"*100,end='\\r')\n",
    "    \n",
    "    ventanaMedia = slider.value\n",
    "    \n",
    "    for i in range(1,13):\n",
    "        nombre_col = 'P'+str(i)\n",
    "        nombre_col_mean = nombre_col+' mean'\n",
    "        dataE[nombre_col_mean] = dataE[nombre_col].rolling(ventanaMedia).mean()\n",
    "        progress.value += 1\n",
    "\n",
    "    ventanaDesviacion = ventanaMedia\n",
    "\n",
    "    for i in range(1,13):\n",
    "        nombre_col = 'P'+str(i)\n",
    "        nombre_col_std = nombre_col+' std'\n",
    "        dataE[nombre_col_std] = dataE[nombre_col].rolling(ventanaDesviacion).std()\n",
    "        progress.value += 1\n",
    "        \n",
    "    print('Calculos realizados para ventana a',ventanaMedia,end=\"\\r\")\n",
    "    b.description = before\n",
    "        \n",
    "    dataE = dataE.dropna()\n",
    "    \n",
    "\n",
    "button.on_click(estadisticos)\n"
   ]
  },
  {
   "cell_type": "code",
   "execution_count": 26,
   "metadata": {},
   "outputs": [
    {
     "data": {
      "text/html": [
       "<div>\n",
       "<style scoped>\n",
       "    .dataframe tbody tr th:only-of-type {\n",
       "        vertical-align: middle;\n",
       "    }\n",
       "\n",
       "    .dataframe tbody tr th {\n",
       "        vertical-align: top;\n",
       "    }\n",
       "\n",
       "    .dataframe thead th {\n",
       "        text-align: right;\n",
       "    }\n",
       "</style>\n",
       "<table border=\"1\" class=\"dataframe\">\n",
       "  <thead>\n",
       "    <tr style=\"text-align: right;\">\n",
       "      <th></th>\n",
       "      <th>DateTime</th>\n",
       "      <th>P1</th>\n",
       "      <th>P2</th>\n",
       "      <th>P3</th>\n",
       "      <th>P4</th>\n",
       "      <th>P5</th>\n",
       "      <th>P6</th>\n",
       "      <th>P7</th>\n",
       "      <th>P8</th>\n",
       "      <th>P9</th>\n",
       "      <th>P10</th>\n",
       "      <th>P11</th>\n",
       "      <th>P12</th>\n",
       "      <th>target</th>\n",
       "    </tr>\n",
       "  </thead>\n",
       "  <tbody>\n",
       "    <tr>\n",
       "      <th>4041041</th>\n",
       "      <td>2018-10-30 21:20:23</td>\n",
       "      <td>0.0</td>\n",
       "      <td>27.0</td>\n",
       "      <td>29.0</td>\n",
       "      <td>23.0</td>\n",
       "      <td>0.0</td>\n",
       "      <td>0.0</td>\n",
       "      <td>0.0</td>\n",
       "      <td>0.0</td>\n",
       "      <td>0.0</td>\n",
       "      <td>0.0</td>\n",
       "      <td>0.0</td>\n",
       "      <td>0.0</td>\n",
       "      <td>False</td>\n",
       "    </tr>\n",
       "    <tr>\n",
       "      <th>4041042</th>\n",
       "      <td>2018-10-30 21:20:23</td>\n",
       "      <td>0.0</td>\n",
       "      <td>26.0</td>\n",
       "      <td>28.0</td>\n",
       "      <td>22.0</td>\n",
       "      <td>0.0</td>\n",
       "      <td>0.0</td>\n",
       "      <td>0.0</td>\n",
       "      <td>0.0</td>\n",
       "      <td>0.0</td>\n",
       "      <td>0.0</td>\n",
       "      <td>0.0</td>\n",
       "      <td>0.0</td>\n",
       "      <td>False</td>\n",
       "    </tr>\n",
       "    <tr>\n",
       "      <th>4041043</th>\n",
       "      <td>2018-10-30 21:20:23</td>\n",
       "      <td>0.0</td>\n",
       "      <td>25.0</td>\n",
       "      <td>27.0</td>\n",
       "      <td>22.0</td>\n",
       "      <td>0.0</td>\n",
       "      <td>0.0</td>\n",
       "      <td>0.0</td>\n",
       "      <td>0.0</td>\n",
       "      <td>0.0</td>\n",
       "      <td>0.0</td>\n",
       "      <td>0.0</td>\n",
       "      <td>0.0</td>\n",
       "      <td>False</td>\n",
       "    </tr>\n",
       "    <tr>\n",
       "      <th>4041044</th>\n",
       "      <td>2018-10-30 21:20:24</td>\n",
       "      <td>0.0</td>\n",
       "      <td>26.0</td>\n",
       "      <td>28.0</td>\n",
       "      <td>23.0</td>\n",
       "      <td>0.0</td>\n",
       "      <td>0.0</td>\n",
       "      <td>0.0</td>\n",
       "      <td>0.0</td>\n",
       "      <td>0.0</td>\n",
       "      <td>0.0</td>\n",
       "      <td>0.0</td>\n",
       "      <td>0.0</td>\n",
       "      <td>False</td>\n",
       "    </tr>\n",
       "    <tr>\n",
       "      <th>4041045</th>\n",
       "      <td>2018-10-30 21:20:25</td>\n",
       "      <td>0.0</td>\n",
       "      <td>26.0</td>\n",
       "      <td>29.0</td>\n",
       "      <td>23.0</td>\n",
       "      <td>0.0</td>\n",
       "      <td>0.0</td>\n",
       "      <td>0.0</td>\n",
       "      <td>0.0</td>\n",
       "      <td>0.0</td>\n",
       "      <td>0.0</td>\n",
       "      <td>0.0</td>\n",
       "      <td>0.0</td>\n",
       "      <td>False</td>\n",
       "    </tr>\n",
       "  </tbody>\n",
       "</table>\n",
       "</div>"
      ],
      "text/plain": [
       "                   DateTime   P1    P2    P3    P4   P5   P6   P7   P8   P9  \\\n",
       "4041041 2018-10-30 21:20:23  0.0  27.0  29.0  23.0  0.0  0.0  0.0  0.0  0.0   \n",
       "4041042 2018-10-30 21:20:23  0.0  26.0  28.0  22.0  0.0  0.0  0.0  0.0  0.0   \n",
       "4041043 2018-10-30 21:20:23  0.0  25.0  27.0  22.0  0.0  0.0  0.0  0.0  0.0   \n",
       "4041044 2018-10-30 21:20:24  0.0  26.0  28.0  23.0  0.0  0.0  0.0  0.0  0.0   \n",
       "4041045 2018-10-30 21:20:25  0.0  26.0  29.0  23.0  0.0  0.0  0.0  0.0  0.0   \n",
       "\n",
       "         P10  P11  P12  target  \n",
       "4041041  0.0  0.0  0.0   False  \n",
       "4041042  0.0  0.0  0.0   False  \n",
       "4041043  0.0  0.0  0.0   False  \n",
       "4041044  0.0  0.0  0.0   False  \n",
       "4041045  0.0  0.0  0.0   False  "
      ]
     },
     "execution_count": 26,
     "metadata": {},
     "output_type": "execute_result"
    }
   ],
   "source": [
    "datos.head()"
   ]
  },
  {
   "cell_type": "markdown",
   "metadata": {},
   "source": [
    "### Exportación"
   ]
  },
  {
   "cell_type": "code",
   "execution_count": 28,
   "metadata": {},
   "outputs": [],
   "source": [
    "import pickle as pk"
   ]
  },
  {
   "cell_type": "code",
   "execution_count": 29,
   "metadata": {},
   "outputs": [],
   "source": [
    "with open('datos.pdd','wb') as f:\n",
    "    pk.dump(datos,f)\n",
    "    \n",
    "with open('datosE.pdd','wb') as f:\n",
    "    pk.dump(dataE,f)"
   ]
  },
  {
   "cell_type": "code",
   "execution_count": null,
   "metadata": {},
   "outputs": [],
   "source": []
  }
 ],
 "metadata": {
  "kernelspec": {
   "display_name": "Python (TFG)",
   "language": "python",
   "name": "tfg"
  },
  "language_info": {
   "codemirror_mode": {
    "name": "ipython",
    "version": 3
   },
   "file_extension": ".py",
   "mimetype": "text/x-python",
   "name": "python",
   "nbconvert_exporter": "python",
   "pygments_lexer": "ipython3",
   "version": "3.6.8"
  }
 },
 "nbformat": 4,
 "nbformat_minor": 2
}
