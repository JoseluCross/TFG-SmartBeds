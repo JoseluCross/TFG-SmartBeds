{
 "cells": [
  {
   "cell_type": "markdown",
   "metadata": {},
   "source": [
    "# SmartBeds - Preprocesado de Datos\n",
    "\n",
    "## Grado en Ingeniería Informática\n",
    "## Universidad de Burgos\n",
    "##### José Luis Garrido Labrador"
   ]
  },
  {
   "cell_type": "code",
   "execution_count": 1,
   "metadata": {},
   "outputs": [],
   "source": [
    "import pandas as pd # se importa pandas como pd\n",
    "import numpy as np  #numpy como np\n",
    "import matplotlib.pyplot as plt\n",
    "from transformers import *"
   ]
  },
  {
   "cell_type": "code",
   "execution_count": 2,
   "metadata": {},
   "outputs": [],
   "source": [
    "import pickle as pk"
   ]
  },
  {
   "cell_type": "markdown",
   "metadata": {},
   "source": [
    "### Lectura"
   ]
  },
  {
   "cell_type": "code",
   "execution_count": 3,
   "metadata": {},
   "outputs": [
    {
     "data": {
      "text/html": [
       "<div>\n",
       "<style scoped>\n",
       "    .dataframe tbody tr th:only-of-type {\n",
       "        vertical-align: middle;\n",
       "    }\n",
       "\n",
       "    .dataframe tbody tr th {\n",
       "        vertical-align: top;\n",
       "    }\n",
       "\n",
       "    .dataframe thead th {\n",
       "        text-align: right;\n",
       "    }\n",
       "</style>\n",
       "<table border=\"1\" class=\"dataframe\">\n",
       "  <thead>\n",
       "    <tr style=\"text-align: right;\">\n",
       "      <th></th>\n",
       "      <th>DateTime</th>\n",
       "      <th>P1</th>\n",
       "      <th>P2</th>\n",
       "      <th>P3</th>\n",
       "      <th>P4</th>\n",
       "      <th>P5</th>\n",
       "      <th>P6</th>\n",
       "      <th>P7</th>\n",
       "      <th>P8</th>\n",
       "      <th>P9</th>\n",
       "      <th>P10</th>\n",
       "      <th>P11</th>\n",
       "      <th>P12</th>\n",
       "      <th>target</th>\n",
       "    </tr>\n",
       "  </thead>\n",
       "  <tbody>\n",
       "    <tr>\n",
       "      <th>7</th>\n",
       "      <td>2018-10-01 21:24:13</td>\n",
       "      <td>4.0</td>\n",
       "      <td>21.0</td>\n",
       "      <td>27.0</td>\n",
       "      <td>35.0</td>\n",
       "      <td>14.0</td>\n",
       "      <td>5.0</td>\n",
       "      <td>2.0</td>\n",
       "      <td>0.0</td>\n",
       "      <td>0.0</td>\n",
       "      <td>0.0</td>\n",
       "      <td>1.0</td>\n",
       "      <td>0.0</td>\n",
       "      <td>False</td>\n",
       "    </tr>\n",
       "    <tr>\n",
       "      <th>8</th>\n",
       "      <td>2018-10-01 21:24:14</td>\n",
       "      <td>4.0</td>\n",
       "      <td>20.0</td>\n",
       "      <td>26.0</td>\n",
       "      <td>35.0</td>\n",
       "      <td>14.0</td>\n",
       "      <td>5.0</td>\n",
       "      <td>2.0</td>\n",
       "      <td>0.0</td>\n",
       "      <td>0.0</td>\n",
       "      <td>0.0</td>\n",
       "      <td>1.0</td>\n",
       "      <td>0.0</td>\n",
       "      <td>False</td>\n",
       "    </tr>\n",
       "    <tr>\n",
       "      <th>9</th>\n",
       "      <td>2018-10-01 21:24:15</td>\n",
       "      <td>4.0</td>\n",
       "      <td>21.0</td>\n",
       "      <td>26.0</td>\n",
       "      <td>36.0</td>\n",
       "      <td>14.0</td>\n",
       "      <td>5.0</td>\n",
       "      <td>2.0</td>\n",
       "      <td>0.0</td>\n",
       "      <td>0.0</td>\n",
       "      <td>0.0</td>\n",
       "      <td>1.0</td>\n",
       "      <td>0.0</td>\n",
       "      <td>False</td>\n",
       "    </tr>\n",
       "    <tr>\n",
       "      <th>10</th>\n",
       "      <td>2018-10-01 21:24:16</td>\n",
       "      <td>2.0</td>\n",
       "      <td>20.0</td>\n",
       "      <td>25.0</td>\n",
       "      <td>34.0</td>\n",
       "      <td>13.0</td>\n",
       "      <td>4.0</td>\n",
       "      <td>1.0</td>\n",
       "      <td>0.0</td>\n",
       "      <td>0.0</td>\n",
       "      <td>0.0</td>\n",
       "      <td>0.0</td>\n",
       "      <td>0.0</td>\n",
       "      <td>False</td>\n",
       "    </tr>\n",
       "    <tr>\n",
       "      <th>11</th>\n",
       "      <td>2018-10-01 21:24:17</td>\n",
       "      <td>4.0</td>\n",
       "      <td>21.0</td>\n",
       "      <td>27.0</td>\n",
       "      <td>35.0</td>\n",
       "      <td>14.0</td>\n",
       "      <td>6.0</td>\n",
       "      <td>2.0</td>\n",
       "      <td>0.0</td>\n",
       "      <td>0.0</td>\n",
       "      <td>1.0</td>\n",
       "      <td>1.0</td>\n",
       "      <td>0.0</td>\n",
       "      <td>False</td>\n",
       "    </tr>\n",
       "  </tbody>\n",
       "</table>\n",
       "</div>"
      ],
      "text/plain": [
       "              DateTime   P1    P2    P3    P4    P5   P6   P7   P8   P9  P10  \\\n",
       "7  2018-10-01 21:24:13  4.0  21.0  27.0  35.0  14.0  5.0  2.0  0.0  0.0  0.0   \n",
       "8  2018-10-01 21:24:14  4.0  20.0  26.0  35.0  14.0  5.0  2.0  0.0  0.0  0.0   \n",
       "9  2018-10-01 21:24:15  4.0  21.0  26.0  36.0  14.0  5.0  2.0  0.0  0.0  0.0   \n",
       "10 2018-10-01 21:24:16  2.0  20.0  25.0  34.0  13.0  4.0  1.0  0.0  0.0  0.0   \n",
       "11 2018-10-01 21:24:17  4.0  21.0  27.0  35.0  14.0  6.0  2.0  0.0  0.0  1.0   \n",
       "\n",
       "    P11  P12  target  \n",
       "7   1.0  0.0   False  \n",
       "8   1.0  0.0   False  \n",
       "9   1.0  0.0   False  \n",
       "10  0.0  0.0   False  \n",
       "11  1.0  0.0   False  "
      ]
     },
     "execution_count": 3,
     "metadata": {},
     "output_type": "execute_result"
    }
   ],
   "source": [
    "import loadData as ld\n",
    "\n",
    "datos = ld.load(r\"../data/\")\n",
    "datos = ld.preprocess(datos)\n",
    "datos.head()"
   ]
  },
  {
   "cell_type": "code",
   "execution_count": 4,
   "metadata": {},
   "outputs": [
    {
     "name": "stdout",
     "output_type": "stream",
     "text": [
      "0.4823642037808895 GiB\n"
     ]
    }
   ],
   "source": [
    "from sys import getsizeof\n",
    "print(getsizeof(datos)/(2**30),'GiB')"
   ]
  },
  {
   "cell_type": "markdown",
   "metadata": {},
   "source": [
    "### Datos manuales"
   ]
  },
  {
   "cell_type": "code",
   "execution_count": 5,
   "metadata": {},
   "outputs": [],
   "source": [
    "datos = ld.newSeizure(datos,'2018-11-10 3:30:00',60*20)\n",
    "#Las siguientes crisis no tienen momeento final, se ha considerado 15 minutos\n",
    "datos = ld.newSeizure(datos,'2018-09-29 07:10:00',60*15)\n",
    "datos = ld.newSeizure(datos,'2019-01-9 23:30:00',60*15)\n",
    "datos = ld.newSeizure(datos,'2019-01-29 6:12:00',60*15)"
   ]
  },
  {
   "cell_type": "markdown",
   "metadata": {},
   "source": [
    "### Preprocesado"
   ]
  },
  {
   "cell_type": "code",
   "execution_count": 6,
   "metadata": {},
   "outputs": [],
   "source": [
    "# Ordención\n",
    "datos = datos.sort_values(by='DateTime')\n",
    "with open('data/datos_raw.pdd','wb') as f:\n",
    "    pk.dump(datos,f)"
   ]
  },
  {
   "cell_type": "code",
   "execution_count": 7,
   "metadata": {},
   "outputs": [
    {
     "data": {
      "text/html": [
       "<div>\n",
       "<style scoped>\n",
       "    .dataframe tbody tr th:only-of-type {\n",
       "        vertical-align: middle;\n",
       "    }\n",
       "\n",
       "    .dataframe tbody tr th {\n",
       "        vertical-align: top;\n",
       "    }\n",
       "\n",
       "    .dataframe thead th {\n",
       "        text-align: right;\n",
       "    }\n",
       "</style>\n",
       "<table border=\"1\" class=\"dataframe\">\n",
       "  <thead>\n",
       "    <tr style=\"text-align: right;\">\n",
       "      <th></th>\n",
       "      <th>P1</th>\n",
       "      <th>P2</th>\n",
       "      <th>P3</th>\n",
       "      <th>P4</th>\n",
       "      <th>P5</th>\n",
       "      <th>P6</th>\n",
       "      <th>P7</th>\n",
       "      <th>P8</th>\n",
       "      <th>P9</th>\n",
       "      <th>P10</th>\n",
       "      <th>P11</th>\n",
       "      <th>P12</th>\n",
       "    </tr>\n",
       "  </thead>\n",
       "  <tbody>\n",
       "    <tr>\n",
       "      <th>5615198</th>\n",
       "      <td>1.0</td>\n",
       "      <td>14.0</td>\n",
       "      <td>11.0</td>\n",
       "      <td>18.0</td>\n",
       "      <td>2.0</td>\n",
       "      <td>9.0</td>\n",
       "      <td>1.0</td>\n",
       "      <td>0.0</td>\n",
       "      <td>0.0</td>\n",
       "      <td>0.0</td>\n",
       "      <td>1.0</td>\n",
       "      <td>0.0</td>\n",
       "    </tr>\n",
       "    <tr>\n",
       "      <th>5615265</th>\n",
       "      <td>1.0</td>\n",
       "      <td>14.0</td>\n",
       "      <td>11.0</td>\n",
       "      <td>18.0</td>\n",
       "      <td>2.0</td>\n",
       "      <td>9.0</td>\n",
       "      <td>1.0</td>\n",
       "      <td>0.0</td>\n",
       "      <td>0.0</td>\n",
       "      <td>0.0</td>\n",
       "      <td>1.0</td>\n",
       "      <td>0.0</td>\n",
       "    </tr>\n",
       "    <tr>\n",
       "      <th>5615291</th>\n",
       "      <td>1.0</td>\n",
       "      <td>14.0</td>\n",
       "      <td>11.0</td>\n",
       "      <td>19.0</td>\n",
       "      <td>3.0</td>\n",
       "      <td>9.0</td>\n",
       "      <td>1.0</td>\n",
       "      <td>0.0</td>\n",
       "      <td>0.0</td>\n",
       "      <td>0.0</td>\n",
       "      <td>1.0</td>\n",
       "      <td>0.0</td>\n",
       "    </tr>\n",
       "    <tr>\n",
       "      <th>5615346</th>\n",
       "      <td>1.0</td>\n",
       "      <td>14.0</td>\n",
       "      <td>11.0</td>\n",
       "      <td>19.0</td>\n",
       "      <td>3.0</td>\n",
       "      <td>10.0</td>\n",
       "      <td>1.0</td>\n",
       "      <td>0.0</td>\n",
       "      <td>0.0</td>\n",
       "      <td>0.0</td>\n",
       "      <td>1.0</td>\n",
       "      <td>0.0</td>\n",
       "    </tr>\n",
       "    <tr>\n",
       "      <th>5615404</th>\n",
       "      <td>1.0</td>\n",
       "      <td>14.0</td>\n",
       "      <td>11.0</td>\n",
       "      <td>18.0</td>\n",
       "      <td>3.0</td>\n",
       "      <td>9.0</td>\n",
       "      <td>1.0</td>\n",
       "      <td>0.0</td>\n",
       "      <td>0.0</td>\n",
       "      <td>0.0</td>\n",
       "      <td>1.0</td>\n",
       "      <td>0.0</td>\n",
       "    </tr>\n",
       "  </tbody>\n",
       "</table>\n",
       "</div>"
      ],
      "text/plain": [
       "          P1    P2    P3    P4   P5    P6   P7   P8   P9  P10  P11  P12\n",
       "5615198  1.0  14.0  11.0  18.0  2.0   9.0  1.0  0.0  0.0  0.0  1.0  0.0\n",
       "5615265  1.0  14.0  11.0  18.0  2.0   9.0  1.0  0.0  0.0  0.0  1.0  0.0\n",
       "5615291  1.0  14.0  11.0  19.0  3.0   9.0  1.0  0.0  0.0  0.0  1.0  0.0\n",
       "5615346  1.0  14.0  11.0  19.0  3.0  10.0  1.0  0.0  0.0  0.0  1.0  0.0\n",
       "5615404  1.0  14.0  11.0  18.0  3.0   9.0  1.0  0.0  0.0  0.0  1.0  0.0"
      ]
     },
     "execution_count": 7,
     "metadata": {},
     "output_type": "execute_result"
    }
   ],
   "source": [
    "dateTime=datos['DateTime']\n",
    "target=datos['target']\n",
    "only_datos = datos[datos.columns[1:len(datos.columns)-1]]\n",
    "only_datos.head()"
   ]
  },
  {
   "cell_type": "code",
   "execution_count": 12,
   "metadata": {},
   "outputs": [],
   "source": [
    "#Transformadores\n",
    "nf = NoiseFilter(minimum=5.0)\n",
    "norm = Normalizer(max_=100)\n",
    "bt = ButterTransformer(N=3,Wn=0.05)\n",
    "vt = VarianceThresholdPD(threshold=0.5)\n",
    "clean_data = PipelineTransformer(nf,norm).fit_transform(only_datos)\n",
    "preprocess = PipelineTransformer(bt,vt).fit_transform(clean_data)\n",
    "clean_data = vt.fit_transform(clean_data)"
   ]
  },
  {
   "cell_type": "code",
   "execution_count": 13,
   "metadata": {},
   "outputs": [
    {
     "data": {
      "text/html": [
       "<div>\n",
       "<style scoped>\n",
       "    .dataframe tbody tr th:only-of-type {\n",
       "        vertical-align: middle;\n",
       "    }\n",
       "\n",
       "    .dataframe tbody tr th {\n",
       "        vertical-align: top;\n",
       "    }\n",
       "\n",
       "    .dataframe thead th {\n",
       "        text-align: right;\n",
       "    }\n",
       "</style>\n",
       "<table border=\"1\" class=\"dataframe\">\n",
       "  <thead>\n",
       "    <tr style=\"text-align: right;\">\n",
       "      <th></th>\n",
       "      <th>P1</th>\n",
       "      <th>P2</th>\n",
       "      <th>P3</th>\n",
       "      <th>P4</th>\n",
       "      <th>P5</th>\n",
       "      <th>P6</th>\n",
       "    </tr>\n",
       "  </thead>\n",
       "  <tbody>\n",
       "    <tr>\n",
       "      <th>5615198</th>\n",
       "      <td>0.0</td>\n",
       "      <td>11.47541</td>\n",
       "      <td>9.016393</td>\n",
       "      <td>14.754098</td>\n",
       "      <td>0.0</td>\n",
       "      <td>7.377049</td>\n",
       "    </tr>\n",
       "    <tr>\n",
       "      <th>5615265</th>\n",
       "      <td>0.0</td>\n",
       "      <td>11.47541</td>\n",
       "      <td>9.016393</td>\n",
       "      <td>14.754098</td>\n",
       "      <td>0.0</td>\n",
       "      <td>7.377049</td>\n",
       "    </tr>\n",
       "    <tr>\n",
       "      <th>5615291</th>\n",
       "      <td>0.0</td>\n",
       "      <td>11.47541</td>\n",
       "      <td>9.016393</td>\n",
       "      <td>15.573770</td>\n",
       "      <td>0.0</td>\n",
       "      <td>7.377049</td>\n",
       "    </tr>\n",
       "    <tr>\n",
       "      <th>5615346</th>\n",
       "      <td>0.0</td>\n",
       "      <td>11.47541</td>\n",
       "      <td>9.016393</td>\n",
       "      <td>15.573770</td>\n",
       "      <td>0.0</td>\n",
       "      <td>8.196721</td>\n",
       "    </tr>\n",
       "    <tr>\n",
       "      <th>5615404</th>\n",
       "      <td>0.0</td>\n",
       "      <td>11.47541</td>\n",
       "      <td>9.016393</td>\n",
       "      <td>14.754098</td>\n",
       "      <td>0.0</td>\n",
       "      <td>7.377049</td>\n",
       "    </tr>\n",
       "  </tbody>\n",
       "</table>\n",
       "</div>"
      ],
      "text/plain": [
       "          P1        P2        P3         P4   P5        P6\n",
       "5615198  0.0  11.47541  9.016393  14.754098  0.0  7.377049\n",
       "5615265  0.0  11.47541  9.016393  14.754098  0.0  7.377049\n",
       "5615291  0.0  11.47541  9.016393  15.573770  0.0  7.377049\n",
       "5615346  0.0  11.47541  9.016393  15.573770  0.0  8.196721\n",
       "5615404  0.0  11.47541  9.016393  14.754098  0.0  7.377049"
      ]
     },
     "execution_count": 13,
     "metadata": {},
     "output_type": "execute_result"
    }
   ],
   "source": [
    "clean_data.head()"
   ]
  },
  {
   "cell_type": "code",
   "execution_count": 14,
   "metadata": {},
   "outputs": [
    {
     "data": {
      "text/html": [
       "<div>\n",
       "<style scoped>\n",
       "    .dataframe tbody tr th:only-of-type {\n",
       "        vertical-align: middle;\n",
       "    }\n",
       "\n",
       "    .dataframe tbody tr th {\n",
       "        vertical-align: top;\n",
       "    }\n",
       "\n",
       "    .dataframe thead th {\n",
       "        text-align: right;\n",
       "    }\n",
       "</style>\n",
       "<table border=\"1\" class=\"dataframe\">\n",
       "  <thead>\n",
       "    <tr style=\"text-align: right;\">\n",
       "      <th></th>\n",
       "      <th>P1 BUTTER</th>\n",
       "      <th>P2 BUTTER</th>\n",
       "      <th>P3 BUTTER</th>\n",
       "      <th>P4 BUTTER</th>\n",
       "      <th>P5 BUTTER</th>\n",
       "      <th>P6 BUTTER</th>\n",
       "    </tr>\n",
       "  </thead>\n",
       "  <tbody>\n",
       "    <tr>\n",
       "      <th>5615198</th>\n",
       "      <td>-5.700178e-12</td>\n",
       "      <td>11.475411</td>\n",
       "      <td>9.016399</td>\n",
       "      <td>14.739310</td>\n",
       "      <td>-1.796949e-11</td>\n",
       "      <td>7.365066</td>\n",
       "    </tr>\n",
       "    <tr>\n",
       "      <th>5615265</th>\n",
       "      <td>-6.239481e-12</td>\n",
       "      <td>11.475411</td>\n",
       "      <td>9.016399</td>\n",
       "      <td>14.797474</td>\n",
       "      <td>-1.878728e-11</td>\n",
       "      <td>7.379628</td>\n",
       "    </tr>\n",
       "    <tr>\n",
       "      <th>5615291</th>\n",
       "      <td>-6.703635e-12</td>\n",
       "      <td>11.475411</td>\n",
       "      <td>9.016400</td>\n",
       "      <td>14.853589</td>\n",
       "      <td>-1.924200e-11</td>\n",
       "      <td>7.394337</td>\n",
       "    </tr>\n",
       "    <tr>\n",
       "      <th>5615346</th>\n",
       "      <td>-7.067487e-12</td>\n",
       "      <td>11.475411</td>\n",
       "      <td>9.016401</td>\n",
       "      <td>14.907073</td>\n",
       "      <td>-1.925988e-11</td>\n",
       "      <td>7.408931</td>\n",
       "    </tr>\n",
       "    <tr>\n",
       "      <th>5615404</th>\n",
       "      <td>-7.304296e-12</td>\n",
       "      <td>11.475411</td>\n",
       "      <td>9.016401</td>\n",
       "      <td>14.957425</td>\n",
       "      <td>-1.876631e-11</td>\n",
       "      <td>7.423176</td>\n",
       "    </tr>\n",
       "  </tbody>\n",
       "</table>\n",
       "</div>"
      ],
      "text/plain": [
       "            P1 BUTTER  P2 BUTTER  P3 BUTTER  P4 BUTTER     P5 BUTTER  \\\n",
       "5615198 -5.700178e-12  11.475411   9.016399  14.739310 -1.796949e-11   \n",
       "5615265 -6.239481e-12  11.475411   9.016399  14.797474 -1.878728e-11   \n",
       "5615291 -6.703635e-12  11.475411   9.016400  14.853589 -1.924200e-11   \n",
       "5615346 -7.067487e-12  11.475411   9.016401  14.907073 -1.925988e-11   \n",
       "5615404 -7.304296e-12  11.475411   9.016401  14.957425 -1.876631e-11   \n",
       "\n",
       "         P6 BUTTER  \n",
       "5615198   7.365066  \n",
       "5615265   7.379628  \n",
       "5615291   7.394337  \n",
       "5615346   7.408931  \n",
       "5615404   7.423176  "
      ]
     },
     "execution_count": 14,
     "metadata": {},
     "output_type": "execute_result"
    }
   ],
   "source": [
    "preprocess.head()"
   ]
  },
  {
   "cell_type": "code",
   "execution_count": 17,
   "metadata": {},
   "outputs": [],
   "source": [
    "datosLimpios = pd.concat((dateTime,clean_data,target),axis=1)\n",
    "datosProcesados = pd.concat((dateTime,preprocess,target),axis=1)\n",
    "with open('data/datos_clean.pdd','wb') as f:\n",
    "    pk.dump(datosLimpios,f)\n",
    "with open('data/datos_preprocess.pdd','wb') as f:\n",
    "    pk.dump(datosProcesados,f)"
   ]
  },
  {
   "cell_type": "markdown",
   "metadata": {},
   "source": [
    "### Cálculo de las  estadísticas móviles\n",
    "#### Widgets"
   ]
  },
  {
   "cell_type": "code",
   "execution_count": 18,
   "metadata": {},
   "outputs": [
    {
     "data": {
      "text/plain": [
       "40"
      ]
     },
     "execution_count": 18,
     "metadata": {},
     "output_type": "execute_result"
    }
   ],
   "source": [
    "import gc\n",
    "gc.collect()"
   ]
  },
  {
   "cell_type": "code",
   "execution_count": 19,
   "metadata": {},
   "outputs": [
    {
     "data": {
      "application/vnd.jupyter.widget-view+json": {
       "model_id": "9d4e4b2d077f49288d3a482822b1dddc",
       "version_major": 2,
       "version_minor": 0
      },
      "text/plain": [
       "IntSlider(value=25, description='Ventana:', max=50, min=1)"
      ]
     },
     "metadata": {},
     "output_type": "display_data"
    }
   ],
   "source": [
    "import ipywidgets as widgets\n",
    "from IPython.display import display\n",
    "\n",
    "slider = widgets.IntSlider(\n",
    "    value=25,\n",
    "    min=1,\n",
    "    max=50,\n",
    "    description='Ventana:',\n",
    "    readout=True,\n",
    "    readout_format='d'\n",
    ")\n",
    "\n",
    "display(slider)"
   ]
  },
  {
   "cell_type": "code",
   "execution_count": 20,
   "metadata": {},
   "outputs": [],
   "source": [
    "window = slider.value\n",
    "#Transformadores estadisticos\n",
    "mean = PipelineTransformer(StatisticsTransformer(mode='mean',window=window),norm)\n",
    "std = PipelineTransformer(StatisticsTransformer(mode='std',window=window),norm)\n",
    "ran = PipelineTransformer(StatisticsTransformer(mode='range',window=window),norm)\n",
    "cnt = ConcatenateTransformer(mean,std,ran)"
   ]
  },
  {
   "cell_type": "code",
   "execution_count": null,
   "metadata": {},
   "outputs": [],
   "source": [
    "preprocess_stats = cnt.fit_transform(preprocess)\n",
    "clean_stats = cnt.fit_transform(clean_data)"
   ]
  },
  {
   "cell_type": "code",
   "execution_count": null,
   "metadata": {},
   "outputs": [],
   "source": [
    "preprocess_stats.head()"
   ]
  },
  {
   "cell_type": "code",
   "execution_count": null,
   "metadata": {},
   "outputs": [],
   "source": [
    "clean_stats.head()"
   ]
  },
  {
   "cell_type": "markdown",
   "metadata": {},
   "source": [
    "### Exportación"
   ]
  },
  {
   "cell_type": "code",
   "execution_count": 18,
   "metadata": {},
   "outputs": [],
   "source": [
    "with open('data/datos.pdd','wb') as f:\n",
    "    pk.dump(datos,f)\n",
    "    \n",
    "with open('data/datosE.pdd','wb') as f:\n",
    "    pk.dump(dataE,f)"
   ]
  },
  {
   "cell_type": "code",
   "execution_count": null,
   "metadata": {},
   "outputs": [],
   "source": []
  }
 ],
 "metadata": {
  "kernelspec": {
   "display_name": "Python 3.7 (Mineria)",
   "language": "python",
   "name": "tfg"
  },
  "language_info": {
   "codemirror_mode": {
    "name": "ipython",
    "version": 3
   },
   "file_extension": ".py",
   "mimetype": "text/x-python",
   "name": "python",
   "nbconvert_exporter": "python",
   "pygments_lexer": "ipython3",
   "version": "3.7.2"
  }
 },
 "nbformat": 4,
 "nbformat_minor": 2
}
