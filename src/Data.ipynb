{
 "cells": [
  {
   "cell_type": "markdown",
   "metadata": {},
   "source": [
    "# SmartBeds - Preprocesado de Datos\n",
    "\n",
    "## Grado en Ingeniería Informática\n",
    "## Universidad de Burgos\n",
    "##### José Luis Garrido Labrador"
   ]
  },
  {
   "cell_type": "code",
   "execution_count": 2,
   "metadata": {},
   "outputs": [],
   "source": [
    "import pandas as pd # se importa pandas como pd\n",
    "import numpy as np  #numpy como np\n",
    "import matplotlib.pyplot as plt"
   ]
  },
  {
   "cell_type": "markdown",
   "metadata": {},
   "source": [
    "### Lectura"
   ]
  },
  {
   "cell_type": "code",
   "execution_count": 3,
   "metadata": {},
   "outputs": [
    {
     "name": "stderr",
     "output_type": "stream",
     "text": [
      "/home/jlgarridol/.local/lib/python3.6/site-packages/IPython/core/interactiveshell.py:3185: DtypeWarning: Columns (1) have mixed types. Specify dtype option on import or set low_memory=False.\n",
      "  if (yield from self.run_code(code, result)):\n"
     ]
    }
   ],
   "source": [
    "import loadData as ld\n",
    "\n",
    "datos = ld.load(r\"../data/\")\n",
    "\n",
    "datos = ld.preprocess(datos)"
   ]
  },
  {
   "cell_type": "markdown",
   "metadata": {},
   "source": [
    "### Datos manuales"
   ]
  },
  {
   "cell_type": "code",
   "execution_count": 4,
   "metadata": {},
   "outputs": [],
   "source": [
    "datos = ld.newSeizure(datos,'2018-11-10 3:30:00',60*20)"
   ]
  },
  {
   "cell_type": "markdown",
   "metadata": {},
   "source": [
    "### Preprocesado"
   ]
  },
  {
   "cell_type": "code",
   "execution_count": 5,
   "metadata": {},
   "outputs": [],
   "source": [
    "# Ordención\n",
    "datos = datos.sort_values(by='DateTime')"
   ]
  },
  {
   "cell_type": "code",
   "execution_count": 6,
   "metadata": {},
   "outputs": [],
   "source": [
    "# Eliminación de negativos y filtrado\n",
    "for d in datos:\n",
    "    if datos[d].dtype == np.float64:\n",
    "        datos.loc[datos[d]<5.0,d]=0.0"
   ]
  },
  {
   "cell_type": "code",
   "execution_count": 7,
   "metadata": {},
   "outputs": [
    {
     "data": {
      "text/html": [
       "<div>\n",
       "<style scoped>\n",
       "    .dataframe tbody tr th:only-of-type {\n",
       "        vertical-align: middle;\n",
       "    }\n",
       "\n",
       "    .dataframe tbody tr th {\n",
       "        vertical-align: top;\n",
       "    }\n",
       "\n",
       "    .dataframe thead th {\n",
       "        text-align: right;\n",
       "    }\n",
       "</style>\n",
       "<table border=\"1\" class=\"dataframe\">\n",
       "  <thead>\n",
       "    <tr style=\"text-align: right;\">\n",
       "      <th></th>\n",
       "      <th>DateTime</th>\n",
       "      <th>P1</th>\n",
       "      <th>P2</th>\n",
       "      <th>P3</th>\n",
       "      <th>P4</th>\n",
       "      <th>P5</th>\n",
       "      <th>P6</th>\n",
       "      <th>P7</th>\n",
       "      <th>P8</th>\n",
       "      <th>P9</th>\n",
       "      <th>P10</th>\n",
       "      <th>P11</th>\n",
       "      <th>P12</th>\n",
       "      <th>target</th>\n",
       "    </tr>\n",
       "  </thead>\n",
       "  <tbody>\n",
       "    <tr>\n",
       "      <th>4041041</th>\n",
       "      <td>2018-10-30 21:20:23</td>\n",
       "      <td>0.0</td>\n",
       "      <td>27.835052</td>\n",
       "      <td>30.208333</td>\n",
       "      <td>22.772277</td>\n",
       "      <td>0.0</td>\n",
       "      <td>0.0</td>\n",
       "      <td>0.0</td>\n",
       "      <td>0.0</td>\n",
       "      <td>0.0</td>\n",
       "      <td>0.0</td>\n",
       "      <td>0.0</td>\n",
       "      <td>0.0</td>\n",
       "      <td>False</td>\n",
       "    </tr>\n",
       "    <tr>\n",
       "      <th>4041042</th>\n",
       "      <td>2018-10-30 21:20:23</td>\n",
       "      <td>0.0</td>\n",
       "      <td>26.804124</td>\n",
       "      <td>29.166667</td>\n",
       "      <td>21.782178</td>\n",
       "      <td>0.0</td>\n",
       "      <td>0.0</td>\n",
       "      <td>0.0</td>\n",
       "      <td>0.0</td>\n",
       "      <td>0.0</td>\n",
       "      <td>0.0</td>\n",
       "      <td>0.0</td>\n",
       "      <td>0.0</td>\n",
       "      <td>False</td>\n",
       "    </tr>\n",
       "    <tr>\n",
       "      <th>4041043</th>\n",
       "      <td>2018-10-30 21:20:23</td>\n",
       "      <td>0.0</td>\n",
       "      <td>25.773196</td>\n",
       "      <td>28.125000</td>\n",
       "      <td>21.782178</td>\n",
       "      <td>0.0</td>\n",
       "      <td>0.0</td>\n",
       "      <td>0.0</td>\n",
       "      <td>0.0</td>\n",
       "      <td>0.0</td>\n",
       "      <td>0.0</td>\n",
       "      <td>0.0</td>\n",
       "      <td>0.0</td>\n",
       "      <td>False</td>\n",
       "    </tr>\n",
       "    <tr>\n",
       "      <th>4041044</th>\n",
       "      <td>2018-10-30 21:20:24</td>\n",
       "      <td>0.0</td>\n",
       "      <td>26.804124</td>\n",
       "      <td>29.166667</td>\n",
       "      <td>22.772277</td>\n",
       "      <td>0.0</td>\n",
       "      <td>0.0</td>\n",
       "      <td>0.0</td>\n",
       "      <td>0.0</td>\n",
       "      <td>0.0</td>\n",
       "      <td>0.0</td>\n",
       "      <td>0.0</td>\n",
       "      <td>0.0</td>\n",
       "      <td>False</td>\n",
       "    </tr>\n",
       "    <tr>\n",
       "      <th>4041045</th>\n",
       "      <td>2018-10-30 21:20:25</td>\n",
       "      <td>0.0</td>\n",
       "      <td>26.804124</td>\n",
       "      <td>30.208333</td>\n",
       "      <td>22.772277</td>\n",
       "      <td>0.0</td>\n",
       "      <td>0.0</td>\n",
       "      <td>0.0</td>\n",
       "      <td>0.0</td>\n",
       "      <td>0.0</td>\n",
       "      <td>0.0</td>\n",
       "      <td>0.0</td>\n",
       "      <td>0.0</td>\n",
       "      <td>False</td>\n",
       "    </tr>\n",
       "  </tbody>\n",
       "</table>\n",
       "</div>"
      ],
      "text/plain": [
       "                   DateTime   P1         P2         P3         P4   P5   P6  \\\n",
       "4041041 2018-10-30 21:20:23  0.0  27.835052  30.208333  22.772277  0.0  0.0   \n",
       "4041042 2018-10-30 21:20:23  0.0  26.804124  29.166667  21.782178  0.0  0.0   \n",
       "4041043 2018-10-30 21:20:23  0.0  25.773196  28.125000  21.782178  0.0  0.0   \n",
       "4041044 2018-10-30 21:20:24  0.0  26.804124  29.166667  22.772277  0.0  0.0   \n",
       "4041045 2018-10-30 21:20:25  0.0  26.804124  30.208333  22.772277  0.0  0.0   \n",
       "\n",
       "          P7   P8   P9  P10  P11  P12  target  \n",
       "4041041  0.0  0.0  0.0  0.0  0.0  0.0   False  \n",
       "4041042  0.0  0.0  0.0  0.0  0.0  0.0   False  \n",
       "4041043  0.0  0.0  0.0  0.0  0.0  0.0   False  \n",
       "4041044  0.0  0.0  0.0  0.0  0.0  0.0   False  \n",
       "4041045  0.0  0.0  0.0  0.0  0.0  0.0   False  "
      ]
     },
     "execution_count": 7,
     "metadata": {},
     "output_type": "execute_result"
    }
   ],
   "source": [
    "# Normalización\n",
    "tubesNorm = ld.normalize(datos.iloc[:,1:13])\n",
    "datos=pd.concat([datos['DateTime'],tubesNorm*100,datos['target']],axis=1)\n",
    "datos.head()"
   ]
  },
  {
   "cell_type": "code",
   "execution_count": 8,
   "metadata": {},
   "outputs": [
    {
     "name": "stderr",
     "output_type": "stream",
     "text": [
      "/usr/local/anaconda3/envs/TFG/lib/python3.6/site-packages/scipy/signal/_arraytools.py:45: FutureWarning: Using a non-tuple sequence for multidimensional indexing is deprecated; use `arr[tuple(seq)]` instead of `arr[seq]`. In the future this will be interpreted as an array index, `arr[np.array(seq)]`, which will result either in an error or a different result.\n",
      "  b = a[a_slice]\n"
     ]
    }
   ],
   "source": [
    "# Suavizado\n",
    "from scipy import signal\n",
    "\n",
    "dt = datos.iloc[:,1:13]\n",
    "dtN = dt.copy()\n",
    "b, a = signal.butter(3, 0.05)\n",
    "for i in range(len(dt.columns)):\n",
    "    xn = dt.iloc[:,i]\n",
    "    y = signal.filtfilt(b, a, xn)\n",
    "    dtN[\"P\"+str(i+1)]=y"
   ]
  },
  {
   "cell_type": "code",
   "execution_count": 9,
   "metadata": {},
   "outputs": [],
   "source": [
    "## Eliminación de tubos con poca varianza\n",
    "from sklearn.feature_selection import VarianceThreshold\n",
    "\n",
    "sel = VarianceThreshold(threshold=0.5)\n",
    "presiones_array = sel.fit_transform(dtN)\n",
    "presiones_array[presiones_array<1e-4]=0"
   ]
  },
  {
   "cell_type": "code",
   "execution_count": 10,
   "metadata": {},
   "outputs": [
    {
     "data": {
      "text/html": [
       "<div>\n",
       "<style scoped>\n",
       "    .dataframe tbody tr th:only-of-type {\n",
       "        vertical-align: middle;\n",
       "    }\n",
       "\n",
       "    .dataframe tbody tr th {\n",
       "        vertical-align: top;\n",
       "    }\n",
       "\n",
       "    .dataframe thead th {\n",
       "        text-align: right;\n",
       "    }\n",
       "</style>\n",
       "<table border=\"1\" class=\"dataframe\">\n",
       "  <thead>\n",
       "    <tr style=\"text-align: right;\">\n",
       "      <th></th>\n",
       "      <th>DateTime</th>\n",
       "      <th>P1</th>\n",
       "      <th>P2</th>\n",
       "      <th>P3</th>\n",
       "      <th>P4</th>\n",
       "      <th>P5</th>\n",
       "      <th>P6</th>\n",
       "      <th>target</th>\n",
       "    </tr>\n",
       "  </thead>\n",
       "  <tbody>\n",
       "    <tr>\n",
       "      <th>4041041</th>\n",
       "      <td>2018-10-30 21:20:23</td>\n",
       "      <td>0.0</td>\n",
       "      <td>27.937363</td>\n",
       "      <td>30.307803</td>\n",
       "      <td>22.880790</td>\n",
       "      <td>0.0</td>\n",
       "      <td>0.0</td>\n",
       "      <td>False</td>\n",
       "    </tr>\n",
       "    <tr>\n",
       "      <th>4041042</th>\n",
       "      <td>2018-10-30 21:20:23</td>\n",
       "      <td>0.0</td>\n",
       "      <td>27.906098</td>\n",
       "      <td>30.321736</td>\n",
       "      <td>22.997895</td>\n",
       "      <td>0.0</td>\n",
       "      <td>0.0</td>\n",
       "      <td>False</td>\n",
       "    </tr>\n",
       "    <tr>\n",
       "      <th>4041043</th>\n",
       "      <td>2018-10-30 21:20:23</td>\n",
       "      <td>0.0</td>\n",
       "      <td>27.855428</td>\n",
       "      <td>30.323693</td>\n",
       "      <td>23.103310</td>\n",
       "      <td>0.0</td>\n",
       "      <td>0.0</td>\n",
       "      <td>False</td>\n",
       "    </tr>\n",
       "    <tr>\n",
       "      <th>4041044</th>\n",
       "      <td>2018-10-30 21:20:24</td>\n",
       "      <td>0.0</td>\n",
       "      <td>27.786699</td>\n",
       "      <td>30.315115</td>\n",
       "      <td>23.197355</td>\n",
       "      <td>0.0</td>\n",
       "      <td>0.0</td>\n",
       "      <td>False</td>\n",
       "    </tr>\n",
       "    <tr>\n",
       "      <th>4041045</th>\n",
       "      <td>2018-10-30 21:20:25</td>\n",
       "      <td>0.0</td>\n",
       "      <td>27.701287</td>\n",
       "      <td>30.297382</td>\n",
       "      <td>23.280341</td>\n",
       "      <td>0.0</td>\n",
       "      <td>0.0</td>\n",
       "      <td>False</td>\n",
       "    </tr>\n",
       "  </tbody>\n",
       "</table>\n",
       "</div>"
      ],
      "text/plain": [
       "                   DateTime   P1         P2         P3         P4   P5   P6  \\\n",
       "4041041 2018-10-30 21:20:23  0.0  27.937363  30.307803  22.880790  0.0  0.0   \n",
       "4041042 2018-10-30 21:20:23  0.0  27.906098  30.321736  22.997895  0.0  0.0   \n",
       "4041043 2018-10-30 21:20:23  0.0  27.855428  30.323693  23.103310  0.0  0.0   \n",
       "4041044 2018-10-30 21:20:24  0.0  27.786699  30.315115  23.197355  0.0  0.0   \n",
       "4041045 2018-10-30 21:20:25  0.0  27.701287  30.297382  23.280341  0.0  0.0   \n",
       "\n",
       "         target  \n",
       "4041041   False  \n",
       "4041042   False  \n",
       "4041043   False  \n",
       "4041044   False  \n",
       "4041045   False  "
      ]
     },
     "execution_count": 10,
     "metadata": {},
     "output_type": "execute_result"
    }
   ],
   "source": [
    "for i in range(1,len(presiones_array[0])+1):\n",
    "    datos['P'+str(i)]=presiones_array[:,i-1]\n",
    "listNames = ['DateTime']\n",
    "for i in range(1,len(presiones_array[0])+1):\n",
    "    listNames.append(\"P\"+str(i))\n",
    "listNames.append('target')\n",
    "datos = datos[listNames]\n",
    "datos.head()"
   ]
  },
  {
   "cell_type": "code",
   "execution_count": 21,
   "metadata": {},
   "outputs": [
    {
     "data": {
      "image/png": "[encoded data removed]",
      "text/plain": [
       "<Figure size 1728x216 with 1 Axes>"
      ]
     },
     "metadata": {
      "needs_background": "light"
     },
     "output_type": "display_data"
    },
    {
     "data": {
      "image/png": "[encoded data removed]",
      "text/plain": [
       "<Figure size 1728x216 with 1 Axes>"
      ]
     },
     "metadata": {
      "needs_background": "light"
     },
     "output_type": "display_data"
    },
    {
     "data": {
      "image/png": "[encoded data removed]",
      "text/plain": [
       "<Figure size 1728x216 with 1 Axes>"
      ]
     },
     "metadata": {
      "needs_background": "light"
     },
     "output_type": "display_data"
    },
    {
     "data": {
      "image/png": "[encoded data removed]",
      "text/plain": [
       "<Figure size 1728x216 with 1 Axes>"
      ]
     },
     "metadata": {
      "needs_background": "light"
     },
     "output_type": "display_data"
    },
    {
     "data": {
      "image/png": "[encoded data removed]",
      "text/plain": [
       "<Figure size 1728x216 with 1 Axes>"
      ]
     },
     "metadata": {
      "needs_background": "light"
     },
     "output_type": "display_data"
    },
    {
     "data": {
      "image/png": "[encoded data removed]",
      "text/plain": [
       "<Figure size 1728x216 with 1 Axes>"
      ]
     },
     "metadata": {
      "needs_background": "light"
     },
     "output_type": "display_data"
    }
   ],
   "source": [
    "t = datos['DateTime'][11500:11800]\n",
    "for i in datos.iloc[:,1:len(datos.columns)-1]:\n",
    "    plt.figure(figsize=(24,3))\n",
    "    plt.plot(t, dt[i][11500:11800], 'b', alpha=0.75)\n",
    "    plt.plot(t, dtN[i][11500:11800], 'k')\n",
    "    plt.legend(('noisy signal','filtfilt'), loc='best')\n",
    "    plt.title(i)\n",
    "    plt.grid(True)\n",
    "    plt.savefig(i+\".svg\")"
   ]
  },
  {
   "cell_type": "markdown",
   "metadata": {},
   "source": [
    "### Cálculo de las  estadísticas móviles\n",
    "#### Widgets"
   ]
  },
  {
   "cell_type": "code",
   "execution_count": 12,
   "metadata": {},
   "outputs": [
    {
     "data": {
      "text/plain": [
       "15333"
      ]
     },
     "execution_count": 12,
     "metadata": {},
     "output_type": "execute_result"
    }
   ],
   "source": [
    "import gc\n",
    "gc.collect()"
   ]
  },
  {
   "cell_type": "code",
   "execution_count": 13,
   "metadata": {},
   "outputs": [],
   "source": [
    "import ipywidgets as widgets\n",
    "from IPython.display import display\n",
    "\n",
    "slider = widgets.IntSlider(\n",
    "    value=25,\n",
    "    min=1,\n",
    "    max=50,\n",
    "    description='Ventana:',\n",
    "    readout=True,\n",
    "    readout_format='d'\n",
    ")\n",
    "\n",
    "button = widgets.Button(\n",
    "    description='Calcular'\n",
    ")\n",
    "\n",
    "progress = widgets.IntProgress(\n",
    "    value=0,\n",
    "    min=0,\n",
    "    max=12,\n",
    "    step=1,\n",
    "    description='Procesado:',\n",
    "    bar_style='', # 'success', 'info', 'warning', 'danger' or ''\n",
    "    orientation='horizontal'\n",
    ")\n",
    "\n",
    "hb = widgets.HBox([slider,button,progress])"
   ]
  },
  {
   "cell_type": "code",
   "execution_count": 14,
   "metadata": {},
   "outputs": [
    {
     "data": {
      "application/vnd.jupyter.widget-view+json": {
       "model_id": "71a3e877799e4f97ab4e64bb3a8b39f2",
       "version_major": 2,
       "version_minor": 0
      },
      "text/plain": [
       "HBox(children=(IntSlider(value=25, description='Ventana:', max=50, min=1), Button(description='Calcular', styl…"
      ]
     },
     "metadata": {},
     "output_type": "display_data"
    },
    {
     "name": "stdout",
     "output_type": "stream",
     "text": [
      "Calculos realizados para ventana a 25                                                               \r"
     ]
    }
   ],
   "source": [
    "display(hb)\n",
    "\n",
    "dataE = datos.copy()\n",
    "\n",
    "def estadisticos(b):\n",
    "    global slider, dataE, progress\n",
    "    \n",
    "    progress.value = 0\n",
    "    \n",
    "    before = b.description\n",
    "    b.description='Espera'\n",
    "\n",
    "    print(\" \"*100,end='\\r')\n",
    "    \n",
    "    ventanaMedia = slider.value\n",
    "    \n",
    "    for i in range(1,len(datos.columns)-1):\n",
    "        nombre_col = 'P'+str(i)\n",
    "        nombre_col_mean = nombre_col+' mean'\n",
    "        dataE[nombre_col_mean] = dataE[nombre_col].rolling(ventanaMedia).mean()\n",
    "        progress.value += 1\n",
    "\n",
    "    ventanaDesviacion = ventanaMedia\n",
    "\n",
    "    for i in range(1,len(datos.columns)-1):\n",
    "        nombre_col = 'P'+str(i)\n",
    "        nombre_col_std = nombre_col+' std'\n",
    "        dataE[nombre_col_std] = dataE[nombre_col].rolling(ventanaDesviacion).std()\n",
    "        progress.value += 1\n",
    "        \n",
    "    print('Calculos realizados para ventana a',ventanaMedia,end=\"\\r\")\n",
    "    b.description = before\n",
    "        \n",
    "    dataE = dataE.dropna()\n",
    "    \n",
    "\n",
    "button.on_click(estadisticos)\n"
   ]
  },
  {
   "cell_type": "code",
   "execution_count": 15,
   "metadata": {},
   "outputs": [
    {
     "data": {
      "text/html": [
       "<div>\n",
       "<style scoped>\n",
       "    .dataframe tbody tr th:only-of-type {\n",
       "        vertical-align: middle;\n",
       "    }\n",
       "\n",
       "    .dataframe tbody tr th {\n",
       "        vertical-align: top;\n",
       "    }\n",
       "\n",
       "    .dataframe thead th {\n",
       "        text-align: right;\n",
       "    }\n",
       "</style>\n",
       "<table border=\"1\" class=\"dataframe\">\n",
       "  <thead>\n",
       "    <tr style=\"text-align: right;\">\n",
       "      <th></th>\n",
       "      <th>DateTime</th>\n",
       "      <th>P1</th>\n",
       "      <th>P2</th>\n",
       "      <th>P3</th>\n",
       "      <th>P4</th>\n",
       "      <th>P5</th>\n",
       "      <th>P6</th>\n",
       "      <th>target</th>\n",
       "      <th>P1 mean</th>\n",
       "      <th>P2 mean</th>\n",
       "      <th>P3 mean</th>\n",
       "      <th>P4 mean</th>\n",
       "      <th>P5 mean</th>\n",
       "      <th>P6 mean</th>\n",
       "      <th>P1 std</th>\n",
       "      <th>P2 std</th>\n",
       "      <th>P3 std</th>\n",
       "      <th>P4 std</th>\n",
       "      <th>P5 std</th>\n",
       "      <th>P6 std</th>\n",
       "    </tr>\n",
       "  </thead>\n",
       "  <tbody>\n",
       "    <tr>\n",
       "      <th>4041065</th>\n",
       "      <td>2018-10-30 21:20:41</td>\n",
       "      <td>0.0</td>\n",
       "      <td>24.330140</td>\n",
       "      <td>28.975939</td>\n",
       "      <td>22.873583</td>\n",
       "      <td>0.0</td>\n",
       "      <td>0.0</td>\n",
       "      <td>False</td>\n",
       "      <td>0.0</td>\n",
       "      <td>26.400677</td>\n",
       "      <td>29.826624</td>\n",
       "      <td>23.299152</td>\n",
       "      <td>0.0</td>\n",
       "      <td>0.0</td>\n",
       "      <td>0.0</td>\n",
       "      <td>1.196516</td>\n",
       "      <td>0.449256</td>\n",
       "      <td>0.228480</td>\n",
       "      <td>0.0</td>\n",
       "      <td>0.0</td>\n",
       "    </tr>\n",
       "    <tr>\n",
       "      <th>4041066</th>\n",
       "      <td>2018-10-30 21:20:41</td>\n",
       "      <td>0.0</td>\n",
       "      <td>24.179377</td>\n",
       "      <td>28.900269</td>\n",
       "      <td>22.798271</td>\n",
       "      <td>0.0</td>\n",
       "      <td>0.0</td>\n",
       "      <td>False</td>\n",
       "      <td>0.0</td>\n",
       "      <td>26.250357</td>\n",
       "      <td>29.770323</td>\n",
       "      <td>23.295851</td>\n",
       "      <td>0.0</td>\n",
       "      <td>0.0</td>\n",
       "      <td>0.0</td>\n",
       "      <td>1.230980</td>\n",
       "      <td>0.473960</td>\n",
       "      <td>0.235270</td>\n",
       "      <td>0.0</td>\n",
       "      <td>0.0</td>\n",
       "    </tr>\n",
       "    <tr>\n",
       "      <th>4041067</th>\n",
       "      <td>2018-10-30 21:20:42</td>\n",
       "      <td>0.0</td>\n",
       "      <td>24.038676</td>\n",
       "      <td>28.828217</td>\n",
       "      <td>22.725685</td>\n",
       "      <td>0.0</td>\n",
       "      <td>0.0</td>\n",
       "      <td>False</td>\n",
       "      <td>0.0</td>\n",
       "      <td>26.095660</td>\n",
       "      <td>29.710582</td>\n",
       "      <td>23.284963</td>\n",
       "      <td>0.0</td>\n",
       "      <td>0.0</td>\n",
       "      <td>0.0</td>\n",
       "      <td>1.256968</td>\n",
       "      <td>0.495210</td>\n",
       "      <td>0.255098</td>\n",
       "      <td>0.0</td>\n",
       "      <td>0.0</td>\n",
       "    </tr>\n",
       "    <tr>\n",
       "      <th>4041068</th>\n",
       "      <td>2018-10-30 21:20:43</td>\n",
       "      <td>0.0</td>\n",
       "      <td>23.908417</td>\n",
       "      <td>28.760066</td>\n",
       "      <td>22.656591</td>\n",
       "      <td>0.0</td>\n",
       "      <td>0.0</td>\n",
       "      <td>False</td>\n",
       "      <td>0.0</td>\n",
       "      <td>25.937780</td>\n",
       "      <td>29.648037</td>\n",
       "      <td>23.267094</td>\n",
       "      <td>0.0</td>\n",
       "      <td>0.0</td>\n",
       "      <td>0.0</td>\n",
       "      <td>1.274483</td>\n",
       "      <td>0.512972</td>\n",
       "      <td>0.282524</td>\n",
       "      <td>0.0</td>\n",
       "      <td>0.0</td>\n",
       "    </tr>\n",
       "    <tr>\n",
       "      <th>4041069</th>\n",
       "      <td>2018-10-30 21:20:44</td>\n",
       "      <td>0.0</td>\n",
       "      <td>23.788802</td>\n",
       "      <td>28.695967</td>\n",
       "      <td>22.591578</td>\n",
       "      <td>0.0</td>\n",
       "      <td>0.0</td>\n",
       "      <td>False</td>\n",
       "      <td>0.0</td>\n",
       "      <td>25.777864</td>\n",
       "      <td>29.583271</td>\n",
       "      <td>23.242863</td>\n",
       "      <td>0.0</td>\n",
       "      <td>0.0</td>\n",
       "      <td>0.0</td>\n",
       "      <td>1.283609</td>\n",
       "      <td>0.527255</td>\n",
       "      <td>0.313079</td>\n",
       "      <td>0.0</td>\n",
       "      <td>0.0</td>\n",
       "    </tr>\n",
       "  </tbody>\n",
       "</table>\n",
       "</div>"
      ],
      "text/plain": [
       "                   DateTime   P1         P2         P3         P4   P5   P6  \\\n",
       "4041065 2018-10-30 21:20:41  0.0  24.330140  28.975939  22.873583  0.0  0.0   \n",
       "4041066 2018-10-30 21:20:41  0.0  24.179377  28.900269  22.798271  0.0  0.0   \n",
       "4041067 2018-10-30 21:20:42  0.0  24.038676  28.828217  22.725685  0.0  0.0   \n",
       "4041068 2018-10-30 21:20:43  0.0  23.908417  28.760066  22.656591  0.0  0.0   \n",
       "4041069 2018-10-30 21:20:44  0.0  23.788802  28.695967  22.591578  0.0  0.0   \n",
       "\n",
       "         target  P1 mean    P2 mean    P3 mean    P4 mean  P5 mean  P6 mean  \\\n",
       "4041065   False      0.0  26.400677  29.826624  23.299152      0.0      0.0   \n",
       "4041066   False      0.0  26.250357  29.770323  23.295851      0.0      0.0   \n",
       "4041067   False      0.0  26.095660  29.710582  23.284963      0.0      0.0   \n",
       "4041068   False      0.0  25.937780  29.648037  23.267094      0.0      0.0   \n",
       "4041069   False      0.0  25.777864  29.583271  23.242863      0.0      0.0   \n",
       "\n",
       "         P1 std    P2 std    P3 std    P4 std  P5 std  P6 std  \n",
       "4041065     0.0  1.196516  0.449256  0.228480     0.0     0.0  \n",
       "4041066     0.0  1.230980  0.473960  0.235270     0.0     0.0  \n",
       "4041067     0.0  1.256968  0.495210  0.255098     0.0     0.0  \n",
       "4041068     0.0  1.274483  0.512972  0.282524     0.0     0.0  \n",
       "4041069     0.0  1.283609  0.527255  0.313079     0.0     0.0  "
      ]
     },
     "execution_count": 15,
     "metadata": {},
     "output_type": "execute_result"
    }
   ],
   "source": [
    "dataE.head()"
   ]
  },
  {
   "cell_type": "markdown",
   "metadata": {},
   "source": [
    "### Exportación"
   ]
  },
  {
   "cell_type": "code",
   "execution_count": 16,
   "metadata": {},
   "outputs": [],
   "source": [
    "import pickle as pk"
   ]
  },
  {
   "cell_type": "code",
   "execution_count": 17,
   "metadata": {},
   "outputs": [],
   "source": [
    "with open('datos.pdd','wb') as f:\n",
    "    pk.dump(datos,f)\n",
    "    \n",
    "with open('datosE.pdd','wb') as f:\n",
    "    pk.dump(dataE,f)"
   ]
  },
  {
   "cell_type": "code",
   "execution_count": null,
   "metadata": {},
   "outputs": [],
   "source": []
  }
 ],
 "metadata": {
  "kernelspec": {
   "display_name": "Python (TFG)",
   "language": "python",
   "name": "tfg"
  },
  "language_info": {
   "codemirror_mode": {
    "name": "ipython",
    "version": 3
   },
   "file_extension": ".py",
   "mimetype": "text/x-python",
   "name": "python",
   "nbconvert_exporter": "python",
   "pygments_lexer": "ipython3",
   "version": "3.6.8"
  }
 },
 "nbformat": 4,
 "nbformat_minor": 2
}
