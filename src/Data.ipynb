{
 "cells": [
  {
   "cell_type": "markdown",
   "metadata": {},
   "source": [
    "# SmartBeds - Preprocesado de Datos\n",
    "\n",
    "## Grado en Ingeniería Informática\n",
    "## Universidad de Burgos\n",
    "##### José Luis Garrido Labrador"
   ]
  },
  {
   "cell_type": "code",
   "execution_count": 8,
   "metadata": {},
   "outputs": [],
   "source": [
    "import pandas as pd # se importa pandas como pd\n",
    "import numpy as np  #numpy como np"
   ]
  },
  {
   "cell_type": "markdown",
   "metadata": {},
   "source": [
    "### Lectura"
   ]
  },
  {
   "cell_type": "code",
   "execution_count": 2,
   "metadata": {},
   "outputs": [
    {
     "name": "stderr",
     "output_type": "stream",
     "text": [
      "/home/jlgarridol/.local/lib/python3.6/site-packages/IPython/core/interactiveshell.py:3185: DtypeWarning: Columns (1) have mixed types. Specify dtype option on import or set low_memory=False.\n",
      "  if (yield from self.run_code(code, result)):\n"
     ]
    }
   ],
   "source": [
    "import loadData as ld\n",
    "\n",
    "datos = ld.load(r\"../data/\")\n",
    "\n",
    "datos = ld.preprocess(datos)"
   ]
  },
  {
   "cell_type": "markdown",
   "metadata": {},
   "source": [
    "### Datos manuales"
   ]
  },
  {
   "cell_type": "code",
   "execution_count": 3,
   "metadata": {},
   "outputs": [],
   "source": [
    "datos = ld.newSeizure(datos,'2018-11-10 3:30:00',60*20)"
   ]
  },
  {
   "cell_type": "markdown",
   "metadata": {},
   "source": [
    "### Cálculo de las  estadísticas móviles\n",
    "#### Widgets"
   ]
  },
  {
   "cell_type": "code",
   "execution_count": 4,
   "metadata": {},
   "outputs": [],
   "source": [
    "import ipywidgets as widgets\n",
    "from IPython.display import display\n",
    "\n",
    "slider = widgets.IntSlider(\n",
    "    value=25,\n",
    "    min=1,\n",
    "    max=50,\n",
    "    description='Ventana:',\n",
    "    readout=True,\n",
    "    readout_format='d'\n",
    ")\n",
    "\n",
    "button = widgets.Button(\n",
    "    description='Calcular'\n",
    ")\n",
    "\n",
    "progress = widgets.IntProgress(\n",
    "    value=0,\n",
    "    min=0,\n",
    "    max=24,\n",
    "    step=1,\n",
    "    description='Procesado:',\n",
    "    bar_style='', # 'success', 'info', 'warning', 'danger' or ''\n",
    "    orientation='horizontal'\n",
    ")\n",
    "\n",
    "hb = widgets.HBox([slider,button,progress])"
   ]
  },
  {
   "cell_type": "code",
   "execution_count": 5,
   "metadata": {},
   "outputs": [
    {
     "data": {
      "application/vnd.jupyter.widget-view+json": {
       "model_id": "1e17ab2341684466b35e253537220b77",
       "version_major": 2,
       "version_minor": 0
      },
      "text/plain": [
       "HBox(children=(IntSlider(value=25, description='Ventana:', max=50, min=1), Button(description='Calcular', styl…"
      ]
     },
     "metadata": {},
     "output_type": "display_data"
    },
    {
     "name": "stdout",
     "output_type": "stream",
     "text": [
      "Calculos realizados para ventana a 25                                                               \r"
     ]
    }
   ],
   "source": [
    "display(hb)\n",
    "\n",
    "dataE = datos.copy()\n",
    "\n",
    "def estadisticos(b):\n",
    "    global slider, dataE, progress\n",
    "    \n",
    "    progress.value = 0\n",
    "    \n",
    "    before = b.description\n",
    "    b.description='Espera'\n",
    "\n",
    "    print(\" \"*100,end='\\r')\n",
    "    \n",
    "    ventanaMedia = slider.value\n",
    "    \n",
    "    for i in range(1,13):\n",
    "        nombre_col = 'P'+str(i)\n",
    "        nombre_col_mean = nombre_col+' mean'\n",
    "        dataE[nombre_col_mean] = dataE[nombre_col].rolling(ventanaMedia).mean()\n",
    "        progress.value += 1\n",
    "\n",
    "    ventanaDesviacion = ventanaMedia\n",
    "\n",
    "    for i in range(1,13):\n",
    "        nombre_col = 'P'+str(i)\n",
    "        nombre_col_std = nombre_col+' std'\n",
    "        dataE[nombre_col_std] = dataE[nombre_col].rolling(ventanaDesviacion).std()\n",
    "        progress.value += 1\n",
    "        \n",
    "    print('Calculos realizados para ventana a',ventanaMedia,end=\"\\r\")\n",
    "    b.description = before\n",
    "        \n",
    "    dataE = dataE.dropna()\n",
    "    \n",
    "\n",
    "button.on_click(estadisticos)\n"
   ]
  },
  {
   "cell_type": "markdown",
   "metadata": {},
   "source": [
    "### Exportación"
   ]
  },
  {
   "cell_type": "code",
   "execution_count": 6,
   "metadata": {},
   "outputs": [],
   "source": [
    "import pickle as pk"
   ]
  },
  {
   "cell_type": "code",
   "execution_count": 7,
   "metadata": {},
   "outputs": [],
   "source": [
    "with open('datos.pdd','wb') as f:\n",
    "    pk.dump(datos,f)\n",
    "    \n",
    "with open('datosE.pdd','wb') as f:\n",
    "    pk.dump(dataE,f)"
   ]
  },
  {
   "cell_type": "code",
   "execution_count": null,
   "metadata": {},
   "outputs": [],
   "source": []
  }
 ],
 "metadata": {
  "kernelspec": {
   "display_name": "Python (TFG)",
   "language": "python",
   "name": "tfg"
  },
  "language_info": {
   "codemirror_mode": {
    "name": "ipython",
    "version": 3
   },
   "file_extension": ".py",
   "mimetype": "text/x-python",
   "name": "python",
   "nbconvert_exporter": "python",
   "pygments_lexer": "ipython3",
   "version": "3.6.8"
  }
 },
 "nbformat": 4,
 "nbformat_minor": 2
}
