{
 "cells": [
  {
   "cell_type": "markdown",
   "metadata": {},
   "source": [
    "# SmartBeds - Filtrados\n",
    "\n",
    "## Grado en Ingeniería Informática\n",
    "## Universidad de Burgos\n",
    "##### José Luis Garrido Labrador"
   ]
  },
  {
   "cell_type": "code",
   "execution_count": 3,
   "metadata": {},
   "outputs": [],
   "source": [
    "%matplotlib inline\n",
    "#para dibujar en el propio notebook\n",
    "import pandas as pd # se importa pandas como pd\n",
    "import numpy as np  #numpy como np\n",
    "import pickle as pk #Pikcle as pk\n",
    "import matplotlib.pyplot as plt\n",
    "from scipy.signal import savgol_filter\n",
    "from utils import dibujado\n",
    "from sklearn.feature_selection import VarianceThreshold"
   ]
  },
  {
   "cell_type": "markdown",
   "metadata": {},
   "source": [
    "### Carga de brutos"
   ]
  },
  {
   "cell_type": "code",
   "execution_count": 4,
   "metadata": {},
   "outputs": [],
   "source": [
    "with open('data/datos_raw.pdd','rb') as f:\n",
    "    datos_raw = pk.load(f)\n",
    "datos_seizure = datos_raw.loc[datos_raw['target']==True]"
   ]
  },
  {
   "cell_type": "code",
   "execution_count": 5,
   "metadata": {},
   "outputs": [
    {
     "data": {
      "text/html": [
       "<div>\n",
       "<style scoped>\n",
       "    .dataframe tbody tr th:only-of-type {\n",
       "        vertical-align: middle;\n",
       "    }\n",
       "\n",
       "    .dataframe tbody tr th {\n",
       "        vertical-align: top;\n",
       "    }\n",
       "\n",
       "    .dataframe thead th {\n",
       "        text-align: right;\n",
       "    }\n",
       "</style>\n",
       "<table border=\"1\" class=\"dataframe\">\n",
       "  <thead>\n",
       "    <tr style=\"text-align: right;\">\n",
       "      <th></th>\n",
       "      <th>DateTime</th>\n",
       "      <th>P1</th>\n",
       "      <th>P2</th>\n",
       "      <th>P3</th>\n",
       "      <th>P4</th>\n",
       "      <th>P5</th>\n",
       "      <th>P6</th>\n",
       "      <th>P7</th>\n",
       "      <th>P8</th>\n",
       "      <th>P9</th>\n",
       "      <th>P10</th>\n",
       "      <th>P11</th>\n",
       "      <th>P12</th>\n",
       "      <th>target</th>\n",
       "    </tr>\n",
       "  </thead>\n",
       "  <tbody>\n",
       "    <tr>\n",
       "      <th>3318693</th>\n",
       "      <td>2018-11-10 00:00:00</td>\n",
       "      <td>0.0</td>\n",
       "      <td>24.742268</td>\n",
       "      <td>25.773196</td>\n",
       "      <td>35.051546</td>\n",
       "      <td>28.865979</td>\n",
       "      <td>15.463918</td>\n",
       "      <td>0.0</td>\n",
       "      <td>0.0</td>\n",
       "      <td>0.0</td>\n",
       "      <td>0.0</td>\n",
       "      <td>0.0</td>\n",
       "      <td>0.0</td>\n",
       "      <td>False</td>\n",
       "    </tr>\n",
       "    <tr>\n",
       "      <th>3318694</th>\n",
       "      <td>2018-11-10 00:00:00</td>\n",
       "      <td>0.0</td>\n",
       "      <td>29.896907</td>\n",
       "      <td>35.051546</td>\n",
       "      <td>46.391753</td>\n",
       "      <td>37.113402</td>\n",
       "      <td>17.525773</td>\n",
       "      <td>0.0</td>\n",
       "      <td>0.0</td>\n",
       "      <td>0.0</td>\n",
       "      <td>0.0</td>\n",
       "      <td>0.0</td>\n",
       "      <td>0.0</td>\n",
       "      <td>False</td>\n",
       "    </tr>\n",
       "    <tr>\n",
       "      <th>3318697</th>\n",
       "      <td>2018-11-10 00:00:01</td>\n",
       "      <td>0.0</td>\n",
       "      <td>31.958763</td>\n",
       "      <td>34.020619</td>\n",
       "      <td>42.268041</td>\n",
       "      <td>30.927835</td>\n",
       "      <td>16.494845</td>\n",
       "      <td>0.0</td>\n",
       "      <td>0.0</td>\n",
       "      <td>0.0</td>\n",
       "      <td>0.0</td>\n",
       "      <td>0.0</td>\n",
       "      <td>0.0</td>\n",
       "      <td>False</td>\n",
       "    </tr>\n",
       "    <tr>\n",
       "      <th>3318695</th>\n",
       "      <td>2018-11-10 00:00:01</td>\n",
       "      <td>0.0</td>\n",
       "      <td>31.958763</td>\n",
       "      <td>38.144330</td>\n",
       "      <td>48.453608</td>\n",
       "      <td>39.175258</td>\n",
       "      <td>18.556701</td>\n",
       "      <td>0.0</td>\n",
       "      <td>0.0</td>\n",
       "      <td>0.0</td>\n",
       "      <td>0.0</td>\n",
       "      <td>0.0</td>\n",
       "      <td>0.0</td>\n",
       "      <td>False</td>\n",
       "    </tr>\n",
       "    <tr>\n",
       "      <th>3318696</th>\n",
       "      <td>2018-11-10 00:00:01</td>\n",
       "      <td>0.0</td>\n",
       "      <td>34.020619</td>\n",
       "      <td>37.113402</td>\n",
       "      <td>44.329897</td>\n",
       "      <td>34.020619</td>\n",
       "      <td>16.494845</td>\n",
       "      <td>0.0</td>\n",
       "      <td>0.0</td>\n",
       "      <td>0.0</td>\n",
       "      <td>0.0</td>\n",
       "      <td>0.0</td>\n",
       "      <td>0.0</td>\n",
       "      <td>False</td>\n",
       "    </tr>\n",
       "  </tbody>\n",
       "</table>\n",
       "</div>"
      ],
      "text/plain": [
       "                   DateTime   P1         P2         P3         P4         P5  \\\n",
       "3318693 2018-11-10 00:00:00  0.0  24.742268  25.773196  35.051546  28.865979   \n",
       "3318694 2018-11-10 00:00:00  0.0  29.896907  35.051546  46.391753  37.113402   \n",
       "3318697 2018-11-10 00:00:01  0.0  31.958763  34.020619  42.268041  30.927835   \n",
       "3318695 2018-11-10 00:00:01  0.0  31.958763  38.144330  48.453608  39.175258   \n",
       "3318696 2018-11-10 00:00:01  0.0  34.020619  37.113402  44.329897  34.020619   \n",
       "\n",
       "                P6   P7   P8   P9  P10  P11  P12  target  \n",
       "3318693  15.463918  0.0  0.0  0.0  0.0  0.0  0.0   False  \n",
       "3318694  17.525773  0.0  0.0  0.0  0.0  0.0  0.0   False  \n",
       "3318697  16.494845  0.0  0.0  0.0  0.0  0.0  0.0   False  \n",
       "3318695  18.556701  0.0  0.0  0.0  0.0  0.0  0.0   False  \n",
       "3318696  16.494845  0.0  0.0  0.0  0.0  0.0  0.0   False  "
      ]
     },
     "execution_count": 5,
     "metadata": {},
     "output_type": "execute_result"
    }
   ],
   "source": [
    "### Días donde hubo crisis\n",
    "dayOfSeizures = set()\n",
    "\n",
    "for i in datos_seizure['DateTime']:\n",
    "    dayOfSeizures.add(i.date())\n",
    "\n",
    "\n",
    "#Todos los datos de esos días\n",
    "crit = datos_raw['DateTime'].map(lambda x: x.date() in dayOfSeizures)\n",
    "\n",
    "datosPart = datos_raw[crit]\n",
    "datosPart.head()"
   ]
  },
  {
   "cell_type": "code",
   "execution_count": 6,
   "metadata": {},
   "outputs": [
    {
     "data": {
      "text/plain": [
       "([Timestamp('2018-11-10 03:10:00')], [Timestamp('2018-11-10 04:10:00')])"
      ]
     },
     "execution_count": 6,
     "metadata": {},
     "output_type": "execute_result"
    }
   ],
   "source": [
    "## datosPart tiene lo días donde hubo ataques\n",
    "# Cogemos la hora donde comenzó la crisis y cogemos 30 minutos antes\n",
    "# Cogemos la hora donde terminó la crisis y cogemos 30 minutos despues\n",
    "start = [] #Momentos en los que comenzó una crisis\n",
    "stop = [] #Momentos en los que terminó una crisis\n",
    "\n",
    "bi = datosPart.first_valid_index()\n",
    "before = datosPart['target'][bi]\n",
    "for index,row in datosPart.iterrows():\n",
    "    if row['target'] and not before:\n",
    "        start.append(row['DateTime'])\n",
    "    elif not row['target'] and before:\n",
    "        stop.append(datosPart['DateTime'][bi])\n",
    "    before = row['target']\n",
    "    bi = index\n",
    "    \n",
    "halfhour = 20*60\n",
    "\n",
    "for i in range(len(start)):\n",
    "    t = start[i]\n",
    "    s = stop[i]\n",
    "    start[i] = t-pd.to_timedelta(halfhour,unit='s')\n",
    "    stop[i] = s+pd.to_timedelta(halfhour,unit='s')\n",
    "\n",
    "start,stop"
   ]
  },
  {
   "cell_type": "code",
   "execution_count": 7,
   "metadata": {},
   "outputs": [],
   "source": [
    "masks = []\n",
    "for i in range(len(start)):\n",
    "    t = start[i]\n",
    "    s = stop[i]\n",
    "    masks.append(np.array([(datosPart['DateTime'] >= t) & (datosPart['DateTime'] <= s)],dtype=np.bool))\n",
    "\n",
    "parts = []\n",
    "mask=sum(masks)[0].astype(np.bool)\n",
    "datosPartHour = datosPart.iloc[mask]"
   ]
  },
  {
   "cell_type": "code",
   "execution_count": 8,
   "metadata": {},
   "outputs": [],
   "source": [
    "min_ = np.min(datosPartHour['DateTime'])\n",
    "max_ = np.max(datosPartHour['DateTime'])\n",
    "datos_raw = datos_raw[datos_raw['DateTime'].map(lambda x: (x >= min_) & (x <= max_))]"
   ]
  },
  {
   "cell_type": "markdown",
   "metadata": {},
   "source": [
    "### Funciones"
   ]
  },
  {
   "cell_type": "code",
   "execution_count": 11,
   "metadata": {},
   "outputs": [],
   "source": [
    "def filter_all(data,window_length, polyorder):\n",
    "    for i in data:\n",
    "        data[i] = savgol_filter(data[i],window_length,polyorder)\n",
    "    return data"
   ]
  },
  {
   "cell_type": "markdown",
   "metadata": {},
   "source": [
    "### Filtrados"
   ]
  },
  {
   "cell_type": "code",
   "execution_count": 12,
   "metadata": {},
   "outputs": [
    {
     "name": "stdout",
     "output_type": "stream",
     "text": [
      "P1\n",
      "P2\n",
      "P3\n",
      "P4\n",
      "P5\n",
      "P6\n",
      "P7\n",
      "P8\n",
      "P9\n",
      "P10\n",
      "P11\n",
      "P12\n",
      "P1\n",
      "P2\n",
      "P3\n",
      "P4\n",
      "P5\n",
      "P6\n",
      "P7\n",
      "P8\n",
      "P9\n",
      "P10\n",
      "P11\n",
      "P12\n",
      "P1\n",
      "P2\n",
      "P3\n",
      "P4\n",
      "P5\n",
      "P6\n",
      "P7\n",
      "P8\n",
      "P9\n",
      "P10\n",
      "P11\n",
      "P12\n",
      "P1\n",
      "P2\n",
      "P3\n",
      "P4\n",
      "P5\n",
      "P6\n",
      "P7\n",
      "P8\n",
      "P9\n",
      "P10\n",
      "P11\n",
      "P12\n"
     ]
    }
   ],
   "source": [
    "params = [(5,2),(7,2),(9,2),(11,2)]\n",
    "filts = list()\n",
    "for p in params:\n",
    "    dtL = datos_raw.copy()\n",
    "    dt = filter_all(datos_raw.iloc[:,1:len(datos_raw.columns)-1],p[0],p[1])\n",
    "    \n",
    "    sel = VarianceThreshold(threshold=0.5)\n",
    "    presiones_array = sel.fit_transform(dt)\n",
    "    presiones_array[presiones_array<1e-4]=0\n",
    "    \n",
    "    for i in range(1,len(presiones_array[0])+1):\n",
    "        dtL['P'+str(i)]=presiones_array[:,i-1]\n",
    "    listNames = ['DateTime']\n",
    "    for i in range(1,len(presiones_array[0])+1):\n",
    "        listNames.append(\"P\"+str(i))\n",
    "    listNames.append('target')\n",
    "    dt = dtL[listNames]\n",
    "    \n",
    "    filts.append(dt)"
   ]
  },
  {
   "cell_type": "code",
   "execution_count": 9,
   "metadata": {
    "scrolled": false
   },
   "outputs": [],
   "source": [
    "for i in range(len(filts)):\n",
    "    f = filts[i]\n",
    "    cols = list()\n",
    "    for j in range(len(f.columns)-2):\n",
    "        cols.append('P'+str(j+1))\n",
    "    for c in cols:\n",
    "        dibujado(datos_raw,f,col=c,title=c)\n",
    "        plt.savefig('images/'+c+\"-savgol(\"+str(params[i][0])+\"-\"+str(params[i][1])+\").svg\")\n",
    "        plt.close()"
   ]
  },
  {
   "cell_type": "code",
   "execution_count": null,
   "metadata": {},
   "outputs": [],
   "source": []
  }
 ],
 "metadata": {
  "kernelspec": {
   "display_name": "Python (TFG)",
   "language": "python",
   "name": "tfg"
  },
  "language_info": {
   "codemirror_mode": {
    "name": "ipython",
    "version": 3
   },
   "file_extension": ".py",
   "mimetype": "text/x-python",
   "name": "python",
   "nbconvert_exporter": "python",
   "pygments_lexer": "ipython3",
   "version": "3.6.8"
  }
 },
 "nbformat": 4,
 "nbformat_minor": 2
}
