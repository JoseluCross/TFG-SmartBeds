{
 "cells": [
  {
   "cell_type": "markdown",
   "metadata": {},
   "source": [
    "# SmartBeds - One-Class - Pruebas con otros datos\n",
    "## Grado en Ingeniería Informática\n",
    "## Universidad de Burgos\n",
    "##### José Luis Garrido Labrador"
   ]
  },
  {
   "cell_type": "code",
   "execution_count": 1,
   "metadata": {},
   "outputs": [],
   "source": [
    "import pandas as pd # se importa pandas como pd\n",
    "import numpy as np  #numpy como np\n",
    "import matplotlib.pyplot as plt\n",
    "import sys\n",
    "sys.path.append('..')\n",
    "import pickle as pk\n",
    "from sklearn import metrics as mtr\n",
    "from transformers import *"
   ]
  },
  {
   "cell_type": "markdown",
   "metadata": {},
   "source": [
    "### Carga"
   ]
  },
  {
   "cell_type": "code",
   "execution_count": 2,
   "metadata": {},
   "outputs": [],
   "source": [
    "with open('data/crisis_separadas.pkl','rb') as f:\n",
    "    crisis_separadas = pk.load(f)"
   ]
  },
  {
   "cell_type": "code",
   "execution_count": 3,
   "metadata": {},
   "outputs": [
    {
     "data": {
      "text/html": [
       "<div>\n",
       "<style scoped>\n",
       "    .dataframe tbody tr th:only-of-type {\n",
       "        vertical-align: middle;\n",
       "    }\n",
       "\n",
       "    .dataframe tbody tr th {\n",
       "        vertical-align: top;\n",
       "    }\n",
       "\n",
       "    .dataframe thead th {\n",
       "        text-align: right;\n",
       "    }\n",
       "</style>\n",
       "<table border=\"1\" class=\"dataframe\">\n",
       "  <thead>\n",
       "    <tr style=\"text-align: right;\">\n",
       "      <th></th>\n",
       "      <th>DateTime</th>\n",
       "      <th>P1</th>\n",
       "      <th>P2</th>\n",
       "      <th>P3</th>\n",
       "      <th>P4</th>\n",
       "      <th>P5</th>\n",
       "      <th>P6</th>\n",
       "      <th>target</th>\n",
       "    </tr>\n",
       "  </thead>\n",
       "  <tbody>\n",
       "    <tr>\n",
       "      <th>6931232</th>\n",
       "      <td>2019-01-28 21:15:11</td>\n",
       "      <td>0.0</td>\n",
       "      <td>20.491803</td>\n",
       "      <td>18.032787</td>\n",
       "      <td>21.311475</td>\n",
       "      <td>9.016393</td>\n",
       "      <td>6.557377</td>\n",
       "      <td>False</td>\n",
       "    </tr>\n",
       "    <tr>\n",
       "      <th>6931233</th>\n",
       "      <td>2019-01-28 21:15:12</td>\n",
       "      <td>0.0</td>\n",
       "      <td>20.491803</td>\n",
       "      <td>18.032787</td>\n",
       "      <td>21.311475</td>\n",
       "      <td>9.016393</td>\n",
       "      <td>6.557377</td>\n",
       "      <td>False</td>\n",
       "    </tr>\n",
       "    <tr>\n",
       "      <th>6931234</th>\n",
       "      <td>2019-01-28 21:15:13</td>\n",
       "      <td>0.0</td>\n",
       "      <td>20.491803</td>\n",
       "      <td>18.032787</td>\n",
       "      <td>21.311475</td>\n",
       "      <td>9.016393</td>\n",
       "      <td>6.557377</td>\n",
       "      <td>False</td>\n",
       "    </tr>\n",
       "    <tr>\n",
       "      <th>6931235</th>\n",
       "      <td>2019-01-28 21:15:14</td>\n",
       "      <td>0.0</td>\n",
       "      <td>19.672131</td>\n",
       "      <td>18.032787</td>\n",
       "      <td>21.311475</td>\n",
       "      <td>9.836066</td>\n",
       "      <td>6.557377</td>\n",
       "      <td>False</td>\n",
       "    </tr>\n",
       "    <tr>\n",
       "      <th>6931236</th>\n",
       "      <td>2019-01-28 21:15:15</td>\n",
       "      <td>0.0</td>\n",
       "      <td>20.491803</td>\n",
       "      <td>18.852459</td>\n",
       "      <td>22.131148</td>\n",
       "      <td>9.836066</td>\n",
       "      <td>6.557377</td>\n",
       "      <td>False</td>\n",
       "    </tr>\n",
       "  </tbody>\n",
       "</table>\n",
       "</div>"
      ],
      "text/plain": [
       "                   DateTime   P1         P2         P3         P4        P5  \\\n",
       "6931232 2019-01-28 21:15:11  0.0  20.491803  18.032787  21.311475  9.016393   \n",
       "6931233 2019-01-28 21:15:12  0.0  20.491803  18.032787  21.311475  9.016393   \n",
       "6931234 2019-01-28 21:15:13  0.0  20.491803  18.032787  21.311475  9.016393   \n",
       "6931235 2019-01-28 21:15:14  0.0  19.672131  18.032787  21.311475  9.836066   \n",
       "6931236 2019-01-28 21:15:15  0.0  20.491803  18.852459  22.131148  9.836066   \n",
       "\n",
       "               P6  target  \n",
       "6931232  6.557377   False  \n",
       "6931233  6.557377   False  \n",
       "6931234  6.557377   False  \n",
       "6931235  6.557377   False  \n",
       "6931236  6.557377   False  "
      ]
     },
     "execution_count": 3,
     "metadata": {},
     "output_type": "execute_result"
    }
   ],
   "source": [
    "segunda = crisis_separadas[1]\n",
    "segunda.head()"
   ]
  },
  {
   "cell_type": "code",
   "execution_count": 4,
   "metadata": {},
   "outputs": [
    {
     "data": {
      "text/html": [
       "<div>\n",
       "<style scoped>\n",
       "    .dataframe tbody tr th:only-of-type {\n",
       "        vertical-align: middle;\n",
       "    }\n",
       "\n",
       "    .dataframe tbody tr th {\n",
       "        vertical-align: top;\n",
       "    }\n",
       "\n",
       "    .dataframe thead th {\n",
       "        text-align: right;\n",
       "    }\n",
       "</style>\n",
       "<table border=\"1\" class=\"dataframe\">\n",
       "  <thead>\n",
       "    <tr style=\"text-align: right;\">\n",
       "      <th></th>\n",
       "      <th>P1</th>\n",
       "      <th>P2</th>\n",
       "      <th>P3</th>\n",
       "      <th>P4</th>\n",
       "      <th>P5</th>\n",
       "      <th>P6</th>\n",
       "    </tr>\n",
       "  </thead>\n",
       "  <tbody>\n",
       "    <tr>\n",
       "      <th>6931232</th>\n",
       "      <td>0.0</td>\n",
       "      <td>20.491803</td>\n",
       "      <td>18.032787</td>\n",
       "      <td>21.311475</td>\n",
       "      <td>9.016393</td>\n",
       "      <td>6.557377</td>\n",
       "    </tr>\n",
       "    <tr>\n",
       "      <th>6931233</th>\n",
       "      <td>0.0</td>\n",
       "      <td>20.491803</td>\n",
       "      <td>18.032787</td>\n",
       "      <td>21.311475</td>\n",
       "      <td>9.016393</td>\n",
       "      <td>6.557377</td>\n",
       "    </tr>\n",
       "    <tr>\n",
       "      <th>6931234</th>\n",
       "      <td>0.0</td>\n",
       "      <td>20.491803</td>\n",
       "      <td>18.032787</td>\n",
       "      <td>21.311475</td>\n",
       "      <td>9.016393</td>\n",
       "      <td>6.557377</td>\n",
       "    </tr>\n",
       "    <tr>\n",
       "      <th>6931235</th>\n",
       "      <td>0.0</td>\n",
       "      <td>19.672131</td>\n",
       "      <td>18.032787</td>\n",
       "      <td>21.311475</td>\n",
       "      <td>9.836066</td>\n",
       "      <td>6.557377</td>\n",
       "    </tr>\n",
       "    <tr>\n",
       "      <th>6931236</th>\n",
       "      <td>0.0</td>\n",
       "      <td>20.491803</td>\n",
       "      <td>18.852459</td>\n",
       "      <td>22.131148</td>\n",
       "      <td>9.836066</td>\n",
       "      <td>6.557377</td>\n",
       "    </tr>\n",
       "  </tbody>\n",
       "</table>\n",
       "</div>"
      ],
      "text/plain": [
       "          P1         P2         P3         P4        P5        P6\n",
       "6931232  0.0  20.491803  18.032787  21.311475  9.016393  6.557377\n",
       "6931233  0.0  20.491803  18.032787  21.311475  9.016393  6.557377\n",
       "6931234  0.0  20.491803  18.032787  21.311475  9.016393  6.557377\n",
       "6931235  0.0  19.672131  18.032787  21.311475  9.836066  6.557377\n",
       "6931236  0.0  20.491803  18.852459  22.131148  9.836066  6.557377"
      ]
     },
     "execution_count": 4,
     "metadata": {},
     "output_type": "execute_result"
    }
   ],
   "source": [
    "segunda_datos = segunda.iloc[:,1:len(segunda.columns)-1]\n",
    "segunda_datos.head()"
   ]
  },
  {
   "cell_type": "code",
   "execution_count": 5,
   "metadata": {},
   "outputs": [
    {
     "data": {
      "text/html": [
       "<div>\n",
       "<style scoped>\n",
       "    .dataframe tbody tr th:only-of-type {\n",
       "        vertical-align: middle;\n",
       "    }\n",
       "\n",
       "    .dataframe tbody tr th {\n",
       "        vertical-align: top;\n",
       "    }\n",
       "\n",
       "    .dataframe thead th {\n",
       "        text-align: right;\n",
       "    }\n",
       "</style>\n",
       "<table border=\"1\" class=\"dataframe\">\n",
       "  <thead>\n",
       "    <tr style=\"text-align: right;\">\n",
       "      <th></th>\n",
       "      <th>DateTime</th>\n",
       "      <th>P1</th>\n",
       "      <th>P2</th>\n",
       "      <th>P3</th>\n",
       "      <th>P4</th>\n",
       "      <th>P5</th>\n",
       "      <th>P6</th>\n",
       "      <th>target</th>\n",
       "    </tr>\n",
       "  </thead>\n",
       "  <tbody>\n",
       "    <tr>\n",
       "      <th>2164084</th>\n",
       "      <td>2019-02-06 21:11:50</td>\n",
       "      <td>0.0</td>\n",
       "      <td>14.754098</td>\n",
       "      <td>27.049180</td>\n",
       "      <td>30.327869</td>\n",
       "      <td>10.655738</td>\n",
       "      <td>0.0</td>\n",
       "      <td>False</td>\n",
       "    </tr>\n",
       "    <tr>\n",
       "      <th>2164085</th>\n",
       "      <td>2019-02-06 21:11:51</td>\n",
       "      <td>0.0</td>\n",
       "      <td>15.573770</td>\n",
       "      <td>26.229508</td>\n",
       "      <td>24.590164</td>\n",
       "      <td>6.557377</td>\n",
       "      <td>0.0</td>\n",
       "      <td>False</td>\n",
       "    </tr>\n",
       "    <tr>\n",
       "      <th>2164087</th>\n",
       "      <td>2019-02-06 21:11:52</td>\n",
       "      <td>0.0</td>\n",
       "      <td>19.672131</td>\n",
       "      <td>29.508197</td>\n",
       "      <td>23.770492</td>\n",
       "      <td>4.918033</td>\n",
       "      <td>0.0</td>\n",
       "      <td>False</td>\n",
       "    </tr>\n",
       "    <tr>\n",
       "      <th>2164086</th>\n",
       "      <td>2019-02-06 21:11:52</td>\n",
       "      <td>0.0</td>\n",
       "      <td>18.032787</td>\n",
       "      <td>30.327869</td>\n",
       "      <td>27.049180</td>\n",
       "      <td>7.377049</td>\n",
       "      <td>0.0</td>\n",
       "      <td>False</td>\n",
       "    </tr>\n",
       "    <tr>\n",
       "      <th>2164088</th>\n",
       "      <td>2019-02-06 21:11:53</td>\n",
       "      <td>0.0</td>\n",
       "      <td>18.032787</td>\n",
       "      <td>25.409836</td>\n",
       "      <td>17.213115</td>\n",
       "      <td>0.000000</td>\n",
       "      <td>0.0</td>\n",
       "      <td>False</td>\n",
       "    </tr>\n",
       "  </tbody>\n",
       "</table>\n",
       "</div>"
      ],
      "text/plain": [
       "                   DateTime   P1         P2         P3         P4         P5  \\\n",
       "2164084 2019-02-06 21:11:50  0.0  14.754098  27.049180  30.327869  10.655738   \n",
       "2164085 2019-02-06 21:11:51  0.0  15.573770  26.229508  24.590164   6.557377   \n",
       "2164087 2019-02-06 21:11:52  0.0  19.672131  29.508197  23.770492   4.918033   \n",
       "2164086 2019-02-06 21:11:52  0.0  18.032787  30.327869  27.049180   7.377049   \n",
       "2164088 2019-02-06 21:11:53  0.0  18.032787  25.409836  17.213115   0.000000   \n",
       "\n",
       "          P6  target  \n",
       "2164084  0.0   False  \n",
       "2164085  0.0   False  \n",
       "2164087  0.0   False  \n",
       "2164086  0.0   False  \n",
       "2164088  0.0   False  "
      ]
     },
     "execution_count": 5,
     "metadata": {},
     "output_type": "execute_result"
    }
   ],
   "source": [
    "tercera = crisis_separadas[2]\n",
    "tercera.head()"
   ]
  },
  {
   "cell_type": "code",
   "execution_count": 6,
   "metadata": {},
   "outputs": [
    {
     "data": {
      "text/html": [
       "<div>\n",
       "<style scoped>\n",
       "    .dataframe tbody tr th:only-of-type {\n",
       "        vertical-align: middle;\n",
       "    }\n",
       "\n",
       "    .dataframe tbody tr th {\n",
       "        vertical-align: top;\n",
       "    }\n",
       "\n",
       "    .dataframe thead th {\n",
       "        text-align: right;\n",
       "    }\n",
       "</style>\n",
       "<table border=\"1\" class=\"dataframe\">\n",
       "  <thead>\n",
       "    <tr style=\"text-align: right;\">\n",
       "      <th></th>\n",
       "      <th>P1</th>\n",
       "      <th>P2</th>\n",
       "      <th>P3</th>\n",
       "      <th>P4</th>\n",
       "      <th>P5</th>\n",
       "      <th>P6</th>\n",
       "    </tr>\n",
       "  </thead>\n",
       "  <tbody>\n",
       "    <tr>\n",
       "      <th>2164084</th>\n",
       "      <td>0.0</td>\n",
       "      <td>14.754098</td>\n",
       "      <td>27.049180</td>\n",
       "      <td>30.327869</td>\n",
       "      <td>10.655738</td>\n",
       "      <td>0.0</td>\n",
       "    </tr>\n",
       "    <tr>\n",
       "      <th>2164085</th>\n",
       "      <td>0.0</td>\n",
       "      <td>15.573770</td>\n",
       "      <td>26.229508</td>\n",
       "      <td>24.590164</td>\n",
       "      <td>6.557377</td>\n",
       "      <td>0.0</td>\n",
       "    </tr>\n",
       "    <tr>\n",
       "      <th>2164087</th>\n",
       "      <td>0.0</td>\n",
       "      <td>19.672131</td>\n",
       "      <td>29.508197</td>\n",
       "      <td>23.770492</td>\n",
       "      <td>4.918033</td>\n",
       "      <td>0.0</td>\n",
       "    </tr>\n",
       "    <tr>\n",
       "      <th>2164086</th>\n",
       "      <td>0.0</td>\n",
       "      <td>18.032787</td>\n",
       "      <td>30.327869</td>\n",
       "      <td>27.049180</td>\n",
       "      <td>7.377049</td>\n",
       "      <td>0.0</td>\n",
       "    </tr>\n",
       "    <tr>\n",
       "      <th>2164088</th>\n",
       "      <td>0.0</td>\n",
       "      <td>18.032787</td>\n",
       "      <td>25.409836</td>\n",
       "      <td>17.213115</td>\n",
       "      <td>0.000000</td>\n",
       "      <td>0.0</td>\n",
       "    </tr>\n",
       "  </tbody>\n",
       "</table>\n",
       "</div>"
      ],
      "text/plain": [
       "          P1         P2         P3         P4         P5   P6\n",
       "2164084  0.0  14.754098  27.049180  30.327869  10.655738  0.0\n",
       "2164085  0.0  15.573770  26.229508  24.590164   6.557377  0.0\n",
       "2164087  0.0  19.672131  29.508197  23.770492   4.918033  0.0\n",
       "2164086  0.0  18.032787  30.327869  27.049180   7.377049  0.0\n",
       "2164088  0.0  18.032787  25.409836  17.213115   0.000000  0.0"
      ]
     },
     "execution_count": 6,
     "metadata": {},
     "output_type": "execute_result"
    }
   ],
   "source": [
    "tercera_datos = tercera.iloc[:,1:len(tercera.columns)-1]\n",
    "tercera_datos.head()"
   ]
  },
  {
   "cell_type": "markdown",
   "metadata": {},
   "source": [
    "### Transformers"
   ]
  },
  {
   "cell_type": "code",
   "execution_count": 7,
   "metadata": {},
   "outputs": [],
   "source": [
    "svg = SavgolTransformer(15)\n",
    "btr = ButterTransformer(3,0.05)\n",
    "nor = Normalizer(max_=100)\n",
    "avg = PipelineTransformer(StatisticsTransformer(mode='mean',window=25),nor)\n",
    "std = PipelineTransformer(StatisticsTransformer(mode='std',window=25),nor)\n",
    "ran = PipelineTransformer(StatisticsTransformer(mode='range',window=25),nor)\n",
    "var = VarianceThresholdPD(threshold=0.5)\n",
    "con = ConcatenateTransformer(avg,std,ran)\n",
    "#Se quita el ajuste de varianza para mantener el mismo número de entradas\n",
    "pps = PipelineTransformer(svg,con)\n",
    "ppb = PipelineTransformer(btr,con)\n",
    "ppr = PipelineTransformer(con)\n",
    "ppr_s = PipelineTransformer(svg)\n",
    "ppr_b = PipelineTransformer(btr)\n",
    "\n",
    "#Reparador de targets\n",
    "trT = MoveTargetsTransformer(window=25)"
   ]
  },
  {
   "cell_type": "markdown",
   "metadata": {},
   "source": [
    "## Entrenamiento con primera crisis\n",
    "### Brutos"
   ]
  },
  {
   "cell_type": "code",
   "execution_count": 8,
   "metadata": {},
   "outputs": [],
   "source": [
    "with open('classifiers/RAW-seizure-classifier.pkl','rb') as f:\n",
    "    raw_clf = pk.load(f)"
   ]
  },
  {
   "cell_type": "code",
   "execution_count": 9,
   "metadata": {},
   "outputs": [
    {
     "data": {
      "text/plain": [
       "array([False, False, False, ..., False, False, False])"
      ]
     },
     "execution_count": 9,
     "metadata": {},
     "output_type": "execute_result"
    }
   ],
   "source": [
    "predict = raw_clf.predict(segunda_datos)\n",
    "predict[predict==-1]=0\n",
    "predict = predict.astype('bool')\n",
    "predict"
   ]
  },
  {
   "cell_type": "code",
   "execution_count": 10,
   "metadata": {},
   "outputs": [
    {
     "data": {
      "text/plain": [
       "array([[102176,      0],\n",
       "       [  2252,      0]])"
      ]
     },
     "execution_count": 10,
     "metadata": {},
     "output_type": "execute_result"
    }
   ],
   "source": [
    "mtr.confusion_matrix(segunda['target'],predict)"
   ]
  },
  {
   "cell_type": "code",
   "execution_count": 11,
   "metadata": {
    "scrolled": true
   },
   "outputs": [
    {
     "name": "stdout",
     "output_type": "stream",
     "text": [
      "0.3811828067086138\n"
     ]
    },
    {
     "data": {
      "text/plain": [
       "[<matplotlib.lines.Line2D at 0x7f0a92ca2550>]"
      ]
     },
     "execution_count": 11,
     "metadata": {},
     "output_type": "execute_result"
    },
    {
     "data": {
      "image/png": "[encoded data removed]",
      "text/plain": [
       "<Figure size 432x288 with 1 Axes>"
      ]
     },
     "metadata": {
      "needs_background": "light"
     },
     "output_type": "display_data"
    }
   ],
   "source": [
    "scr = raw_clf.score_samples(segunda_datos)\n",
    "fpr, tpr, thr = mtr.roc_curve(segunda['target'],scr)\n",
    "print(mtr.roc_auc_score(segunda['target'],scr))\n",
    "plt.plot([0, 1], [0, 1], 'k--')\n",
    "plt.plot(fpr,tpr)"
   ]
  },
  {
   "cell_type": "code",
   "execution_count": 12,
   "metadata": {},
   "outputs": [
    {
     "data": {
      "text/plain": [
       "array([False, False, False, ..., False, False, False])"
      ]
     },
     "execution_count": 12,
     "metadata": {},
     "output_type": "execute_result"
    }
   ],
   "source": [
    "predict = raw_clf.predict(tercera_datos)\n",
    "predict[predict==-1]=0\n",
    "predict = predict.astype('bool')\n",
    "predict"
   ]
  },
  {
   "cell_type": "code",
   "execution_count": 13,
   "metadata": {},
   "outputs": [
    {
     "data": {
      "text/plain": [
       "array([[86990,     0],\n",
       "       [ 2741,     0]])"
      ]
     },
     "execution_count": 13,
     "metadata": {},
     "output_type": "execute_result"
    }
   ],
   "source": [
    "mtr.confusion_matrix(tercera['target'],predict)"
   ]
  },
  {
   "cell_type": "code",
   "execution_count": 14,
   "metadata": {
    "scrolled": true
   },
   "outputs": [
    {
     "name": "stdout",
     "output_type": "stream",
     "text": [
      "0.30427739789352926\n"
     ]
    },
    {
     "data": {
      "text/plain": [
       "[<matplotlib.lines.Line2D at 0x7f0a92c90780>]"
      ]
     },
     "execution_count": 14,
     "metadata": {},
     "output_type": "execute_result"
    },
    {
     "data": {
      "image/png": "[encoded data removed]",
      "text/plain": [
       "<Figure size 432x288 with 1 Axes>"
      ]
     },
     "metadata": {
      "needs_background": "light"
     },
     "output_type": "display_data"
    }
   ],
   "source": [
    "scr = raw_clf.score_samples(tercera_datos)\n",
    "print(mtr.roc_auc_score(tercera['target'],scr))\n",
    "fpr, tpr, thr = mtr.roc_curve(tercera['target'],scr)\n",
    "plt.plot([0, 1], [0, 1], 'k--')\n",
    "plt.plot(fpr,tpr)"
   ]
  },
  {
   "cell_type": "markdown",
   "metadata": {},
   "source": [
    "### Estadísticos"
   ]
  },
  {
   "cell_type": "code",
   "execution_count": 15,
   "metadata": {},
   "outputs": [],
   "source": [
    "with open('classifiers/STATS-seizure-classifier.pkl','rb') as f:\n",
    "    sts_clf = pk.load(f)"
   ]
  },
  {
   "cell_type": "code",
   "execution_count": 16,
   "metadata": {},
   "outputs": [
    {
     "data": {
      "text/plain": [
       "array([False, False, False, ..., False, False, False])"
      ]
     },
     "execution_count": 16,
     "metadata": {},
     "output_type": "execute_result"
    }
   ],
   "source": [
    "prd = con.fit_transform(segunda_datos).dropna()\n",
    "predict = sts_clf.predict(prd)\n",
    "predict[predict==-1]=0\n",
    "predict = predict.astype('bool')\n",
    "predict"
   ]
  },
  {
   "cell_type": "code",
   "execution_count": 17,
   "metadata": {},
   "outputs": [
    {
     "data": {
      "text/plain": [
       "6931256    False\n",
       "6931257    False\n",
       "6931258    False\n",
       "6931259    False\n",
       "6931260    False\n",
       "Name: target, dtype: bool"
      ]
     },
     "execution_count": 17,
     "metadata": {},
     "output_type": "execute_result"
    }
   ],
   "source": [
    "target = trT.fit_transform((pd.concat((prd,segunda['target']),axis=1)).dropna())\n",
    "\n",
    "target = target['target']\n",
    "target.head()"
   ]
  },
  {
   "cell_type": "code",
   "execution_count": 18,
   "metadata": {
    "scrolled": false
   },
   "outputs": [
    {
     "data": {
      "text/plain": [
       "array([[102177,      0],\n",
       "       [  2227,      0]])"
      ]
     },
     "execution_count": 18,
     "metadata": {},
     "output_type": "execute_result"
    }
   ],
   "source": [
    "mtr.confusion_matrix(target,predict)"
   ]
  },
  {
   "cell_type": "code",
   "execution_count": 19,
   "metadata": {
    "scrolled": true
   },
   "outputs": [
    {
     "name": "stdout",
     "output_type": "stream",
     "text": [
      "0.5\n"
     ]
    },
    {
     "data": {
      "text/plain": [
       "[<matplotlib.lines.Line2D at 0x7f0a92b674e0>]"
      ]
     },
     "execution_count": 19,
     "metadata": {},
     "output_type": "execute_result"
    },
    {
     "data": {
      "image/png": "[encoded data removed]",
      "text/plain": [
       "<Figure size 432x288 with 1 Axes>"
      ]
     },
     "metadata": {
      "needs_background": "light"
     },
     "output_type": "display_data"
    }
   ],
   "source": [
    "scr = sts_clf.score_samples(prd)\n",
    "fpr, tpr, thr = mtr.roc_curve(target,scr)\n",
    "print(mtr.roc_auc_score(target,scr))\n",
    "plt.plot([0, 1], [0, 1], 'k--')\n",
    "plt.plot(fpr,tpr)"
   ]
  },
  {
   "cell_type": "code",
   "execution_count": 20,
   "metadata": {},
   "outputs": [
    {
     "data": {
      "text/plain": [
       "array([False, False, False, ..., False, False, False])"
      ]
     },
     "execution_count": 20,
     "metadata": {},
     "output_type": "execute_result"
    }
   ],
   "source": [
    "prd = con.fit_transform(tercera_datos).dropna()\n",
    "predict = sts_clf.predict(prd)\n",
    "predict[predict==-1]=0\n",
    "predict = predict.astype('bool')\n",
    "predict"
   ]
  },
  {
   "cell_type": "code",
   "execution_count": 21,
   "metadata": {},
   "outputs": [
    {
     "data": {
      "text/plain": [
       "2164108    False\n",
       "2164109    False\n",
       "2164110    False\n",
       "2164111    False\n",
       "2164112    False\n",
       "Name: target, dtype: bool"
      ]
     },
     "execution_count": 21,
     "metadata": {},
     "output_type": "execute_result"
    }
   ],
   "source": [
    "target = trT.fit_transform((pd.concat((prd,tercera['target']),axis=1)).dropna())\n",
    "\n",
    "target = target['target']\n",
    "target.head()"
   ]
  },
  {
   "cell_type": "code",
   "execution_count": 22,
   "metadata": {
    "scrolled": false
   },
   "outputs": [
    {
     "data": {
      "text/plain": [
       "array([[86975,     0],\n",
       "       [ 2732,     0]])"
      ]
     },
     "execution_count": 22,
     "metadata": {},
     "output_type": "execute_result"
    }
   ],
   "source": [
    "mtr.confusion_matrix(target,predict)"
   ]
  },
  {
   "cell_type": "code",
   "execution_count": 23,
   "metadata": {
    "scrolled": true
   },
   "outputs": [
    {
     "name": "stdout",
     "output_type": "stream",
     "text": [
      "0.5\n"
     ]
    },
    {
     "data": {
      "text/plain": [
       "[<matplotlib.lines.Line2D at 0x7f0a8a60e908>]"
      ]
     },
     "execution_count": 23,
     "metadata": {},
     "output_type": "execute_result"
    },
    {
     "data": {
      "image/png": "[encoded data removed]",
      "text/plain": [
       "<Figure size 432x288 with 1 Axes>"
      ]
     },
     "metadata": {
      "needs_background": "light"
     },
     "output_type": "display_data"
    }
   ],
   "source": [
    "scr = sts_clf.score_samples(prd)\n",
    "fpr, tpr, thr = mtr.roc_curve(target,scr)\n",
    "print(mtr.roc_auc_score(target,scr))\n",
    "plt.plot([0, 1], [0, 1], 'k--')\n",
    "plt.plot(fpr,tpr)"
   ]
  },
  {
   "cell_type": "markdown",
   "metadata": {},
   "source": [
    "### SavGol"
   ]
  },
  {
   "cell_type": "code",
   "execution_count": 24,
   "metadata": {},
   "outputs": [],
   "source": [
    "with open('classifiers/SAVGOL-seizure-classifier.pkl','rb') as f:\n",
    "    sav_clf = pk.load(f)"
   ]
  },
  {
   "cell_type": "code",
   "execution_count": 25,
   "metadata": {},
   "outputs": [
    {
     "name": "stderr",
     "output_type": "stream",
     "text": [
      "/usr/local/anaconda3/envs/TFG/lib/python3.6/site-packages/scipy/signal/_arraytools.py:45: FutureWarning: Using a non-tuple sequence for multidimensional indexing is deprecated; use `arr[tuple(seq)]` instead of `arr[seq]`. In the future this will be interpreted as an array index, `arr[np.array(seq)]`, which will result either in an error or a different result.\n",
      "  b = a[a_slice]\n"
     ]
    },
    {
     "data": {
      "text/plain": [
       "array([False, False, False, ..., False, False, False])"
      ]
     },
     "execution_count": 25,
     "metadata": {},
     "output_type": "execute_result"
    }
   ],
   "source": [
    "sav = ppr_s.fit_transform(segunda_datos).dropna()\n",
    "predict = sav_clf.predict(sav)\n",
    "predict[predict==-1]=0\n",
    "predict = predict.astype('bool')\n",
    "predict"
   ]
  },
  {
   "cell_type": "code",
   "execution_count": 26,
   "metadata": {},
   "outputs": [
    {
     "data": {
      "text/plain": [
       "6931232    False\n",
       "6931233    False\n",
       "6931234    False\n",
       "6931235    False\n",
       "6931236    False\n",
       "Name: target, dtype: bool"
      ]
     },
     "execution_count": 26,
     "metadata": {},
     "output_type": "execute_result"
    }
   ],
   "source": [
    "target = (pd.concat((sav,segunda['target']),axis=1)).dropna()['target']\n",
    "target.head()"
   ]
  },
  {
   "cell_type": "code",
   "execution_count": 27,
   "metadata": {
    "scrolled": true
   },
   "outputs": [
    {
     "data": {
      "text/plain": [
       "array([[102176,      0],\n",
       "       [  2252,      0]])"
      ]
     },
     "execution_count": 27,
     "metadata": {},
     "output_type": "execute_result"
    }
   ],
   "source": [
    "mtr.confusion_matrix(target,predict)"
   ]
  },
  {
   "cell_type": "code",
   "execution_count": 28,
   "metadata": {
    "scrolled": false
   },
   "outputs": [
    {
     "name": "stdout",
     "output_type": "stream",
     "text": [
      "0.386763156711729\n"
     ]
    },
    {
     "data": {
      "text/plain": [
       "[<matplotlib.lines.Line2D at 0x7f0a8a6eeb38>]"
      ]
     },
     "execution_count": 28,
     "metadata": {},
     "output_type": "execute_result"
    },
    {
     "data": {
      "image/png": "[encoded data removed]",
      "text/plain": [
       "<Figure size 432x288 with 1 Axes>"
      ]
     },
     "metadata": {
      "needs_background": "light"
     },
     "output_type": "display_data"
    }
   ],
   "source": [
    "scr = sav_clf.score_samples(sav)\n",
    "fpr, tpr, thr = mtr.roc_curve(target,scr)\n",
    "print(mtr.roc_auc_score(target,scr))\n",
    "plt.plot([0, 1], [0, 1], 'k--')\n",
    "plt.plot(fpr,tpr)"
   ]
  },
  {
   "cell_type": "code",
   "execution_count": 29,
   "metadata": {},
   "outputs": [
    {
     "name": "stderr",
     "output_type": "stream",
     "text": [
      "/usr/local/anaconda3/envs/TFG/lib/python3.6/site-packages/scipy/signal/_arraytools.py:45: FutureWarning: Using a non-tuple sequence for multidimensional indexing is deprecated; use `arr[tuple(seq)]` instead of `arr[seq]`. In the future this will be interpreted as an array index, `arr[np.array(seq)]`, which will result either in an error or a different result.\n",
      "  b = a[a_slice]\n"
     ]
    },
    {
     "data": {
      "text/plain": [
       "array([False, False, False, ..., False, False, False])"
      ]
     },
     "execution_count": 29,
     "metadata": {},
     "output_type": "execute_result"
    }
   ],
   "source": [
    "sav = ppr_s.fit_transform(tercera_datos).dropna()\n",
    "predict = sav_clf.predict(sav)\n",
    "predict[predict==-1]=0\n",
    "predict = predict.astype('bool')\n",
    "predict"
   ]
  },
  {
   "cell_type": "code",
   "execution_count": 30,
   "metadata": {},
   "outputs": [
    {
     "data": {
      "text/plain": [
       "2164084    False\n",
       "2164085    False\n",
       "2164087    False\n",
       "2164086    False\n",
       "2164088    False\n",
       "Name: target, dtype: bool"
      ]
     },
     "execution_count": 30,
     "metadata": {},
     "output_type": "execute_result"
    }
   ],
   "source": [
    "target = (pd.concat((sav,tercera['target']),axis=1)).dropna()['target']\n",
    "target.head()"
   ]
  },
  {
   "cell_type": "code",
   "execution_count": 31,
   "metadata": {
    "scrolled": true
   },
   "outputs": [
    {
     "data": {
      "text/plain": [
       "array([[86990,     0],\n",
       "       [ 2741,     0]])"
      ]
     },
     "execution_count": 31,
     "metadata": {},
     "output_type": "execute_result"
    }
   ],
   "source": [
    "mtr.confusion_matrix(target,predict)"
   ]
  },
  {
   "cell_type": "code",
   "execution_count": 32,
   "metadata": {
    "scrolled": false
   },
   "outputs": [
    {
     "name": "stdout",
     "output_type": "stream",
     "text": [
      "0.33407862972755487\n"
     ]
    },
    {
     "data": {
      "text/plain": [
       "[<matplotlib.lines.Line2D at 0x7f0a8a6e3198>]"
      ]
     },
     "execution_count": 32,
     "metadata": {},
     "output_type": "execute_result"
    },
    {
     "data": {
      "image/png": "[encoded data removed]",
      "text/plain": [
       "<Figure size 432x288 with 1 Axes>"
      ]
     },
     "metadata": {
      "needs_background": "light"
     },
     "output_type": "display_data"
    }
   ],
   "source": [
    "scr = sav_clf.score_samples(sav)\n",
    "fpr, tpr, thr = mtr.roc_curve(target,scr)\n",
    "print(mtr.roc_auc_score(target,scr))\n",
    "plt.plot([0, 1], [0, 1], 'k--')\n",
    "plt.plot(fpr,tpr)"
   ]
  },
  {
   "cell_type": "markdown",
   "metadata": {},
   "source": [
    "### Butter"
   ]
  },
  {
   "cell_type": "code",
   "execution_count": 33,
   "metadata": {},
   "outputs": [],
   "source": [
    "with open('classifiers/BUTTER-seizure-classifier.pkl','rb') as f:\n",
    "    btt_clf = pk.load(f)"
   ]
  },
  {
   "cell_type": "code",
   "execution_count": 34,
   "metadata": {},
   "outputs": [
    {
     "name": "stderr",
     "output_type": "stream",
     "text": [
      "/usr/local/anaconda3/envs/TFG/lib/python3.6/site-packages/scipy/signal/_arraytools.py:45: FutureWarning: Using a non-tuple sequence for multidimensional indexing is deprecated; use `arr[tuple(seq)]` instead of `arr[seq]`. In the future this will be interpreted as an array index, `arr[np.array(seq)]`, which will result either in an error or a different result.\n",
      "  b = a[a_slice]\n"
     ]
    },
    {
     "data": {
      "text/plain": [
       "array([False, False, False, ..., False, False, False])"
      ]
     },
     "execution_count": 34,
     "metadata": {},
     "output_type": "execute_result"
    }
   ],
   "source": [
    "but = ppr_b.fit_transform(segunda_datos).dropna()\n",
    "predict = btt_clf.predict(but)\n",
    "predict[predict==-1]=0\n",
    "predict = predict.astype('bool')\n",
    "predict"
   ]
  },
  {
   "cell_type": "code",
   "execution_count": 35,
   "metadata": {},
   "outputs": [
    {
     "data": {
      "text/plain": [
       "6931232    False\n",
       "6931233    False\n",
       "6931234    False\n",
       "6931235    False\n",
       "6931236    False\n",
       "Name: target, dtype: bool"
      ]
     },
     "execution_count": 35,
     "metadata": {},
     "output_type": "execute_result"
    }
   ],
   "source": [
    "target = (pd.concat((but,segunda['target']),axis=1)).dropna()['target']\n",
    "target.head()"
   ]
  },
  {
   "cell_type": "code",
   "execution_count": 36,
   "metadata": {
    "scrolled": false
   },
   "outputs": [
    {
     "data": {
      "text/plain": [
       "array([[102176,      0],\n",
       "       [  2252,      0]])"
      ]
     },
     "execution_count": 36,
     "metadata": {},
     "output_type": "execute_result"
    }
   ],
   "source": [
    "mtr.confusion_matrix(target,predict)"
   ]
  },
  {
   "cell_type": "code",
   "execution_count": 37,
   "metadata": {
    "scrolled": true
   },
   "outputs": [
    {
     "name": "stdout",
     "output_type": "stream",
     "text": [
      "0.3831964368311788\n"
     ]
    },
    {
     "data": {
      "text/plain": [
       "[<matplotlib.lines.Line2D at 0x7f0a900cab38>]"
      ]
     },
     "execution_count": 37,
     "metadata": {},
     "output_type": "execute_result"
    },
    {
     "data": {
      "image/png": "[encoded data removed]",
      "text/plain": [
       "<Figure size 432x288 with 1 Axes>"
      ]
     },
     "metadata": {
      "needs_background": "light"
     },
     "output_type": "display_data"
    }
   ],
   "source": [
    "scr = btt_clf.score_samples(but)\n",
    "fpr, tpr, thr = mtr.roc_curve(target,scr)\n",
    "print(mtr.roc_auc_score(target,scr))\n",
    "plt.plot([0, 1], [0, 1], 'k--')\n",
    "plt.plot(fpr,tpr)"
   ]
  },
  {
   "cell_type": "code",
   "execution_count": 38,
   "metadata": {},
   "outputs": [
    {
     "name": "stderr",
     "output_type": "stream",
     "text": [
      "/usr/local/anaconda3/envs/TFG/lib/python3.6/site-packages/scipy/signal/_arraytools.py:45: FutureWarning: Using a non-tuple sequence for multidimensional indexing is deprecated; use `arr[tuple(seq)]` instead of `arr[seq]`. In the future this will be interpreted as an array index, `arr[np.array(seq)]`, which will result either in an error or a different result.\n",
      "  b = a[a_slice]\n"
     ]
    },
    {
     "data": {
      "text/plain": [
       "array([False, False, False, ..., False, False, False])"
      ]
     },
     "execution_count": 38,
     "metadata": {},
     "output_type": "execute_result"
    }
   ],
   "source": [
    "but = ppr_b.fit_transform(tercera_datos).dropna()\n",
    "predict = btt_clf.predict(but)\n",
    "predict[predict==-1]=0\n",
    "predict = predict.astype('bool')\n",
    "predict"
   ]
  },
  {
   "cell_type": "code",
   "execution_count": 39,
   "metadata": {},
   "outputs": [
    {
     "data": {
      "text/plain": [
       "2164084    False\n",
       "2164085    False\n",
       "2164087    False\n",
       "2164086    False\n",
       "2164088    False\n",
       "Name: target, dtype: bool"
      ]
     },
     "execution_count": 39,
     "metadata": {},
     "output_type": "execute_result"
    }
   ],
   "source": [
    "target = (pd.concat((but,tercera['target']),axis=1)).dropna()['target']\n",
    "target.head()"
   ]
  },
  {
   "cell_type": "code",
   "execution_count": 40,
   "metadata": {
    "scrolled": false
   },
   "outputs": [
    {
     "data": {
      "text/plain": [
       "array([[86990,     0],\n",
       "       [ 2741,     0]])"
      ]
     },
     "execution_count": 40,
     "metadata": {},
     "output_type": "execute_result"
    }
   ],
   "source": [
    "mtr.confusion_matrix(target,predict)"
   ]
  },
  {
   "cell_type": "code",
   "execution_count": 41,
   "metadata": {
    "scrolled": true
   },
   "outputs": [
    {
     "name": "stdout",
     "output_type": "stream",
     "text": [
      "0.3324462581905966\n"
     ]
    },
    {
     "data": {
      "text/plain": [
       "[<matplotlib.lines.Line2D at 0x7f0a90032da0>]"
      ]
     },
     "execution_count": 41,
     "metadata": {},
     "output_type": "execute_result"
    },
    {
     "data": {
      "image/png": "[encoded data removed]",
      "text/plain": [
       "<Figure size 432x288 with 1 Axes>"
      ]
     },
     "metadata": {
      "needs_background": "light"
     },
     "output_type": "display_data"
    }
   ],
   "source": [
    "scr = btt_clf.score_samples(but)\n",
    "fpr, tpr, thr = mtr.roc_curve(target,scr)\n",
    "print(mtr.roc_auc_score(target,scr))\n",
    "plt.plot([0, 1], [0, 1], 'k--')\n",
    "plt.plot(fpr,tpr)"
   ]
  },
  {
   "cell_type": "markdown",
   "metadata": {},
   "source": [
    "### SavGol Estadísticos"
   ]
  },
  {
   "cell_type": "code",
   "execution_count": 42,
   "metadata": {},
   "outputs": [],
   "source": [
    "with open('classifiers/SAVGOL-STATS-seizure-classifier.pkl','rb') as f:\n",
    "    sts_clf = pk.load(f)"
   ]
  },
  {
   "cell_type": "code",
   "execution_count": 43,
   "metadata": {},
   "outputs": [
    {
     "name": "stderr",
     "output_type": "stream",
     "text": [
      "/usr/local/anaconda3/envs/TFG/lib/python3.6/site-packages/scipy/signal/_arraytools.py:45: FutureWarning: Using a non-tuple sequence for multidimensional indexing is deprecated; use `arr[tuple(seq)]` instead of `arr[seq]`. In the future this will be interpreted as an array index, `arr[np.array(seq)]`, which will result either in an error or a different result.\n",
      "  b = a[a_slice]\n"
     ]
    },
    {
     "data": {
      "text/plain": [
       "array([False, False, False, ..., False, False, False])"
      ]
     },
     "execution_count": 43,
     "metadata": {},
     "output_type": "execute_result"
    }
   ],
   "source": [
    "sst = pps.fit_transform(segunda_datos).dropna()\n",
    "predict = sts_clf.predict(sst)\n",
    "predict[predict==-1]=0\n",
    "predict = predict.astype('bool')\n",
    "predict"
   ]
  },
  {
   "cell_type": "code",
   "execution_count": 44,
   "metadata": {},
   "outputs": [
    {
     "data": {
      "text/plain": [
       "6931256    False\n",
       "6931257    False\n",
       "6931258    False\n",
       "6931259    False\n",
       "6931260    False\n",
       "Name: target, dtype: bool"
      ]
     },
     "execution_count": 44,
     "metadata": {},
     "output_type": "execute_result"
    }
   ],
   "source": [
    "target = trT.fit_transform((pd.concat((sst,segunda['target']),axis=1)).dropna())\n",
    "\n",
    "target = target['target']\n",
    "target.head()"
   ]
  },
  {
   "cell_type": "code",
   "execution_count": 45,
   "metadata": {
    "scrolled": false
   },
   "outputs": [
    {
     "data": {
      "text/plain": [
       "array([[102177,      0],\n",
       "       [  2227,      0]])"
      ]
     },
     "execution_count": 45,
     "metadata": {},
     "output_type": "execute_result"
    }
   ],
   "source": [
    "mtr.confusion_matrix(target,predict)"
   ]
  },
  {
   "cell_type": "code",
   "execution_count": 46,
   "metadata": {
    "scrolled": true
   },
   "outputs": [
    {
     "name": "stdout",
     "output_type": "stream",
     "text": [
      "0.5\n"
     ]
    },
    {
     "data": {
      "text/plain": [
       "[<matplotlib.lines.Line2D at 0x7f0a8a7d29b0>]"
      ]
     },
     "execution_count": 46,
     "metadata": {},
     "output_type": "execute_result"
    },
    {
     "data": {
      "image/png": "[encoded data removed]",
      "text/plain": [
       "<Figure size 432x288 with 1 Axes>"
      ]
     },
     "metadata": {
      "needs_background": "light"
     },
     "output_type": "display_data"
    }
   ],
   "source": [
    "scr = sts_clf.score_samples(sst)\n",
    "fpr, tpr, thr = mtr.roc_curve(target,scr)\n",
    "print(mtr.roc_auc_score(target,scr))\n",
    "plt.plot([0, 1], [0, 1], 'k--')\n",
    "plt.plot(fpr,tpr)"
   ]
  },
  {
   "cell_type": "code",
   "execution_count": 47,
   "metadata": {},
   "outputs": [
    {
     "name": "stderr",
     "output_type": "stream",
     "text": [
      "/usr/local/anaconda3/envs/TFG/lib/python3.6/site-packages/scipy/signal/_arraytools.py:45: FutureWarning: Using a non-tuple sequence for multidimensional indexing is deprecated; use `arr[tuple(seq)]` instead of `arr[seq]`. In the future this will be interpreted as an array index, `arr[np.array(seq)]`, which will result either in an error or a different result.\n",
      "  b = a[a_slice]\n"
     ]
    },
    {
     "data": {
      "text/plain": [
       "array([False, False, False, ..., False, False, False])"
      ]
     },
     "execution_count": 47,
     "metadata": {},
     "output_type": "execute_result"
    }
   ],
   "source": [
    "sst = pps.fit_transform(tercera_datos).dropna()\n",
    "predict = sts_clf.predict(sst)\n",
    "predict[predict==-1]=0\n",
    "predict = predict.astype('bool')\n",
    "predict"
   ]
  },
  {
   "cell_type": "code",
   "execution_count": 48,
   "metadata": {},
   "outputs": [
    {
     "data": {
      "text/plain": [
       "2164108    False\n",
       "2164109    False\n",
       "2164110    False\n",
       "2164111    False\n",
       "2164112    False\n",
       "Name: target, dtype: bool"
      ]
     },
     "execution_count": 48,
     "metadata": {},
     "output_type": "execute_result"
    }
   ],
   "source": [
    "target = trT.fit_transform((pd.concat((sst,tercera['target']),axis=1)).dropna())\n",
    "\n",
    "target = target['target']\n",
    "target.head()"
   ]
  },
  {
   "cell_type": "code",
   "execution_count": 49,
   "metadata": {
    "scrolled": false
   },
   "outputs": [
    {
     "data": {
      "text/plain": [
       "array([[86975,     0],\n",
       "       [ 2732,     0]])"
      ]
     },
     "execution_count": 49,
     "metadata": {},
     "output_type": "execute_result"
    }
   ],
   "source": [
    "mtr.confusion_matrix(target,predict)"
   ]
  },
  {
   "cell_type": "code",
   "execution_count": 50,
   "metadata": {
    "scrolled": true
   },
   "outputs": [
    {
     "name": "stdout",
     "output_type": "stream",
     "text": [
      "0.5\n"
     ]
    },
    {
     "data": {
      "text/plain": [
       "[<matplotlib.lines.Line2D at 0x7f0a8a3dcb70>]"
      ]
     },
     "execution_count": 50,
     "metadata": {},
     "output_type": "execute_result"
    },
    {
     "data": {
      "image/png": "[encoded data removed]",
      "text/plain": [
       "<Figure size 432x288 with 1 Axes>"
      ]
     },
     "metadata": {
      "needs_background": "light"
     },
     "output_type": "display_data"
    }
   ],
   "source": [
    "scr = sts_clf.score_samples(sst)\n",
    "fpr, tpr, thr = mtr.roc_curve(target,scr)\n",
    "print(mtr.roc_auc_score(target,scr))\n",
    "plt.plot([0, 1], [0, 1], 'k--')\n",
    "plt.plot(fpr,tpr)"
   ]
  },
  {
   "cell_type": "markdown",
   "metadata": {},
   "source": [
    "### Butter Estadísticos"
   ]
  },
  {
   "cell_type": "code",
   "execution_count": 51,
   "metadata": {},
   "outputs": [],
   "source": [
    "with open('classifiers/BUTTER_STATS-seizure-classifier.pkl','rb') as f:\n",
    "    bts_clf = pk.load(f)"
   ]
  },
  {
   "cell_type": "code",
   "execution_count": 52,
   "metadata": {},
   "outputs": [
    {
     "name": "stderr",
     "output_type": "stream",
     "text": [
      "/usr/local/anaconda3/envs/TFG/lib/python3.6/site-packages/scipy/signal/_arraytools.py:45: FutureWarning: Using a non-tuple sequence for multidimensional indexing is deprecated; use `arr[tuple(seq)]` instead of `arr[seq]`. In the future this will be interpreted as an array index, `arr[np.array(seq)]`, which will result either in an error or a different result.\n",
      "  b = a[a_slice]\n"
     ]
    },
    {
     "data": {
      "text/plain": [
       "array([False, False, False, ..., False, False, False])"
      ]
     },
     "execution_count": 52,
     "metadata": {},
     "output_type": "execute_result"
    }
   ],
   "source": [
    "bts = ppb.fit_transform(segunda_datos).dropna()\n",
    "predict = bts_clf.predict(bts)\n",
    "predict[predict==-1]=0\n",
    "predict = predict.astype('bool')\n",
    "predict"
   ]
  },
  {
   "cell_type": "code",
   "execution_count": 53,
   "metadata": {},
   "outputs": [
    {
     "data": {
      "text/plain": [
       "6931256    False\n",
       "6931257    False\n",
       "6931258    False\n",
       "6931259    False\n",
       "6931260    False\n",
       "Name: target, dtype: bool"
      ]
     },
     "execution_count": 53,
     "metadata": {},
     "output_type": "execute_result"
    }
   ],
   "source": [
    "target = trT.fit_transform((pd.concat((bts,segunda['target']),axis=1)).dropna())\n",
    "\n",
    "target = target['target']\n",
    "target.head()"
   ]
  },
  {
   "cell_type": "code",
   "execution_count": 54,
   "metadata": {
    "scrolled": false
   },
   "outputs": [
    {
     "data": {
      "text/plain": [
       "array([[102177,      0],\n",
       "       [  2227,      0]])"
      ]
     },
     "execution_count": 54,
     "metadata": {},
     "output_type": "execute_result"
    }
   ],
   "source": [
    "mtr.confusion_matrix(target,predict)"
   ]
  },
  {
   "cell_type": "code",
   "execution_count": 55,
   "metadata": {
    "scrolled": false
   },
   "outputs": [
    {
     "name": "stdout",
     "output_type": "stream",
     "text": [
      "0.5\n"
     ]
    },
    {
     "data": {
      "text/plain": [
       "[<matplotlib.lines.Line2D at 0x7f0a8a3f82b0>]"
      ]
     },
     "execution_count": 55,
     "metadata": {},
     "output_type": "execute_result"
    },
    {
     "data": {
      "image/png": "[encoded data removed]",
      "text/plain": [
       "<Figure size 432x288 with 1 Axes>"
      ]
     },
     "metadata": {
      "needs_background": "light"
     },
     "output_type": "display_data"
    }
   ],
   "source": [
    "scr = bts_clf.score_samples(bts)\n",
    "fpr, tpr, thr = mtr.roc_curve(target,scr)\n",
    "print(mtr.roc_auc_score(target,scr))\n",
    "plt.plot([0, 1], [0, 1], 'k--')\n",
    "plt.plot(fpr,tpr)"
   ]
  },
  {
   "cell_type": "code",
   "execution_count": 56,
   "metadata": {},
   "outputs": [
    {
     "name": "stderr",
     "output_type": "stream",
     "text": [
      "/usr/local/anaconda3/envs/TFG/lib/python3.6/site-packages/scipy/signal/_arraytools.py:45: FutureWarning: Using a non-tuple sequence for multidimensional indexing is deprecated; use `arr[tuple(seq)]` instead of `arr[seq]`. In the future this will be interpreted as an array index, `arr[np.array(seq)]`, which will result either in an error or a different result.\n",
      "  b = a[a_slice]\n"
     ]
    },
    {
     "data": {
      "text/plain": [
       "array([False, False, False, ..., False, False, False])"
      ]
     },
     "execution_count": 56,
     "metadata": {},
     "output_type": "execute_result"
    }
   ],
   "source": [
    "bts = ppb.fit_transform(tercera_datos).dropna()\n",
    "predict = bts_clf.predict(bts)\n",
    "predict[predict==-1]=0\n",
    "predict = predict.astype('bool')\n",
    "predict"
   ]
  },
  {
   "cell_type": "code",
   "execution_count": 57,
   "metadata": {},
   "outputs": [
    {
     "data": {
      "text/plain": [
       "2164108    False\n",
       "2164109    False\n",
       "2164110    False\n",
       "2164111    False\n",
       "2164112    False\n",
       "Name: target, dtype: bool"
      ]
     },
     "execution_count": 57,
     "metadata": {},
     "output_type": "execute_result"
    }
   ],
   "source": [
    "target = trT.fit_transform((pd.concat((bts,tercera['target']),axis=1)).dropna())\n",
    "\n",
    "target = target['target']\n",
    "target.head()"
   ]
  },
  {
   "cell_type": "code",
   "execution_count": 58,
   "metadata": {
    "scrolled": false
   },
   "outputs": [
    {
     "data": {
      "text/plain": [
       "array([[86975,     0],\n",
       "       [ 2732,     0]])"
      ]
     },
     "execution_count": 58,
     "metadata": {},
     "output_type": "execute_result"
    }
   ],
   "source": [
    "mtr.confusion_matrix(target,predict)"
   ]
  },
  {
   "cell_type": "code",
   "execution_count": 59,
   "metadata": {
    "scrolled": false
   },
   "outputs": [
    {
     "name": "stdout",
     "output_type": "stream",
     "text": [
      "0.5\n"
     ]
    },
    {
     "data": {
      "text/plain": [
       "[<matplotlib.lines.Line2D at 0x7f0a8a2e0048>]"
      ]
     },
     "execution_count": 59,
     "metadata": {},
     "output_type": "execute_result"
    },
    {
     "data": {
      "image/png": "[encoded data removed]",
      "text/plain": [
       "<Figure size 432x288 with 1 Axes>"
      ]
     },
     "metadata": {
      "needs_background": "light"
     },
     "output_type": "display_data"
    }
   ],
   "source": [
    "scr = bts_clf.score_samples(bts)\n",
    "fpr, tpr, thr = mtr.roc_curve(target,scr)\n",
    "print(mtr.roc_auc_score(target,scr))\n",
    "plt.plot([0, 1], [0, 1], 'k--')\n",
    "plt.plot(fpr,tpr)"
   ]
  }
 ],
 "metadata": {
  "kernelspec": {
   "display_name": "Python (TFG)",
   "language": "python",
   "name": "tfg"
  },
  "language_info": {
   "codemirror_mode": {
    "name": "ipython",
    "version": 3
   },
   "file_extension": ".py",
   "mimetype": "text/x-python",
   "name": "python",
   "nbconvert_exporter": "python",
   "pygments_lexer": "ipython3",
   "version": "3.6.8"
  }
 },
 "nbformat": 4,
 "nbformat_minor": 2
}
