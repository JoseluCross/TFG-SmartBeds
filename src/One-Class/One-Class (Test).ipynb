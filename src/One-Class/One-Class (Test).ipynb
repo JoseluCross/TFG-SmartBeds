{
 "cells": [
  {
   "cell_type": "markdown",
   "metadata": {},
   "source": [
    "# SmartBeds - One-Class - Pruebas con otros datos\n",
    "## Grado en Ingeniería Informática\n",
    "## Universidad de Burgos\n",
    "##### José Luis Garrido Labrador"
   ]
  },
  {
   "cell_type": "code",
   "execution_count": 1,
   "metadata": {},
   "outputs": [],
   "source": [
    "import pandas as pd # se importa pandas como pd\n",
    "import numpy as np  #numpy como np\n",
    "import matplotlib.pyplot as plt\n",
    "import sys\n",
    "sys.path.append('..')\n",
    "import pickle as pk\n",
    "from sklearn import metrics as mtr\n",
    "from transformers import *"
   ]
  },
  {
   "cell_type": "markdown",
   "metadata": {},
   "source": [
    "### Carga"
   ]
  },
  {
   "cell_type": "code",
   "execution_count": 2,
   "metadata": {},
   "outputs": [],
   "source": [
    "with open('data/crisis_separadas.pkl','rb') as f:\n",
    "    crisis_separadas = pk.load(f)"
   ]
  },
  {
   "cell_type": "code",
   "execution_count": 3,
   "metadata": {},
   "outputs": [
    {
     "data": {
      "text/html": [
       "<div>\n",
       "<style scoped>\n",
       "    .dataframe tbody tr th:only-of-type {\n",
       "        vertical-align: middle;\n",
       "    }\n",
       "\n",
       "    .dataframe tbody tr th {\n",
       "        vertical-align: top;\n",
       "    }\n",
       "\n",
       "    .dataframe thead th {\n",
       "        text-align: right;\n",
       "    }\n",
       "</style>\n",
       "<table border=\"1\" class=\"dataframe\">\n",
       "  <thead>\n",
       "    <tr style=\"text-align: right;\">\n",
       "      <th></th>\n",
       "      <th>DateTime</th>\n",
       "      <th>P1</th>\n",
       "      <th>P2</th>\n",
       "      <th>P3</th>\n",
       "      <th>P4</th>\n",
       "      <th>P5</th>\n",
       "      <th>P6</th>\n",
       "      <th>target</th>\n",
       "    </tr>\n",
       "  </thead>\n",
       "  <tbody>\n",
       "    <tr>\n",
       "      <th>2164084</th>\n",
       "      <td>2019-02-06 21:11:50</td>\n",
       "      <td>0.0</td>\n",
       "      <td>14.754098</td>\n",
       "      <td>27.049180</td>\n",
       "      <td>30.327869</td>\n",
       "      <td>10.655738</td>\n",
       "      <td>0.0</td>\n",
       "      <td>False</td>\n",
       "    </tr>\n",
       "    <tr>\n",
       "      <th>2164085</th>\n",
       "      <td>2019-02-06 21:11:51</td>\n",
       "      <td>0.0</td>\n",
       "      <td>15.573770</td>\n",
       "      <td>26.229508</td>\n",
       "      <td>24.590164</td>\n",
       "      <td>6.557377</td>\n",
       "      <td>0.0</td>\n",
       "      <td>False</td>\n",
       "    </tr>\n",
       "    <tr>\n",
       "      <th>2164087</th>\n",
       "      <td>2019-02-06 21:11:52</td>\n",
       "      <td>0.0</td>\n",
       "      <td>19.672131</td>\n",
       "      <td>29.508197</td>\n",
       "      <td>23.770492</td>\n",
       "      <td>4.918033</td>\n",
       "      <td>0.0</td>\n",
       "      <td>False</td>\n",
       "    </tr>\n",
       "    <tr>\n",
       "      <th>2164086</th>\n",
       "      <td>2019-02-06 21:11:52</td>\n",
       "      <td>0.0</td>\n",
       "      <td>18.032787</td>\n",
       "      <td>30.327869</td>\n",
       "      <td>27.049180</td>\n",
       "      <td>7.377049</td>\n",
       "      <td>0.0</td>\n",
       "      <td>False</td>\n",
       "    </tr>\n",
       "    <tr>\n",
       "      <th>2164088</th>\n",
       "      <td>2019-02-06 21:11:53</td>\n",
       "      <td>0.0</td>\n",
       "      <td>18.032787</td>\n",
       "      <td>25.409836</td>\n",
       "      <td>17.213115</td>\n",
       "      <td>0.000000</td>\n",
       "      <td>0.0</td>\n",
       "      <td>False</td>\n",
       "    </tr>\n",
       "  </tbody>\n",
       "</table>\n",
       "</div>"
      ],
      "text/plain": [
       "                   DateTime   P1         P2         P3         P4         P5  \\\n",
       "2164084 2019-02-06 21:11:50  0.0  14.754098  27.049180  30.327869  10.655738   \n",
       "2164085 2019-02-06 21:11:51  0.0  15.573770  26.229508  24.590164   6.557377   \n",
       "2164087 2019-02-06 21:11:52  0.0  19.672131  29.508197  23.770492   4.918033   \n",
       "2164086 2019-02-06 21:11:52  0.0  18.032787  30.327869  27.049180   7.377049   \n",
       "2164088 2019-02-06 21:11:53  0.0  18.032787  25.409836  17.213115   0.000000   \n",
       "\n",
       "          P6  target  \n",
       "2164084  0.0   False  \n",
       "2164085  0.0   False  \n",
       "2164087  0.0   False  \n",
       "2164086  0.0   False  \n",
       "2164088  0.0   False  "
      ]
     },
     "execution_count": 3,
     "metadata": {},
     "output_type": "execute_result"
    }
   ],
   "source": [
    "segunda = crisis_separadas[2]\n",
    "segunda.head()"
   ]
  },
  {
   "cell_type": "code",
   "execution_count": 4,
   "metadata": {},
   "outputs": [
    {
     "data": {
      "text/html": [
       "<div>\n",
       "<style scoped>\n",
       "    .dataframe tbody tr th:only-of-type {\n",
       "        vertical-align: middle;\n",
       "    }\n",
       "\n",
       "    .dataframe tbody tr th {\n",
       "        vertical-align: top;\n",
       "    }\n",
       "\n",
       "    .dataframe thead th {\n",
       "        text-align: right;\n",
       "    }\n",
       "</style>\n",
       "<table border=\"1\" class=\"dataframe\">\n",
       "  <thead>\n",
       "    <tr style=\"text-align: right;\">\n",
       "      <th></th>\n",
       "      <th>P1</th>\n",
       "      <th>P2</th>\n",
       "      <th>P3</th>\n",
       "      <th>P4</th>\n",
       "      <th>P5</th>\n",
       "      <th>P6</th>\n",
       "    </tr>\n",
       "  </thead>\n",
       "  <tbody>\n",
       "    <tr>\n",
       "      <th>2164084</th>\n",
       "      <td>0.0</td>\n",
       "      <td>14.754098</td>\n",
       "      <td>27.049180</td>\n",
       "      <td>30.327869</td>\n",
       "      <td>10.655738</td>\n",
       "      <td>0.0</td>\n",
       "    </tr>\n",
       "    <tr>\n",
       "      <th>2164085</th>\n",
       "      <td>0.0</td>\n",
       "      <td>15.573770</td>\n",
       "      <td>26.229508</td>\n",
       "      <td>24.590164</td>\n",
       "      <td>6.557377</td>\n",
       "      <td>0.0</td>\n",
       "    </tr>\n",
       "    <tr>\n",
       "      <th>2164087</th>\n",
       "      <td>0.0</td>\n",
       "      <td>19.672131</td>\n",
       "      <td>29.508197</td>\n",
       "      <td>23.770492</td>\n",
       "      <td>4.918033</td>\n",
       "      <td>0.0</td>\n",
       "    </tr>\n",
       "    <tr>\n",
       "      <th>2164086</th>\n",
       "      <td>0.0</td>\n",
       "      <td>18.032787</td>\n",
       "      <td>30.327869</td>\n",
       "      <td>27.049180</td>\n",
       "      <td>7.377049</td>\n",
       "      <td>0.0</td>\n",
       "    </tr>\n",
       "    <tr>\n",
       "      <th>2164088</th>\n",
       "      <td>0.0</td>\n",
       "      <td>18.032787</td>\n",
       "      <td>25.409836</td>\n",
       "      <td>17.213115</td>\n",
       "      <td>0.000000</td>\n",
       "      <td>0.0</td>\n",
       "    </tr>\n",
       "  </tbody>\n",
       "</table>\n",
       "</div>"
      ],
      "text/plain": [
       "          P1         P2         P3         P4         P5   P6\n",
       "2164084  0.0  14.754098  27.049180  30.327869  10.655738  0.0\n",
       "2164085  0.0  15.573770  26.229508  24.590164   6.557377  0.0\n",
       "2164087  0.0  19.672131  29.508197  23.770492   4.918033  0.0\n",
       "2164086  0.0  18.032787  30.327869  27.049180   7.377049  0.0\n",
       "2164088  0.0  18.032787  25.409836  17.213115   0.000000  0.0"
      ]
     },
     "execution_count": 4,
     "metadata": {},
     "output_type": "execute_result"
    }
   ],
   "source": [
    "segunda_datos = segunda.iloc[:,1:len(segunda.columns)-1]\n",
    "segunda_datos.head()"
   ]
  },
  {
   "cell_type": "markdown",
   "metadata": {},
   "source": [
    "### Transformers"
   ]
  },
  {
   "cell_type": "code",
   "execution_count": 5,
   "metadata": {},
   "outputs": [],
   "source": [
    "svg = SavgolTransformer(15)\n",
    "btr = ButterTransformer(3,0.05)\n",
    "nor = Normalizer(max_=100)\n",
    "avg = PipelineTransformer(StatisticsTransformer(mode='mean',window=25),nor)\n",
    "std = PipelineTransformer(StatisticsTransformer(mode='std',window=25),nor)\n",
    "ran = PipelineTransformer(StatisticsTransformer(mode='range',window=25),nor)\n",
    "var = VarianceThresholdPD(threshold=0.5)\n",
    "con = ConcatenateTransformer(avg,std,ran)\n",
    "#Se quita el ajuste de varianza para mantener el mismo número de entradas\n",
    "pps = PipelineTransformer(svg,con)\n",
    "ppb = PipelineTransformer(btr,con)\n",
    "ppr = PipelineTransformer(con)\n",
    "ppr_s = PipelineTransformer(svg)\n",
    "ppr_b = PipelineTransformer(btr)"
   ]
  },
  {
   "cell_type": "markdown",
   "metadata": {},
   "source": [
    "### Brutos"
   ]
  },
  {
   "cell_type": "code",
   "execution_count": 6,
   "metadata": {},
   "outputs": [],
   "source": [
    "with open('classifiers/RAW-seizure-classifier.pkl','rb') as f:\n",
    "    raw_clf = pk.load(f)"
   ]
  },
  {
   "cell_type": "code",
   "execution_count": 7,
   "metadata": {},
   "outputs": [
    {
     "data": {
      "text/plain": [
       "array([False, False, False, ..., False, False, False])"
      ]
     },
     "execution_count": 7,
     "metadata": {},
     "output_type": "execute_result"
    }
   ],
   "source": [
    "predict = raw_clf.predict(segunda_datos)\n",
    "predict[predict==-1]=0\n",
    "predict = predict.astype('bool')\n",
    "predict"
   ]
  },
  {
   "cell_type": "code",
   "execution_count": 8,
   "metadata": {},
   "outputs": [
    {
     "data": {
      "text/plain": [
       "array([[86990,     0],\n",
       "       [ 2741,     0]])"
      ]
     },
     "execution_count": 8,
     "metadata": {},
     "output_type": "execute_result"
    }
   ],
   "source": [
    "mtr.confusion_matrix(segunda['target'],predict)"
   ]
  },
  {
   "cell_type": "markdown",
   "metadata": {},
   "source": [
    "### Estadísticos"
   ]
  },
  {
   "cell_type": "code",
   "execution_count": 9,
   "metadata": {},
   "outputs": [],
   "source": [
    "with open('classifiers/STATS-seizure-classifier.pkl','rb') as f:\n",
    "    sts_clf = pk.load(f)"
   ]
  },
  {
   "cell_type": "code",
   "execution_count": 10,
   "metadata": {},
   "outputs": [
    {
     "data": {
      "text/plain": [
       "array([False, False, False, ..., False, False, False])"
      ]
     },
     "execution_count": 10,
     "metadata": {},
     "output_type": "execute_result"
    }
   ],
   "source": [
    "prd = con.fit_transform(segunda_datos).dropna()\n",
    "predict = sts_clf.predict(prd)\n",
    "predict[predict==-1]=0\n",
    "predict = predict.astype('bool')\n",
    "predict"
   ]
  },
  {
   "cell_type": "code",
   "execution_count": 11,
   "metadata": {},
   "outputs": [
    {
     "data": {
      "text/plain": [
       "2164108    False\n",
       "2164109    False\n",
       "2164110    False\n",
       "2164111    False\n",
       "2164112    False\n",
       "Name: target, dtype: bool"
      ]
     },
     "execution_count": 11,
     "metadata": {},
     "output_type": "execute_result"
    }
   ],
   "source": [
    "target = (pd.concat((prd,segunda['target']),axis=1)).dropna()['target']\n",
    "target.head()"
   ]
  },
  {
   "cell_type": "code",
   "execution_count": 12,
   "metadata": {
    "scrolled": false
   },
   "outputs": [
    {
     "data": {
      "text/plain": [
       "array([[86966,     0],\n",
       "       [ 2741,     0]])"
      ]
     },
     "execution_count": 12,
     "metadata": {},
     "output_type": "execute_result"
    }
   ],
   "source": [
    "mtr.confusion_matrix(target,predict)"
   ]
  },
  {
   "cell_type": "markdown",
   "metadata": {},
   "source": [
    "### SavGol"
   ]
  },
  {
   "cell_type": "code",
   "execution_count": 13,
   "metadata": {},
   "outputs": [],
   "source": [
    "with open('classifiers/SAVGOL-seizure-classifier.pkl','rb') as f:\n",
    "    sav_clf = pk.load(f)"
   ]
  },
  {
   "cell_type": "code",
   "execution_count": 15,
   "metadata": {},
   "outputs": [
    {
     "data": {
      "text/plain": [
       "array([False, False, False, ..., False, False, False])"
      ]
     },
     "execution_count": 15,
     "metadata": {},
     "output_type": "execute_result"
    }
   ],
   "source": [
    "sav = ppr_s.fit_transform(segunda_datos).dropna()\n",
    "predict = sav_clf.predict(sav)\n",
    "predict[predict==-1]=0\n",
    "predict = predict.astype('bool')\n",
    "predict"
   ]
  },
  {
   "cell_type": "code",
   "execution_count": 16,
   "metadata": {},
   "outputs": [
    {
     "data": {
      "text/plain": [
       "2164084    False\n",
       "2164085    False\n",
       "2164087    False\n",
       "2164086    False\n",
       "2164088    False\n",
       "Name: target, dtype: bool"
      ]
     },
     "execution_count": 16,
     "metadata": {},
     "output_type": "execute_result"
    }
   ],
   "source": [
    "target = (pd.concat((sav,segunda['target']),axis=1)).dropna()['target']\n",
    "target.head()"
   ]
  },
  {
   "cell_type": "code",
   "execution_count": 17,
   "metadata": {
    "scrolled": true
   },
   "outputs": [
    {
     "data": {
      "text/plain": [
       "array([[86990,     0],\n",
       "       [ 2741,     0]])"
      ]
     },
     "execution_count": 17,
     "metadata": {},
     "output_type": "execute_result"
    }
   ],
   "source": [
    "mtr.confusion_matrix(target,predict)"
   ]
  },
  {
   "cell_type": "markdown",
   "metadata": {},
   "source": [
    "### Butter"
   ]
  },
  {
   "cell_type": "code",
   "execution_count": 18,
   "metadata": {},
   "outputs": [],
   "source": [
    "with open('classifiers/BUTTER-seizure-classifier.pkl','rb') as f:\n",
    "    btt_clf = pk.load(f)"
   ]
  },
  {
   "cell_type": "code",
   "execution_count": 19,
   "metadata": {},
   "outputs": [
    {
     "name": "stderr",
     "output_type": "stream",
     "text": [
      "/usr/local/anaconda3/envs/TFG/lib/python3.6/site-packages/scipy/signal/_arraytools.py:45: FutureWarning: Using a non-tuple sequence for multidimensional indexing is deprecated; use `arr[tuple(seq)]` instead of `arr[seq]`. In the future this will be interpreted as an array index, `arr[np.array(seq)]`, which will result either in an error or a different result.\n",
      "  b = a[a_slice]\n"
     ]
    },
    {
     "data": {
      "text/plain": [
       "array([False, False, False, ..., False, False, False])"
      ]
     },
     "execution_count": 19,
     "metadata": {},
     "output_type": "execute_result"
    }
   ],
   "source": [
    "but = ppr_b.fit_transform(segunda_datos).dropna()\n",
    "predict = btt_clf.predict(but)\n",
    "predict[predict==-1]=0\n",
    "predict = predict.astype('bool')\n",
    "predict"
   ]
  },
  {
   "cell_type": "code",
   "execution_count": 20,
   "metadata": {},
   "outputs": [
    {
     "data": {
      "text/plain": [
       "2164084    False\n",
       "2164085    False\n",
       "2164087    False\n",
       "2164086    False\n",
       "2164088    False\n",
       "Name: target, dtype: bool"
      ]
     },
     "execution_count": 20,
     "metadata": {},
     "output_type": "execute_result"
    }
   ],
   "source": [
    "target = (pd.concat((but,segunda['target']),axis=1)).dropna()['target']\n",
    "target.head()"
   ]
  },
  {
   "cell_type": "code",
   "execution_count": 21,
   "metadata": {
    "scrolled": false
   },
   "outputs": [
    {
     "data": {
      "text/plain": [
       "array([[86990,     0],\n",
       "       [ 2741,     0]])"
      ]
     },
     "execution_count": 21,
     "metadata": {},
     "output_type": "execute_result"
    }
   ],
   "source": [
    "mtr.confusion_matrix(target,predict)"
   ]
  },
  {
   "cell_type": "markdown",
   "metadata": {},
   "source": [
    "### SavGol Estadísticos"
   ]
  },
  {
   "cell_type": "code",
   "execution_count": 22,
   "metadata": {},
   "outputs": [],
   "source": [
    "with open('classifiers/SAVGOL-STATS-seizure-classifier.pkl','rb') as f:\n",
    "    sst_clf = pk.load(f)"
   ]
  },
  {
   "cell_type": "code",
   "execution_count": 23,
   "metadata": {},
   "outputs": [
    {
     "name": "stderr",
     "output_type": "stream",
     "text": [
      "/usr/local/anaconda3/envs/TFG/lib/python3.6/site-packages/scipy/signal/_arraytools.py:45: FutureWarning: Using a non-tuple sequence for multidimensional indexing is deprecated; use `arr[tuple(seq)]` instead of `arr[seq]`. In the future this will be interpreted as an array index, `arr[np.array(seq)]`, which will result either in an error or a different result.\n",
      "  b = a[a_slice]\n"
     ]
    },
    {
     "data": {
      "text/plain": [
       "array([False, False, False, ..., False, False, False])"
      ]
     },
     "execution_count": 23,
     "metadata": {},
     "output_type": "execute_result"
    }
   ],
   "source": [
    "sst = pps.fit_transform(segunda_datos).dropna()\n",
    "predict = sts_clf.predict(sst)\n",
    "predict[predict==-1]=0\n",
    "predict = predict.astype('bool')\n",
    "predict"
   ]
  },
  {
   "cell_type": "code",
   "execution_count": 24,
   "metadata": {},
   "outputs": [
    {
     "data": {
      "text/plain": [
       "2164108    False\n",
       "2164109    False\n",
       "2164110    False\n",
       "2164111    False\n",
       "2164112    False\n",
       "Name: target, dtype: bool"
      ]
     },
     "execution_count": 24,
     "metadata": {},
     "output_type": "execute_result"
    }
   ],
   "source": [
    "target = (pd.concat((sst,segunda['target']),axis=1)).dropna()['target']\n",
    "target.head()"
   ]
  },
  {
   "cell_type": "code",
   "execution_count": 25,
   "metadata": {
    "scrolled": false
   },
   "outputs": [
    {
     "data": {
      "text/plain": [
       "array([[86966,     0],\n",
       "       [ 2741,     0]])"
      ]
     },
     "execution_count": 25,
     "metadata": {},
     "output_type": "execute_result"
    }
   ],
   "source": [
    "mtr.confusion_matrix(target,predict)"
   ]
  },
  {
   "cell_type": "markdown",
   "metadata": {},
   "source": [
    "### Butter Estadísticos"
   ]
  },
  {
   "cell_type": "code",
   "execution_count": 26,
   "metadata": {},
   "outputs": [],
   "source": [
    "with open('classifiers/BUTTER_STATS-seizure-classifier.pkl','rb') as f:\n",
    "    bts_clf = pk.load(f)"
   ]
  },
  {
   "cell_type": "code",
   "execution_count": 27,
   "metadata": {},
   "outputs": [
    {
     "name": "stderr",
     "output_type": "stream",
     "text": [
      "/usr/local/anaconda3/envs/TFG/lib/python3.6/site-packages/scipy/signal/_arraytools.py:45: FutureWarning: Using a non-tuple sequence for multidimensional indexing is deprecated; use `arr[tuple(seq)]` instead of `arr[seq]`. In the future this will be interpreted as an array index, `arr[np.array(seq)]`, which will result either in an error or a different result.\n",
      "  b = a[a_slice]\n"
     ]
    },
    {
     "data": {
      "text/plain": [
       "array([False, False, False, ..., False, False, False])"
      ]
     },
     "execution_count": 27,
     "metadata": {},
     "output_type": "execute_result"
    }
   ],
   "source": [
    "bts = ppb.fit_transform(segunda_datos).dropna()\n",
    "predict = sts_clf.predict(bts)\n",
    "predict[predict==-1]=0\n",
    "predict = predict.astype('bool')\n",
    "predict"
   ]
  },
  {
   "cell_type": "code",
   "execution_count": 28,
   "metadata": {},
   "outputs": [
    {
     "data": {
      "text/plain": [
       "2164108    False\n",
       "2164109    False\n",
       "2164110    False\n",
       "2164111    False\n",
       "2164112    False\n",
       "Name: target, dtype: bool"
      ]
     },
     "execution_count": 28,
     "metadata": {},
     "output_type": "execute_result"
    }
   ],
   "source": [
    "target = (pd.concat((bts,segunda['target']),axis=1)).dropna()['target']\n",
    "target.head()"
   ]
  },
  {
   "cell_type": "code",
   "execution_count": 29,
   "metadata": {
    "scrolled": false
   },
   "outputs": [
    {
     "data": {
      "text/plain": [
       "array([[86966,     0],\n",
       "       [ 2741,     0]])"
      ]
     },
     "execution_count": 29,
     "metadata": {},
     "output_type": "execute_result"
    }
   ],
   "source": [
    "mtr.confusion_matrix(target,predict)"
   ]
  }
 ],
 "metadata": {
  "kernelspec": {
   "display_name": "Python (TFG)",
   "language": "python",
   "name": "tfg"
  },
  "language_info": {
   "codemirror_mode": {
    "name": "ipython",
    "version": 3
   },
   "file_extension": ".py",
   "mimetype": "text/x-python",
   "name": "python",
   "nbconvert_exporter": "python",
   "pygments_lexer": "ipython3",
   "version": "3.6.8"
  }
 },
 "nbformat": 4,
 "nbformat_minor": 2
}
