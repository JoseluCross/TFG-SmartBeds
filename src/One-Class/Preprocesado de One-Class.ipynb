{
 "cells": [
  {
   "cell_type": "markdown",
   "metadata": {},
   "source": [
    "# SmartBeds - Preprocesado de One-Class\n",
    "\n",
    "## Grado en Ingeniería Informática\n",
    "## Universidad de Burgos\n",
    "##### José Luis Garrido Labrador"
   ]
  },
  {
   "cell_type": "code",
   "execution_count": 1,
   "metadata": {},
   "outputs": [],
   "source": [
    "import pandas as pd # se importa pandas como pd\n",
    "import numpy as np  #numpy como np\n",
    "import matplotlib.pyplot as plt\n",
    "import sys\n",
    "sys.path.append('..')\n",
    "from transformers import *\n",
    "import pickle as pk\n",
    "from utils import dibujado"
   ]
  },
  {
   "cell_type": "markdown",
   "metadata": {},
   "source": [
    "### Carga de los datos"
   ]
  },
  {
   "cell_type": "code",
   "execution_count": 2,
   "metadata": {},
   "outputs": [
    {
     "name": "stdout",
     "output_type": "stream",
     "text": [
      "91\n"
     ]
    }
   ],
   "source": [
    "trozos_limpios = None\n",
    "with open('../data/trozos_limpios.pkl','rb') as f:\n",
    "    trozos_limpios = pk.load(f)\n",
    "print(len(trozos_limpios))"
   ]
  },
  {
   "cell_type": "markdown",
   "metadata": {},
   "source": [
    "Extraemos los día que tienen crisis"
   ]
  },
  {
   "cell_type": "code",
   "execution_count": 3,
   "metadata": {},
   "outputs": [
    {
     "data": {
      "text/plain": [
       "2"
      ]
     },
     "execution_count": 3,
     "metadata": {},
     "output_type": "execute_result"
    }
   ],
   "source": [
    "dias_crisis = []\n",
    "for tl in trozos_limpios:\n",
    "    for index,row in tl.iterrows():\n",
    "        if row['target']:\n",
    "            dias_crisis.append(tl)\n",
    "            break\n",
    "len(dias_crisis)"
   ]
  },
  {
   "cell_type": "code",
   "execution_count": 4,
   "metadata": {},
   "outputs": [],
   "source": [
    "crisis_analisis = dias_crisis[0]"
   ]
  },
  {
   "cell_type": "markdown",
   "metadata": {},
   "source": [
    "Se considera el inicio de la crisis a las 2018-11-10 03:36:10 y el final a las 2018-11-10 03:40:37. Considerando el inicio cuando P1 comienza a valor 0 y terminando cuando P1 baja de 8"
   ]
  },
  {
   "cell_type": "code",
   "execution_count": 5,
   "metadata": {},
   "outputs": [],
   "source": [
    "start = pd.to_datetime(\"2018-11-10 03:36:10\")\n",
    "end = pd.to_datetime(\"2018-11-10 03:40:37\")\n",
    "\n",
    "crisis_real = crisis_analisis.copy()\n",
    "mask = (crisis_real['DateTime'] < start) | (crisis_real['DateTime'] > end)\n",
    "crisis_real.loc[mask,'target']=False"
   ]
  },
  {
   "cell_type": "code",
   "execution_count": 6,
   "metadata": {},
   "outputs": [],
   "source": [
    "with open('crisis_18-nov-10-raw.pdd','wb') as fil:\n",
    "    pk.dump(crisis_real,fil)"
   ]
  },
  {
   "cell_type": "markdown",
   "metadata": {},
   "source": [
    "### Operaciones sobre los datos"
   ]
  },
  {
   "cell_type": "code",
   "execution_count": 7,
   "metadata": {},
   "outputs": [],
   "source": [
    "svg = SavgolTransformer(15)\n",
    "btr = ButterTransformer(3,0.05)\n",
    "nor = Normalizer(max_=100)\n",
    "avg = PipelineTransformer(StatisticsTransformer(mode='mean',window=25),nor)\n",
    "std = PipelineTransformer(StatisticsTransformer(mode='std',window=25),nor)\n",
    "ran = PipelineTransformer(StatisticsTransformer(mode='range',window=25),nor)\n",
    "var = VarianceThresholdPD(threshold=0.5)\n",
    "con = ConcatenateTransformer(avg,std,ran)\n",
    "\n",
    "pps = PipelineTransformer(svg,con,var)\n",
    "ppb = PipelineTransformer(btr,con,var)\n",
    "ppr = PipelineTransformer(con,var)\n",
    "ppr_s = PipelineTransformer(svg,var)\n",
    "ppr_b = PipelineTransformer(btr,var)"
   ]
  },
  {
   "cell_type": "code",
   "execution_count": 8,
   "metadata": {},
   "outputs": [
    {
     "data": {
      "text/html": [
       "<div>\n",
       "<style scoped>\n",
       "    .dataframe tbody tr th:only-of-type {\n",
       "        vertical-align: middle;\n",
       "    }\n",
       "\n",
       "    .dataframe tbody tr th {\n",
       "        vertical-align: top;\n",
       "    }\n",
       "\n",
       "    .dataframe thead th {\n",
       "        text-align: right;\n",
       "    }\n",
       "</style>\n",
       "<table border=\"1\" class=\"dataframe\">\n",
       "  <thead>\n",
       "    <tr style=\"text-align: right;\">\n",
       "      <th></th>\n",
       "      <th>P1</th>\n",
       "      <th>P2</th>\n",
       "      <th>P3</th>\n",
       "      <th>P4</th>\n",
       "      <th>P5</th>\n",
       "      <th>P6</th>\n",
       "    </tr>\n",
       "  </thead>\n",
       "  <tbody>\n",
       "    <tr>\n",
       "      <th>3849685</th>\n",
       "      <td>4.098361</td>\n",
       "      <td>18.852459</td>\n",
       "      <td>22.131148</td>\n",
       "      <td>22.131148</td>\n",
       "      <td>13.114754</td>\n",
       "      <td>6.557377</td>\n",
       "    </tr>\n",
       "    <tr>\n",
       "      <th>3849686</th>\n",
       "      <td>4.098361</td>\n",
       "      <td>18.852459</td>\n",
       "      <td>21.311475</td>\n",
       "      <td>22.131148</td>\n",
       "      <td>13.114754</td>\n",
       "      <td>6.557377</td>\n",
       "    </tr>\n",
       "    <tr>\n",
       "      <th>3849687</th>\n",
       "      <td>4.918033</td>\n",
       "      <td>19.672131</td>\n",
       "      <td>22.131148</td>\n",
       "      <td>22.950820</td>\n",
       "      <td>13.934426</td>\n",
       "      <td>7.377049</td>\n",
       "    </tr>\n",
       "    <tr>\n",
       "      <th>3849688</th>\n",
       "      <td>4.098361</td>\n",
       "      <td>18.852459</td>\n",
       "      <td>21.311475</td>\n",
       "      <td>22.131148</td>\n",
       "      <td>13.114754</td>\n",
       "      <td>6.557377</td>\n",
       "    </tr>\n",
       "    <tr>\n",
       "      <th>3849689</th>\n",
       "      <td>0.000000</td>\n",
       "      <td>18.852459</td>\n",
       "      <td>22.131148</td>\n",
       "      <td>22.950820</td>\n",
       "      <td>13.114754</td>\n",
       "      <td>6.557377</td>\n",
       "    </tr>\n",
       "  </tbody>\n",
       "</table>\n",
       "</div>"
      ],
      "text/plain": [
       "               P1         P2         P3         P4         P5        P6\n",
       "3849685  4.098361  18.852459  22.131148  22.131148  13.114754  6.557377\n",
       "3849686  4.098361  18.852459  21.311475  22.131148  13.114754  6.557377\n",
       "3849687  4.918033  19.672131  22.131148  22.950820  13.934426  7.377049\n",
       "3849688  4.098361  18.852459  21.311475  22.131148  13.114754  6.557377\n",
       "3849689  0.000000  18.852459  22.131148  22.950820  13.114754  6.557377"
      ]
     },
     "execution_count": 8,
     "metadata": {},
     "output_type": "execute_result"
    }
   ],
   "source": [
    "datetimes = crisis_real['DateTime']\n",
    "targets = crisis_real['target']\n",
    "data = crisis_real.iloc[:,1:len(crisis_real.columns)-1]\n",
    "data.head()"
   ]
  },
  {
   "cell_type": "code",
   "execution_count": 9,
   "metadata": {},
   "outputs": [
    {
     "name": "stderr",
     "output_type": "stream",
     "text": [
      "/usr/local/anaconda3/envs/TFG/lib/python3.6/site-packages/scipy/signal/_arraytools.py:45: FutureWarning: Using a non-tuple sequence for multidimensional indexing is deprecated; use `arr[tuple(seq)]` instead of `arr[seq]`. In the future this will be interpreted as an array index, `arr[np.array(seq)]`, which will result either in an error or a different result.\n",
      "  b = a[a_slice]\n",
      "/usr/local/anaconda3/envs/TFG/lib/python3.6/site-packages/scipy/signal/_arraytools.py:45: FutureWarning: Using a non-tuple sequence for multidimensional indexing is deprecated; use `arr[tuple(seq)]` instead of `arr[seq]`. In the future this will be interpreted as an array index, `arr[np.array(seq)]`, which will result either in an error or a different result.\n",
      "  b = a[a_slice]\n",
      "/usr/local/anaconda3/envs/TFG/lib/python3.6/site-packages/scipy/signal/_arraytools.py:45: FutureWarning: Using a non-tuple sequence for multidimensional indexing is deprecated; use `arr[tuple(seq)]` instead of `arr[seq]`. In the future this will be interpreted as an array index, `arr[np.array(seq)]`, which will result either in an error or a different result.\n",
      "  b = a[a_slice]\n",
      "/usr/local/anaconda3/envs/TFG/lib/python3.6/site-packages/scipy/signal/_arraytools.py:45: FutureWarning: Using a non-tuple sequence for multidimensional indexing is deprecated; use `arr[tuple(seq)]` instead of `arr[seq]`. In the future this will be interpreted as an array index, `arr[np.array(seq)]`, which will result either in an error or a different result.\n",
      "  b = a[a_slice]\n"
     ]
    }
   ],
   "source": [
    "lsavgol = ppr_s.fit_transform(data)\n",
    "butterworth = ppr_b.fit_transform(data)\n",
    "stats = ppr.fit_transform(data)\n",
    "savgol_stats = pps.fit_transform(data)\n",
    "butter_stats = ppb.fit_transform(data)\n"
   ]
  },
  {
   "cell_type": "code",
   "execution_count": 14,
   "metadata": {},
   "outputs": [],
   "source": [
    "name = \"crisis_18-nov-10-\"\n",
    "names = ['savgol','butter','stats','savgol-stats','butter-stats']\n",
    "datos = [lsavgol,butterworth,stats,savgol_stats,butter_stats]\n",
    "for i in range(len(datos)):\n",
    "    with open(name+names[i]+\".pdd\",'wb') as fil:\n",
    "        pk.dump(pd.concat((datetimes,datos[i],targets),axis=1),fil)"
   ]
  },
  {
   "cell_type": "code",
   "execution_count": 15,
   "metadata": {},
   "outputs": [
    {
     "data": {
      "text/html": [
       "<div>\n",
       "<style scoped>\n",
       "    .dataframe tbody tr th:only-of-type {\n",
       "        vertical-align: middle;\n",
       "    }\n",
       "\n",
       "    .dataframe tbody tr th {\n",
       "        vertical-align: top;\n",
       "    }\n",
       "\n",
       "    .dataframe thead th {\n",
       "        text-align: right;\n",
       "    }\n",
       "</style>\n",
       "<table border=\"1\" class=\"dataframe\">\n",
       "  <thead>\n",
       "    <tr style=\"text-align: right;\">\n",
       "      <th></th>\n",
       "      <th>DateTime</th>\n",
       "      <th>P1 mean 25</th>\n",
       "      <th>P2 mean 25</th>\n",
       "      <th>P3 mean 25</th>\n",
       "      <th>P4 mean 25</th>\n",
       "      <th>P5 mean 25</th>\n",
       "      <th>P6 mean 25</th>\n",
       "      <th>P1 std 25</th>\n",
       "      <th>P2 std 25</th>\n",
       "      <th>P3 std 25</th>\n",
       "      <th>P4 std 25</th>\n",
       "      <th>P5 std 25</th>\n",
       "      <th>P6 std 25</th>\n",
       "      <th>P1 range 25</th>\n",
       "      <th>P2 range 25</th>\n",
       "      <th>P3 range 25</th>\n",
       "      <th>P4 range 25</th>\n",
       "      <th>P5 range 25</th>\n",
       "      <th>P6 range 25</th>\n",
       "      <th>target</th>\n",
       "    </tr>\n",
       "  </thead>\n",
       "  <tbody>\n",
       "    <tr>\n",
       "      <th>3849685</th>\n",
       "      <td>2018-11-09 21:03:27</td>\n",
       "      <td>NaN</td>\n",
       "      <td>NaN</td>\n",
       "      <td>NaN</td>\n",
       "      <td>NaN</td>\n",
       "      <td>NaN</td>\n",
       "      <td>NaN</td>\n",
       "      <td>NaN</td>\n",
       "      <td>NaN</td>\n",
       "      <td>NaN</td>\n",
       "      <td>NaN</td>\n",
       "      <td>NaN</td>\n",
       "      <td>NaN</td>\n",
       "      <td>NaN</td>\n",
       "      <td>NaN</td>\n",
       "      <td>NaN</td>\n",
       "      <td>NaN</td>\n",
       "      <td>NaN</td>\n",
       "      <td>NaN</td>\n",
       "      <td>False</td>\n",
       "    </tr>\n",
       "    <tr>\n",
       "      <th>3849686</th>\n",
       "      <td>2018-11-09 21:03:27</td>\n",
       "      <td>NaN</td>\n",
       "      <td>NaN</td>\n",
       "      <td>NaN</td>\n",
       "      <td>NaN</td>\n",
       "      <td>NaN</td>\n",
       "      <td>NaN</td>\n",
       "      <td>NaN</td>\n",
       "      <td>NaN</td>\n",
       "      <td>NaN</td>\n",
       "      <td>NaN</td>\n",
       "      <td>NaN</td>\n",
       "      <td>NaN</td>\n",
       "      <td>NaN</td>\n",
       "      <td>NaN</td>\n",
       "      <td>NaN</td>\n",
       "      <td>NaN</td>\n",
       "      <td>NaN</td>\n",
       "      <td>NaN</td>\n",
       "      <td>False</td>\n",
       "    </tr>\n",
       "    <tr>\n",
       "      <th>3849687</th>\n",
       "      <td>2018-11-09 21:03:28</td>\n",
       "      <td>NaN</td>\n",
       "      <td>NaN</td>\n",
       "      <td>NaN</td>\n",
       "      <td>NaN</td>\n",
       "      <td>NaN</td>\n",
       "      <td>NaN</td>\n",
       "      <td>NaN</td>\n",
       "      <td>NaN</td>\n",
       "      <td>NaN</td>\n",
       "      <td>NaN</td>\n",
       "      <td>NaN</td>\n",
       "      <td>NaN</td>\n",
       "      <td>NaN</td>\n",
       "      <td>NaN</td>\n",
       "      <td>NaN</td>\n",
       "      <td>NaN</td>\n",
       "      <td>NaN</td>\n",
       "      <td>NaN</td>\n",
       "      <td>False</td>\n",
       "    </tr>\n",
       "    <tr>\n",
       "      <th>3849688</th>\n",
       "      <td>2018-11-09 21:03:29</td>\n",
       "      <td>NaN</td>\n",
       "      <td>NaN</td>\n",
       "      <td>NaN</td>\n",
       "      <td>NaN</td>\n",
       "      <td>NaN</td>\n",
       "      <td>NaN</td>\n",
       "      <td>NaN</td>\n",
       "      <td>NaN</td>\n",
       "      <td>NaN</td>\n",
       "      <td>NaN</td>\n",
       "      <td>NaN</td>\n",
       "      <td>NaN</td>\n",
       "      <td>NaN</td>\n",
       "      <td>NaN</td>\n",
       "      <td>NaN</td>\n",
       "      <td>NaN</td>\n",
       "      <td>NaN</td>\n",
       "      <td>NaN</td>\n",
       "      <td>False</td>\n",
       "    </tr>\n",
       "    <tr>\n",
       "      <th>3849689</th>\n",
       "      <td>2018-11-09 21:03:30</td>\n",
       "      <td>NaN</td>\n",
       "      <td>NaN</td>\n",
       "      <td>NaN</td>\n",
       "      <td>NaN</td>\n",
       "      <td>NaN</td>\n",
       "      <td>NaN</td>\n",
       "      <td>NaN</td>\n",
       "      <td>NaN</td>\n",
       "      <td>NaN</td>\n",
       "      <td>NaN</td>\n",
       "      <td>NaN</td>\n",
       "      <td>NaN</td>\n",
       "      <td>NaN</td>\n",
       "      <td>NaN</td>\n",
       "      <td>NaN</td>\n",
       "      <td>NaN</td>\n",
       "      <td>NaN</td>\n",
       "      <td>NaN</td>\n",
       "      <td>False</td>\n",
       "    </tr>\n",
       "  </tbody>\n",
       "</table>\n",
       "</div>"
      ],
      "text/plain": [
       "                   DateTime  P1 mean 25  P2 mean 25  P3 mean 25  P4 mean 25  \\\n",
       "3849685 2018-11-09 21:03:27         NaN         NaN         NaN         NaN   \n",
       "3849686 2018-11-09 21:03:27         NaN         NaN         NaN         NaN   \n",
       "3849687 2018-11-09 21:03:28         NaN         NaN         NaN         NaN   \n",
       "3849688 2018-11-09 21:03:29         NaN         NaN         NaN         NaN   \n",
       "3849689 2018-11-09 21:03:30         NaN         NaN         NaN         NaN   \n",
       "\n",
       "         P5 mean 25  P6 mean 25  P1 std 25  P2 std 25  P3 std 25  P4 std 25  \\\n",
       "3849685         NaN         NaN        NaN        NaN        NaN        NaN   \n",
       "3849686         NaN         NaN        NaN        NaN        NaN        NaN   \n",
       "3849687         NaN         NaN        NaN        NaN        NaN        NaN   \n",
       "3849688         NaN         NaN        NaN        NaN        NaN        NaN   \n",
       "3849689         NaN         NaN        NaN        NaN        NaN        NaN   \n",
       "\n",
       "         P5 std 25  P6 std 25  P1 range 25  P2 range 25  P3 range 25  \\\n",
       "3849685        NaN        NaN          NaN          NaN          NaN   \n",
       "3849686        NaN        NaN          NaN          NaN          NaN   \n",
       "3849687        NaN        NaN          NaN          NaN          NaN   \n",
       "3849688        NaN        NaN          NaN          NaN          NaN   \n",
       "3849689        NaN        NaN          NaN          NaN          NaN   \n",
       "\n",
       "         P4 range 25  P5 range 25  P6 range 25  target  \n",
       "3849685          NaN          NaN          NaN   False  \n",
       "3849686          NaN          NaN          NaN   False  \n",
       "3849687          NaN          NaN          NaN   False  \n",
       "3849688          NaN          NaN          NaN   False  \n",
       "3849689          NaN          NaN          NaN   False  "
      ]
     },
     "execution_count": 15,
     "metadata": {},
     "output_type": "execute_result"
    }
   ],
   "source": [
    "with open(name+\"stats.pdd\",'rb') as f:\n",
    "    opn = pk.load(f)\n",
    "opn.head()"
   ]
  },
  {
   "cell_type": "code",
   "execution_count": null,
   "metadata": {},
   "outputs": [],
   "source": []
  }
 ],
 "metadata": {
  "kernelspec": {
   "display_name": "Python (TFG)",
   "language": "python",
   "name": "tfg"
  },
  "language_info": {
   "codemirror_mode": {
    "name": "ipython",
    "version": 3
   },
   "file_extension": ".py",
   "mimetype": "text/x-python",
   "name": "python",
   "nbconvert_exporter": "python",
   "pygments_lexer": "ipython3",
   "version": "3.6.8"
  }
 },
 "nbformat": 4,
 "nbformat_minor": 2
}
