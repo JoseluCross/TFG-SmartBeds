{
 "cells": [
  {
   "cell_type": "markdown",
   "metadata": {},
   "source": [
    "# SmartBeds - Preprocesado de One-Class\n",
    "\n",
    "## Grado en Ingeniería Informática\n",
    "## Universidad de Burgos\n",
    "##### José Luis Garrido Labrador"
   ]
  },
  {
   "cell_type": "code",
   "execution_count": 1,
   "metadata": {},
   "outputs": [],
   "source": [
    "import pandas as pd # se importa pandas como pd\n",
    "import numpy as np  #numpy como np\n",
    "from transformers import *\n",
    "import pickle as pk"
   ]
  },
  {
   "cell_type": "markdown",
   "metadata": {},
   "source": [
    "### Carga de los datos"
   ]
  },
  {
   "cell_type": "code",
   "execution_count": 2,
   "metadata": {},
   "outputs": [],
   "source": [
    "with open('data/crisis_separadas.pkl','rb') as f:\n",
    "    crisis = pk.load(f)"
   ]
  },
  {
   "cell_type": "markdown",
   "metadata": {},
   "source": [
    "### Transformación de los datos"
   ]
  },
  {
   "cell_type": "code",
   "execution_count": null,
   "metadata": {},
   "outputs": [],
   "source": [
    "wekaAVG = PipelineTransformer(StatisticsTransformer(mode='mean',window=90),nor)\n",
    "wekaSTD = PipelineTransformer(StatisticsTransformer(mode='std',window=90),nor)\n",
    "wekaCON = ConcatenateTransformer(wekaAVG,wekaSTD)"
   ]
  },
  {
   "cell_type": "code",
   "execution_count": null,
   "metadata": {},
   "outputs": [],
   "source": []
  },
  {
   "cell_type": "code",
   "execution_count": null,
   "metadata": {},
   "outputs": [],
   "source": [
    "#Transformados según los resultados de Alicia\n",
    "dias_crisis_pre = []\n",
    "for d in dias_crisis:\n",
    "    crisis = 1\n",
    "    dcp = wekaCON.fit_transform(d)\n",
    "    dcp.to_csv(path+'crisis-'+crisis+'.csv')\n",
    "    crisis += 1\n",
    "total = pd.concat(dias_crisis_pre,axis=1)\n",
    "total.to_csv(path+'todas-las-crisis.csv')"
   ]
  }
 ],
 "metadata": {
  "kernelspec": {
   "display_name": "Python (TFG)",
   "language": "python",
   "name": "tfg"
  },
  "language_info": {
   "codemirror_mode": {
    "name": "ipython",
    "version": 3
   },
   "file_extension": ".py",
   "mimetype": "text/x-python",
   "name": "python",
   "nbconvert_exporter": "python",
   "pygments_lexer": "ipython3",
   "version": "3.6.8"
  }
 },
 "nbformat": 4,
 "nbformat_minor": 2
}
