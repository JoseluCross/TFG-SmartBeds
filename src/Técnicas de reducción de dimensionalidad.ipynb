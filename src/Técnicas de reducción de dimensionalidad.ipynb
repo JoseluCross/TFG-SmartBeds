{
 "cells": [
  {
   "cell_type": "markdown",
   "metadata": {},
   "source": [
    "# SmartBeds - Manifolds\n",
    "\n",
    "## Grado en Ingeniería Informática\n",
    "## Universidad de Burgos\n",
    "##### José Luis Garrido Labrador"
   ]
  },
  {
   "cell_type": "code",
   "execution_count": 1,
   "metadata": {},
   "outputs": [],
   "source": [
    "%matplotlib inline \n",
    "#para dibujar en el propio notebook\n",
    "import pandas as pd # se importa pandas como pd\n",
    "import numpy as np  #numpy como np\n",
    "import matplotlib.pyplot as plt #%matplotlilib.pyplot como plt\n",
    "import mpl_toolkits.mplot3d #Matplotlib 3d\n",
    "import pickle as pk #Pikcle as pk\n",
    "import gc #Garbage colector"
   ]
  },
  {
   "cell_type": "markdown",
   "metadata": {},
   "source": [
    "## Lectura de datos"
   ]
  },
  {
   "cell_type": "code",
   "execution_count": 2,
   "metadata": {},
   "outputs": [],
   "source": [
    "with open('datos.pdd','rb') as f:\n",
    "    datos = pk.load(f)\n",
    "    \n",
    "datos_seizure = datos.loc[datos['target']==True]\n",
    "datos_notSeizure = datos.loc[datos['target']==False]"
   ]
  },
  {
   "cell_type": "code",
   "execution_count": 22,
   "metadata": {},
   "outputs": [],
   "source": [
    "with open('datosE.pdd','rb') as f:\n",
    "    dataE = pk.load(f)\n",
    "\n",
    "dataE_seizure = dataE.loc[dataE['target']==True]\n",
    "dataE_notSeizure = dataE.loc[dataE['target']==False]"
   ]
  },
  {
   "cell_type": "markdown",
   "metadata": {},
   "source": [
    "## Particionado - Solo día de ataques"
   ]
  },
  {
   "cell_type": "code",
   "execution_count": 5,
   "metadata": {},
   "outputs": [
    {
     "data": {
      "text/plain": [
       "118138"
      ]
     },
     "execution_count": 5,
     "metadata": {},
     "output_type": "execute_result"
    }
   ],
   "source": [
    "### Días donde hubo crisis\n",
    "dayOfSeizures = set()\n",
    "\n",
    "for i in datos_seizure['DateTime']:\n",
    "    dayOfSeizures.add(i.date())\n",
    "\n",
    "\n",
    "#Todos los datos de esos días\n",
    "crit = datos['DateTime'].map(lambda x: x.date() in dayOfSeizures)\n",
    "\n",
    "datosPart = datos[crit]\n",
    "datosPart.head()\n",
    "len(datosPart)"
   ]
  },
  {
   "cell_type": "markdown",
   "metadata": {},
   "source": [
    "## SpectralEmbedding"
   ]
  },
  {
   "cell_type": "code",
   "execution_count": 3,
   "metadata": {},
   "outputs": [],
   "source": [
    "from sklearn.manifold import SpectralEmbedding as SE"
   ]
  },
  {
   "cell_type": "markdown",
   "metadata": {},
   "source": [
    "### Datos brutos"
   ]
  },
  {
   "cell_type": "code",
   "execution_count": 6,
   "metadata": {},
   "outputs": [],
   "source": [
    "data = datosPart.iloc[:,1:13]"
   ]
  },
  {
   "cell_type": "code",
   "execution_count": 7,
   "metadata": {},
   "outputs": [],
   "source": [
    "seB = SE(n_components=2,n_neighbors=50).fit_transform(data) #Con 50 vecinos no peta"
   ]
  },
  {
   "cell_type": "code",
   "execution_count": null,
   "metadata": {
    "scrolled": true
   },
   "outputs": [
    {
     "data": {
      "text/plain": [
       "Text(0.5, 1.0, 'Spectral Embedding Raw - Days of seizures')"
      ]
     },
     "execution_count": 8,
     "metadata": {},
     "output_type": "execute_result"
    }
   ],
   "source": [
    "plt.figure(figsize=(24,24))\n",
    "seSample = seB\n",
    "\n",
    "target = datosPart['target'].values\n",
    "notTarget = np.logical_not(target)\n",
    "\n",
    "serie = pd.DataFrame(seSample)\n",
    "\n",
    "X = pd.Series(serie[0]).loc[notTarget]\n",
    "Y = pd.Series(serie[1]).loc[notTarget]\n",
    "\n",
    "X_t = pd.Series(serie[0]).loc[target]\n",
    "Y_t = pd.Series(serie[1]).loc[target]\n",
    "\n",
    "plt.scatter(X,Y,s=1)\n",
    "plt.scatter(X_t,Y_t,s=1,c='r')\n",
    "plt.title('Spectral Embedding Raw - Days of seizures')\n"
   ]
  },
  {
   "cell_type": "code",
   "execution_count": null,
   "metadata": {},
   "outputs": [],
   "source": []
  }
 ],
 "metadata": {
  "kernelspec": {
   "display_name": "Python (TFG)",
   "language": "python",
   "name": "tfg"
  },
  "language_info": {
   "codemirror_mode": {
    "name": "ipython",
    "version": 3
   },
   "file_extension": ".py",
   "mimetype": "text/x-python",
   "name": "python",
   "nbconvert_exporter": "python",
   "pygments_lexer": "ipython3",
   "version": "3.6.8"
  }
 },
 "nbformat": 4,
 "nbformat_minor": 2
}
